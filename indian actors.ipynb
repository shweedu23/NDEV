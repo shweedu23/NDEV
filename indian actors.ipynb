{
 "cells": [
  {
   "cell_type": "code",
   "execution_count": 83,
   "metadata": {},
   "outputs": [],
   "source": [
    "%matplotlib inline"
   ]
  },
  {
   "cell_type": "code",
   "execution_count": 84,
   "metadata": {},
   "outputs": [],
   "source": [
    "import numpy as np\n",
    "import matplotlib.pyplot as plt\n",
    "import pandas as pd\n",
    "from scipy.misc import *"
   ]
  },
  {
   "cell_type": "code",
   "execution_count": 85,
   "metadata": {},
   "outputs": [],
   "source": [
    "import os,sys\n",
    "from PIL import Image\n",
    "import cv2 #OpenCV library\n",
    "from tqdm import tqdm"
   ]
  },
  {
   "cell_type": "code",
   "execution_count": 86,
   "metadata": {},
   "outputs": [],
   "source": [
    "os.chdir(r'C:/Users/shwee/OneDrive/Desktop/NDEV/proj/Dataf')"
   ]
  },
  {
   "cell_type": "code",
   "execution_count": 87,
   "metadata": {},
   "outputs": [
    {
     "data": {
      "text/plain": [
       "'C:\\\\Users\\\\shwee\\\\OneDrive\\\\Desktop\\\\NDEV\\\\proj\\\\Dataf'"
      ]
     },
     "execution_count": 87,
     "metadata": {},
     "output_type": "execute_result"
    }
   ],
   "source": [
    "DATA_HOME_DIR = os.getcwd()\n",
    "%pwd"
   ]
  },
  {
   "cell_type": "code",
   "execution_count": 88,
   "metadata": {},
   "outputs": [],
   "source": [
    "train = pd.read_csv(\"train.csv\")\n",
    "test = pd.read_csv(\"test.csv\")"
   ]
  },
  {
   "cell_type": "code",
   "execution_count": 89,
   "metadata": {},
   "outputs": [
    {
     "data": {
      "text/html": [
       "<div>\n",
       "<style scoped>\n",
       "    .dataframe tbody tr th:only-of-type {\n",
       "        vertical-align: middle;\n",
       "    }\n",
       "\n",
       "    .dataframe tbody tr th {\n",
       "        vertical-align: top;\n",
       "    }\n",
       "\n",
       "    .dataframe thead th {\n",
       "        text-align: right;\n",
       "    }\n",
       "</style>\n",
       "<table border=\"1\" class=\"dataframe\">\n",
       "  <thead>\n",
       "    <tr style=\"text-align: right;\">\n",
       "      <th></th>\n",
       "      <th>ID</th>\n",
       "      <th>Class</th>\n",
       "    </tr>\n",
       "  </thead>\n",
       "  <tbody>\n",
       "    <tr>\n",
       "      <th>0</th>\n",
       "      <td>377.jpg</td>\n",
       "      <td>MIDDLE</td>\n",
       "    </tr>\n",
       "    <tr>\n",
       "      <th>1</th>\n",
       "      <td>17814.jpg</td>\n",
       "      <td>YOUNG</td>\n",
       "    </tr>\n",
       "    <tr>\n",
       "      <th>2</th>\n",
       "      <td>21283.jpg</td>\n",
       "      <td>MIDDLE</td>\n",
       "    </tr>\n",
       "    <tr>\n",
       "      <th>3</th>\n",
       "      <td>16496.jpg</td>\n",
       "      <td>YOUNG</td>\n",
       "    </tr>\n",
       "    <tr>\n",
       "      <th>4</th>\n",
       "      <td>4487.jpg</td>\n",
       "      <td>MIDDLE</td>\n",
       "    </tr>\n",
       "  </tbody>\n",
       "</table>\n",
       "</div>"
      ],
      "text/plain": [
       "          ID   Class\n",
       "0    377.jpg  MIDDLE\n",
       "1  17814.jpg   YOUNG\n",
       "2  21283.jpg  MIDDLE\n",
       "3  16496.jpg   YOUNG\n",
       "4   4487.jpg  MIDDLE"
      ]
     },
     "execution_count": 89,
     "metadata": {},
     "output_type": "execute_result"
    }
   ],
   "source": [
    "#first 5 rows\n",
    "train.head()"
   ]
  },
  {
   "cell_type": "code",
   "execution_count": 90,
   "metadata": {},
   "outputs": [
    {
     "data": {
      "text/html": [
       "<div>\n",
       "<style scoped>\n",
       "    .dataframe tbody tr th:only-of-type {\n",
       "        vertical-align: middle;\n",
       "    }\n",
       "\n",
       "    .dataframe tbody tr th {\n",
       "        vertical-align: top;\n",
       "    }\n",
       "\n",
       "    .dataframe thead th {\n",
       "        text-align: right;\n",
       "    }\n",
       "</style>\n",
       "<table border=\"1\" class=\"dataframe\">\n",
       "  <thead>\n",
       "    <tr style=\"text-align: right;\">\n",
       "      <th></th>\n",
       "      <th>ID</th>\n",
       "    </tr>\n",
       "  </thead>\n",
       "  <tbody>\n",
       "    <tr>\n",
       "      <th>0</th>\n",
       "      <td>25321.jpg</td>\n",
       "    </tr>\n",
       "    <tr>\n",
       "      <th>1</th>\n",
       "      <td>989.jpg</td>\n",
       "    </tr>\n",
       "    <tr>\n",
       "      <th>2</th>\n",
       "      <td>19277.jpg</td>\n",
       "    </tr>\n",
       "    <tr>\n",
       "      <th>3</th>\n",
       "      <td>13093.jpg</td>\n",
       "    </tr>\n",
       "    <tr>\n",
       "      <th>4</th>\n",
       "      <td>5367.jpg</td>\n",
       "    </tr>\n",
       "  </tbody>\n",
       "</table>\n",
       "</div>"
      ],
      "text/plain": [
       "          ID\n",
       "0  25321.jpg\n",
       "1    989.jpg\n",
       "2  19277.jpg\n",
       "3  13093.jpg\n",
       "4   5367.jpg"
      ]
     },
     "execution_count": 90,
     "metadata": {},
     "output_type": "execute_result"
    }
   ],
   "source": [
    "#first 5 rows\n",
    "test.head()\n"
   ]
  },
  {
   "cell_type": "code",
   "execution_count": 91,
   "metadata": {},
   "outputs": [
    {
     "data": {
      "text/html": [
       "<div>\n",
       "<style scoped>\n",
       "    .dataframe tbody tr th:only-of-type {\n",
       "        vertical-align: middle;\n",
       "    }\n",
       "\n",
       "    .dataframe tbody tr th {\n",
       "        vertical-align: top;\n",
       "    }\n",
       "\n",
       "    .dataframe thead th {\n",
       "        text-align: right;\n",
       "    }\n",
       "</style>\n",
       "<table border=\"1\" class=\"dataframe\">\n",
       "  <thead>\n",
       "    <tr style=\"text-align: right;\">\n",
       "      <th></th>\n",
       "      <th>ID</th>\n",
       "      <th>Class</th>\n",
       "    </tr>\n",
       "  </thead>\n",
       "  <tbody>\n",
       "    <tr>\n",
       "      <th>count</th>\n",
       "      <td>19906</td>\n",
       "      <td>19906</td>\n",
       "    </tr>\n",
       "    <tr>\n",
       "      <th>unique</th>\n",
       "      <td>19906</td>\n",
       "      <td>3</td>\n",
       "    </tr>\n",
       "    <tr>\n",
       "      <th>top</th>\n",
       "      <td>4501.jpg</td>\n",
       "      <td>MIDDLE</td>\n",
       "    </tr>\n",
       "    <tr>\n",
       "      <th>freq</th>\n",
       "      <td>1</td>\n",
       "      <td>10804</td>\n",
       "    </tr>\n",
       "  </tbody>\n",
       "</table>\n",
       "</div>"
      ],
      "text/plain": [
       "              ID   Class\n",
       "count      19906   19906\n",
       "unique     19906       3\n",
       "top     4501.jpg  MIDDLE\n",
       "freq           1   10804"
      ]
     },
     "execution_count": 91,
     "metadata": {},
     "output_type": "execute_result"
    }
   ],
   "source": [
    "train.describe()"
   ]
  },
  {
   "cell_type": "code",
   "execution_count": 92,
   "metadata": {},
   "outputs": [
    {
     "data": {
      "text/plain": [
       "MIDDLE    10804\n",
       "YOUNG      6706\n",
       "OLD        2396\n",
       "Name: Class, dtype: int64"
      ]
     },
     "execution_count": 92,
     "metadata": {},
     "output_type": "execute_result"
    }
   ],
   "source": [
    "#number of values for each class\n",
    "train.Class.value_counts()"
   ]
  },
  {
   "cell_type": "code",
   "execution_count": 93,
   "metadata": {},
   "outputs": [],
   "source": [
    "#defining different paths for training and testing data\n",
    "TRAIN_PATH = DATA_HOME_DIR + '/Train/'\n",
    "TEST_PATH = DATA_HOME_DIR + '/Test/'"
   ]
  },
  {
   "cell_type": "code",
   "execution_count": 94,
   "metadata": {},
   "outputs": [],
   "source": [
    "\n",
    "#read images as arrays\n",
    "def read_image(img_path, mode = 'color', resize = False, size = 32):\n",
    " \n",
    "    if mode == 'grayscale':\n",
    "        img = cv2.imread(img_path, cv2.IMREAD_GRAYSCALE)\n",
    "    elif mode == 'include_opacity':\n",
    "        img = cv2.imread(img_path, cv2.IMREAD_UNCHANGED)\n",
    "    else:\n",
    "        img = cv2.imread(img_path, cv2.IMREAD_COLOR)\n",
    "        img = cv2.cvtColor(img, cv2.COLOR_BGR2RGB)\n",
    "    \n",
    "    if resize == True:\n",
    "        img = cv2.resize(img, (size, size))\n",
    "    \n",
    "    return img"
   ]
  },
  {
   "cell_type": "code",
   "execution_count": 17,
   "metadata": {},
   "outputs": [
    {
     "name": "stderr",
     "output_type": "stream",
     "text": [
      "100%|████████████████████████████████████████████████████████████████████████████| 19906/19906 [11:41<00:00, 28.36it/s]\n",
      "100%|██████████████████████████████████████████████████████████████████████████████| 6636/6636 [04:55<00:00, 22.46it/s]\n"
     ]
    }
   ],
   "source": [
    "## Storing all images as list of arrays so as to allow processing\n",
    "train_data = []\n",
    "test_data = []\n",
    "\n",
    "for img in tqdm(train['ID'].values):\n",
    "    train_data.append(read_image(TRAIN_PATH + '{}'.format(img), resize = True, size = 32))\n",
    "    \n",
    "for img in tqdm(test['ID'].values):\n",
    "    test_data.append(read_image(TEST_PATH + '{}'.format(img), resize = True, size = 32))"
   ]
  },
  {
   "cell_type": "code",
   "execution_count": 95,
   "metadata": {},
   "outputs": [],
   "source": [
    "#training data\n",
    "y_train = train['Class'].values"
   ]
  },
  {
   "cell_type": "code",
   "execution_count": 96,
   "metadata": {},
   "outputs": [],
   "source": [
    "## Checking dimensions and aspect ratio of original images (without resizing the data)\n",
    "rows = [x.shape[0] for x in (train_data+test_data)]\n",
    "cols = [x.shape[1] for x in (train_data+test_data)]\n",
    "channels = [x.shape[2] for x in (train_data+test_data)]\n",
    "aspect_ratio = [x.shape[0]/x.shape[1] for x in (train_data+test_data)]"
   ]
  },
  {
   "cell_type": "code",
   "execution_count": 97,
   "metadata": {},
   "outputs": [
    {
     "name": "stdout",
     "output_type": "stream",
     "text": [
      "Min. and Max. rows = 32 and 32 respectively \n",
      "Min. and Max. cols = 32 and 32 respectively \n",
      "Min. and Max. channels = 3 and 3 respectively \n",
      "Min. and Max. aspect ratio = 1.0 and 1.0 respectively \n",
      "\n"
     ]
    }
   ],
   "source": [
    "## Checking range of the dimesnions and aspect ratio\n",
    "print(\"Min. and Max. rows = {} and {} respectively \\nMin. and Max. cols = {} and {} respectively \\nMin. and Max. channels = {} and {} respectively \\nMin. and Max. aspect ratio = {} and {} respectively \\n\"\n",
    "      .format(min(rows), max(rows), min(cols), max(cols), min(channels), max(channels), min(aspect_ratio), max(aspect_ratio)))"
   ]
  },
  {
   "cell_type": "code",
   "execution_count": 82,
   "metadata": {},
   "outputs": [
    {
     "data": {
      "text/plain": [
       "<matplotlib.image.AxesImage at 0x2372672cbe0>"
      ]
     },
     "execution_count": 82,
     "metadata": {},
     "output_type": "execute_result"
    },
    {
     "data": {
      "image/png": "[encoded data removed]",
      "text/plain": [
       "<Figure size 432x288 with 1 Axes>"
      ]
     },
     "metadata": {
      "needs_background": "light"
     },
     "output_type": "display_data"
    }
   ],
   "source": [
    "## Displaying random images without resizing them\n",
    "\n",
    "#i = np.random.choice(np.arange(len(train_data)))\n",
    "\n",
    "plt.title('{} - {} ; shape : {}'.format(train['ID'].values[i], y_train[i], train_data[i].shape))\n",
    "plt.imshow(train_data[i])"
   ]
  },
  {
   "cell_type": "code",
   "execution_count": 98,
   "metadata": {},
   "outputs": [],
   "source": [
    "#normalizing the data to avoid overfitting and outliers\n",
    "X_train = np.array(train_data, np.float32) / 255.\n",
    "X_test = np.array(test_data, np.float32) / 255."
   ]
  },
  {
   "cell_type": "code",
   "execution_count": 99,
   "metadata": {
    "collapsed": true
   },
   "outputs": [
    {
     "name": "stderr",
     "output_type": "stream",
     "text": [
      "C:\\Users\\shwee\\AppData\\Local\\Continuum\\anaconda3\\lib\\site-packages\\sklearn\\preprocessing\\_encoders.py:415: FutureWarning: The handling of integer data will change in version 0.22. Currently, the categories are determined based on the range [0, max(values)], while in the future they will be determined based on the unique values.\n",
      "If you want the future behaviour and silence this warning, you can specify \"categories='auto'\".\n",
      "In case you used a LabelEncoder before this OneHotEncoder to convert the categories to integers, then you can now use the OneHotEncoder directly.\n",
      "  warnings.warn(msg, FutureWarning)\n",
      "C:\\Users\\shwee\\AppData\\Local\\Continuum\\anaconda3\\lib\\site-packages\\sklearn\\preprocessing\\_encoders.py:451: DeprecationWarning: The 'categorical_features' keyword is deprecated in version 0.20 and will be removed in 0.22. You can use the ColumnTransformer instead.\n",
      "  \"use the ColumnTransformer instead.\", DeprecationWarning)\n"
     ]
    }
   ],
   "source": [
    "# Encoding image labels into target variables (categorical) for easier classification\n",
    "from sklearn.preprocessing import LabelEncoder,OneHotEncoder\n",
    "le = LabelEncoder()\n",
    "y_train = le.fit_transform(y_train)\n",
    "\n",
    "ohe = OneHotEncoder(categorical_features = [0])\n",
    "y_train = ohe.fit_transform(y_train.reshape(-1,1)).toarray()"
   ]
  },
  {
   "cell_type": "code",
   "execution_count": 100,
   "metadata": {},
   "outputs": [
    {
     "data": {
      "text/plain": [
       "(19906, 3)"
      ]
     },
     "execution_count": 100,
     "metadata": {},
     "output_type": "execute_result"
    }
   ],
   "source": [
    "#shape of training data\n",
    "y_train.shape"
   ]
  },
  {
   "cell_type": "code",
   "execution_count": 102,
   "metadata": {},
   "outputs": [],
   "source": [
    "\n",
    "# Importing the Keras libraries and packages for building models\n",
    "import keras\n",
    "from keras.models import Sequential, Model\n",
    "from keras.layers import *\n",
    "from keras.layers.advanced_activations import PReLU, LeakyReLU, ELU\n",
    "from keras.optimizers import SGD\n",
    "from keras.constraints import maxnorm\n",
    "\n",
    "from keras import backend as K\n",
    "\n",
    "from keras.preprocessing import image"
   ]
  },
  {
   "cell_type": "code",
   "execution_count": 104,
   "metadata": {},
   "outputs": [
    {
     "data": {
      "text/plain": [
       "<module 'keras.backend' from 'C:\\\\Users\\\\shwee\\\\AppData\\\\Local\\\\Continuum\\\\anaconda3\\\\lib\\\\site-packages\\\\keras\\\\backend\\\\__init__.py'>"
      ]
     },
     "execution_count": 104,
     "metadata": {},
     "output_type": "execute_result"
    }
   ],
   "source": [
    "#using theano as the backend\n",
    "os.environ['KERAS_BACKEND'] = 'theano'\n",
    "K"
   ]
  },
  {
   "cell_type": "markdown",
   "metadata": {},
   "source": [
    "* CNN with BatchNorm + with DropouT*"
   ]
  },
  {
   "cell_type": "code",
   "execution_count": 105,
   "metadata": {},
   "outputs": [
    {
     "name": "stderr",
     "output_type": "stream",
     "text": [
      "W1007 11:15:09.957281 12556 nn_ops.py:4224] Large dropout rate: 0.6 (>0.5). In TensorFlow 2.x, dropout() uses dropout rate instead of keep_prob. Please ensure that this is intended.\n"
     ]
    }
   ],
   "source": [
    "model = Sequential([\n",
    "        BatchNormalization(input_shape = (32,32,3)),\n",
    "        Convolution2D(32,(3,3), activation='relu'),\n",
    "        BatchNormalization(),\n",
    "        Convolution2D(32,(3,3), activation='relu'),\n",
    "        BatchNormalization(),\n",
    "        MaxPooling2D(),\n",
    "        Convolution2D(64,(3,3), activation='relu'),\n",
    "        BatchNormalization(),\n",
    "        Convolution2D(64,(3,3), activation='relu'),\n",
    "        BatchNormalization(),\n",
    "        MaxPooling2D(),\n",
    "        Flatten(),\n",
    "        Dropout(0.3),\n",
    "        Dense(384, activation='relu'),\n",
    "        Dropout(0.6),\n",
    "        Dense(3, activation='softmax')\n",
    "        ])\n",
    "model.compile(optimizer = 'adam' , loss='categorical_crossentropy', metrics=['accuracy'])"
   ]
  },
  {
   "cell_type": "code",
   "execution_count": 106,
   "metadata": {},
   "outputs": [],
   "source": [
    "model.save_weights('initial_weights.h5')"
   ]
  },
  {
   "cell_type": "code",
   "execution_count": 107,
   "metadata": {},
   "outputs": [
    {
     "name": "stdout",
     "output_type": "stream",
     "text": [
      "Model: \"sequential_8\"\n",
      "_________________________________________________________________\n",
      "Layer (type)                 Output Shape              Param #   \n",
      "=================================================================\n",
      "batch_normalization_44 (Batc (None, 32, 32, 3)         12        \n",
      "_________________________________________________________________\n",
      "conv2d_37 (Conv2D)           (None, 30, 30, 32)        896       \n",
      "_________________________________________________________________\n",
      "batch_normalization_45 (Batc (None, 30, 30, 32)        128       \n",
      "_________________________________________________________________\n",
      "conv2d_38 (Conv2D)           (None, 28, 28, 32)        9248      \n",
      "_________________________________________________________________\n",
      "batch_normalization_46 (Batc (None, 28, 28, 32)        128       \n",
      "_________________________________________________________________\n",
      "max_pooling2d_23 (MaxPooling (None, 14, 14, 32)        0         \n",
      "_________________________________________________________________\n",
      "conv2d_39 (Conv2D)           (None, 12, 12, 64)        18496     \n",
      "_________________________________________________________________\n",
      "batch_normalization_47 (Batc (None, 12, 12, 64)        256       \n",
      "_________________________________________________________________\n",
      "conv2d_40 (Conv2D)           (None, 10, 10, 64)        36928     \n",
      "_________________________________________________________________\n",
      "batch_normalization_48 (Batc (None, 10, 10, 64)        256       \n",
      "_________________________________________________________________\n",
      "max_pooling2d_24 (MaxPooling (None, 5, 5, 64)          0         \n",
      "_________________________________________________________________\n",
      "flatten_8 (Flatten)          (None, 1600)              0         \n",
      "_________________________________________________________________\n",
      "dropout_13 (Dropout)         (None, 1600)              0         \n",
      "_________________________________________________________________\n",
      "dense_15 (Dense)             (None, 384)               614784    \n",
      "_________________________________________________________________\n",
      "dropout_14 (Dropout)         (None, 384)               0         \n",
      "_________________________________________________________________\n",
      "dense_16 (Dense)             (None, 3)                 1155      \n",
      "=================================================================\n",
      "Total params: 682,287\n",
      "Trainable params: 681,897\n",
      "Non-trainable params: 390\n",
      "_________________________________________________________________\n"
     ]
    }
   ],
   "source": [
    "model.summary()"
   ]
  },
  {
   "cell_type": "markdown",
   "metadata": {},
   "source": [
    "Model 2 : Same as Model 1, but with image size resized to 128 and hence, more Conv-Pool layers"
   ]
  },
  {
   "cell_type": "code",
   "execution_count": 108,
   "metadata": {},
   "outputs": [
    {
     "name": "stderr",
     "output_type": "stream",
     "text": [
      "W1007 11:18:14.353031 12556 nn_ops.py:4224] Large dropout rate: 0.6 (>0.5). In TensorFlow 2.x, dropout() uses dropout rate instead of keep_prob. Please ensure that this is intended.\n"
     ]
    }
   ],
   "source": [
    "model = Sequential([\n",
    "        BatchNormalization(input_shape = (128,128,3)),\n",
    "        Convolution2D(32,(3,3), activation='relu'),\n",
    "        BatchNormalization(),\n",
    "        Convolution2D(32,(3,3), activation='relu'),\n",
    "        BatchNormalization(),\n",
    "        MaxPooling2D(),\n",
    "        Convolution2D(64,(3,3), activation='relu'),\n",
    "        BatchNormalization(),\n",
    "        Convolution2D(64,(3,3), activation='relu'),\n",
    "        BatchNormalization(),\n",
    "        MaxPooling2D(),\n",
    "        Convolution2D(64,(3,3), activation='relu'),\n",
    "        BatchNormalization(),\n",
    "        MaxPooling2D(),\n",
    "        Convolution2D(64,(3,3), activation='relu'),\n",
    "        BatchNormalization(),\n",
    "        MaxPooling2D(),\n",
    "        Flatten(),\n",
    "        Dropout(0.3),\n",
    "        Dense(512, activation='relu'),\n",
    "        Dropout(0.6),\n",
    "        Dense(3, activation='softmax')\n",
    "        ])\n",
    "model.compile(optimizer = 'adam' , loss='categorical_crossentropy', metrics=['accuracy'])"
   ]
  },
  {
   "cell_type": "code",
   "execution_count": 109,
   "metadata": {},
   "outputs": [],
   "source": [
    "model.save_weights('initial_weights.h5')"
   ]
  },
  {
   "cell_type": "markdown",
   "metadata": {},
   "source": [
    "Model 3: Stacked CNN with BatchNormalisation and Advanced Activation Layers"
   ]
  },
  {
   "cell_type": "code",
   "execution_count": 110,
   "metadata": {},
   "outputs": [
    {
     "name": "stderr",
     "output_type": "stream",
     "text": [
      "W1007 11:20:29.544262 12556 nn_ops.py:4224] Large dropout rate: 0.6 (>0.5). In TensorFlow 2.x, dropout() uses dropout rate instead of keep_prob. Please ensure that this is intended.\n"
     ]
    }
   ],
   "source": [
    "model = Sequential([\n",
    "        BatchNormalization(input_shape = (32,32,3)),\n",
    "        Convolution2D(32,(3,3), activation='linear'),\n",
    "        LeakyReLU(alpha = 0.3),\n",
    "        BatchNormalization(),\n",
    "        Convolution2D(32,(3,3), activation='linear'),\n",
    "        LeakyReLU(alpha = 0.3),\n",
    "        BatchNormalization(),\n",
    "        MaxPooling2D(),\n",
    "        Convolution2D(64,(3,3), activation='linear'),\n",
    "        LeakyReLU(alpha = 0.3),\n",
    "        BatchNormalization(),\n",
    "        Convolution2D(64,(3,3), activation='linear'),\n",
    "        LeakyReLU(alpha = 0.3),\n",
    "        BatchNormalization(),\n",
    "        MaxPooling2D(),\n",
    "        Flatten(),\n",
    "        Dropout(0.3),\n",
    "        Dense(384, activation='linear'),\n",
    "        LeakyReLU(alpha = 0.3),\n",
    "        Dropout(0.6),\n",
    "        Dense(3, activation='softmax')\n",
    "        ])\n",
    "model.compile(optimizer = 'adam' , loss='categorical_crossentropy', metrics=['accuracy'])"
   ]
  },
  {
   "cell_type": "code",
   "execution_count": 111,
   "metadata": {},
   "outputs": [],
   "source": [
    "model.save_weights('initial_weights.h5')"
   ]
  },
  {
   "cell_type": "code",
   "execution_count": 112,
   "metadata": {},
   "outputs": [
    {
     "name": "stdout",
     "output_type": "stream",
     "text": [
      "Model: \"sequential_10\"\n",
      "_________________________________________________________________\n",
      "Layer (type)                 Output Shape              Param #   \n",
      "=================================================================\n",
      "batch_normalization_56 (Batc (None, 32, 32, 3)         12        \n",
      "_________________________________________________________________\n",
      "conv2d_47 (Conv2D)           (None, 30, 30, 32)        896       \n",
      "_________________________________________________________________\n",
      "leaky_re_lu_1 (LeakyReLU)    (None, 30, 30, 32)        0         \n",
      "_________________________________________________________________\n",
      "batch_normalization_57 (Batc (None, 30, 30, 32)        128       \n",
      "_________________________________________________________________\n",
      "conv2d_48 (Conv2D)           (None, 28, 28, 32)        9248      \n",
      "_________________________________________________________________\n",
      "leaky_re_lu_2 (LeakyReLU)    (None, 28, 28, 32)        0         \n",
      "_________________________________________________________________\n",
      "batch_normalization_58 (Batc (None, 28, 28, 32)        128       \n",
      "_________________________________________________________________\n",
      "max_pooling2d_29 (MaxPooling (None, 14, 14, 32)        0         \n",
      "_________________________________________________________________\n",
      "conv2d_49 (Conv2D)           (None, 12, 12, 64)        18496     \n",
      "_________________________________________________________________\n",
      "leaky_re_lu_3 (LeakyReLU)    (None, 12, 12, 64)        0         \n",
      "_________________________________________________________________\n",
      "batch_normalization_59 (Batc (None, 12, 12, 64)        256       \n",
      "_________________________________________________________________\n",
      "conv2d_50 (Conv2D)           (None, 10, 10, 64)        36928     \n",
      "_________________________________________________________________\n",
      "leaky_re_lu_4 (LeakyReLU)    (None, 10, 10, 64)        0         \n",
      "_________________________________________________________________\n",
      "batch_normalization_60 (Batc (None, 10, 10, 64)        256       \n",
      "_________________________________________________________________\n",
      "max_pooling2d_30 (MaxPooling (None, 5, 5, 64)          0         \n",
      "_________________________________________________________________\n",
      "flatten_10 (Flatten)         (None, 1600)              0         \n",
      "_________________________________________________________________\n",
      "dropout_17 (Dropout)         (None, 1600)              0         \n",
      "_________________________________________________________________\n",
      "dense_19 (Dense)             (None, 384)               614784    \n",
      "_________________________________________________________________\n",
      "leaky_re_lu_5 (LeakyReLU)    (None, 384)               0         \n",
      "_________________________________________________________________\n",
      "dropout_18 (Dropout)         (None, 384)               0         \n",
      "_________________________________________________________________\n",
      "dense_20 (Dense)             (None, 3)                 1155      \n",
      "=================================================================\n",
      "Total params: 682,287\n",
      "Trainable params: 681,897\n",
      "Non-trainable params: 390\n",
      "_________________________________________________________________\n"
     ]
    }
   ],
   "source": [
    "model.summary()"
   ]
  },
  {
   "cell_type": "markdown",
   "metadata": {},
   "source": [
    "MODEL TRAINING"
   ]
  },
  {
   "cell_type": "code",
   "execution_count": 113,
   "metadata": {},
   "outputs": [],
   "source": [
    "\n",
    "## Building a custom function for learning rate decay/annealing\n",
    "def lr_decay(start, stop, div_step_1, div_step_2 = 2) :\n",
    "    k = 1\n",
    "    while start >= stop:\n",
    "        yield start\n",
    "        if k==1 :\n",
    "            start/= div_step_1\n",
    "        else : start/= div_step_2\n",
    "        k = k * -1"
   ]
  },
  {
   "cell_type": "markdown",
   "metadata": {},
   "source": [
    "TRAINING WITHOUT DATA AUGMENTATION"
   ]
  },
  {
   "cell_type": "code",
   "execution_count": 114,
   "metadata": {},
   "outputs": [
    {
     "name": "stdout",
     "output_type": "stream",
     "text": [
      "Train on 15924 samples, validate on 3982 samples\n",
      "Epoch 1/2\n"
     ]
    },
    {
     "name": "stdout",
     "output_type": "stream",
     "text": [
      " 5888/15924 [==========>...................] - ETA: 45:48 - loss: 2.9989 - accuracy: 0.250 - ETA: 24:28 - loss: 3.8241 - accuracy: 0.328 - ETA: 17:24 - loss: 3.5261 - accuracy: 0.385 - ETA: 13:50 - loss: 3.3293 - accuracy: 0.398 - ETA: 11:42 - loss: 3.5228 - accuracy: 0.368 - ETA: 10:17 - loss: 3.5031 - accuracy: 0.375 - ETA: 9:14 - loss: 3.5052 - accuracy: 0.370 - ETA: 8:29 - loss: 3.3525 - accuracy: 0.37 - ETA: 7:53 - loss: 3.2351 - accuracy: 0.38 - ETA: 7:24 - loss: 3.1357 - accuracy: 0.39 - ETA: 7:00 - loss: 3.1545 - accuracy: 0.39 - ETA: 6:40 - loss: 3.0626 - accuracy: 0.40 - ETA: 6:24 - loss: 3.0684 - accuracy: 0.41 - ETA: 6:10 - loss: 3.0430 - accuracy: 0.41 - ETA: 5:57 - loss: 3.0226 - accuracy: 0.42 - ETA: 5:46 - loss: 3.0002 - accuracy: 0.42 - ETA: 5:35 - loss: 2.9750 - accuracy: 0.43 - ETA: 5:26 - loss: 2.9672 - accuracy: 0.43 - ETA: 5:19 - loss: 2.9065 - accuracy: 0.44 - ETA: 5:11 - loss: 2.8389 - accuracy: 0.45 - ETA: 5:05 - loss: 2.8075 - accuracy: 0.45 - ETA: 4:59 - loss: 2.7999 - accuracy: 0.46 - ETA: 4:54 - loss: 2.7747 - accuracy: 0.46 - ETA: 4:48 - loss: 2.7311 - accuracy: 0.46 - ETA: 4:43 - loss: 2.7053 - accuracy: 0.47 - ETA: 4:39 - loss: 2.6639 - accuracy: 0.47 - ETA: 4:35 - loss: 2.6486 - accuracy: 0.47 - ETA: 4:31 - loss: 2.6349 - accuracy: 0.46 - ETA: 4:28 - loss: 2.6104 - accuracy: 0.46 - ETA: 4:25 - loss: 2.5624 - accuracy: 0.47 - ETA: 4:21 - loss: 2.5309 - accuracy: 0.47 - ETA: 4:19 - loss: 2.5560 - accuracy: 0.47 - ETA: 4:16 - loss: 2.5402 - accuracy: 0.47 - ETA: 4:14 - loss: 2.5216 - accuracy: 0.47 - ETA: 4:11 - loss: 2.5290 - accuracy: 0.48 - ETA: 4:09 - loss: 2.5235 - accuracy: 0.48 - ETA: 4:07 - loss: 2.5016 - accuracy: 0.48 - ETA: 4:05 - loss: 2.4822 - accuracy: 0.48 - ETA: 4:03 - loss: 2.4627 - accuracy: 0.48 - ETA: 4:01 - loss: 2.4457 - accuracy: 0.48 - ETA: 3:59 - loss: 2.4258 - accuracy: 0.48 - ETA: 3:57 - loss: 2.4014 - accuracy: 0.49 - ETA: 3:55 - loss: 2.3838 - accuracy: 0.49 - ETA: 3:53 - loss: 2.3545 - accuracy: 0.49 - ETA: 3:51 - loss: 2.3338 - accuracy: 0.50 - ETA: 3:49 - loss: 2.3247 - accuracy: 0.49 - ETA: 3:48 - loss: 2.3153 - accuracy: 0.49 - ETA: 3:46 - loss: 2.2944 - accuracy: 0.49 - ETA: 3:45 - loss: 2.2840 - accuracy: 0.49 - ETA: 3:43 - loss: 2.2720 - accuracy: 0.49 - ETA: 3:42 - loss: 2.2609 - accuracy: 0.50 - ETA: 3:40 - loss: 2.2550 - accuracy: 0.50 - ETA: 3:39 - loss: 2.2403 - accuracy: 0.50 - ETA: 3:38 - loss: 2.2376 - accuracy: 0.50 - ETA: 3:36 - loss: 2.2350 - accuracy: 0.50 - ETA: 3:35 - loss: 2.2402 - accuracy: 0.50 - ETA: 3:34 - loss: 2.2302 - accuracy: 0.50 - ETA: 3:33 - loss: 2.2352 - accuracy: 0.50 - ETA: 3:32 - loss: 2.2203 - accuracy: 0.50 - ETA: 3:30 - loss: 2.2037 - accuracy: 0.50 - ETA: 3:29 - loss: 2.2079 - accuracy: 0.50 - ETA: 3:28 - loss: 2.1968 - accuracy: 0.50 - ETA: 3:28 - loss: 2.1888 - accuracy: 0.51 - ETA: 3:27 - loss: 2.1977 - accuracy: 0.51 - ETA: 3:26 - loss: 2.1845 - accuracy: 0.51 - ETA: 3:25 - loss: 2.1872 - accuracy: 0.51 - ETA: 3:24 - loss: 2.1746 - accuracy: 0.51 - ETA: 3:23 - loss: 2.1631 - accuracy: 0.51 - ETA: 3:22 - loss: 2.1747 - accuracy: 0.51 - ETA: 3:21 - loss: 2.1810 - accuracy: 0.51 - ETA: 3:20 - loss: 2.1695 - accuracy: 0.51 - ETA: 3:20 - loss: 2.1771 - accuracy: 0.51 - ETA: 3:19 - loss: 2.1724 - accuracy: 0.51 - ETA: 3:18 - loss: 2.1647 - accuracy: 0.51 - ETA: 3:17 - loss: 2.1584 - accuracy: 0.51 - ETA: 3:17 - loss: 2.1481 - accuracy: 0.52 - ETA: 3:16 - loss: 2.1495 - accuracy: 0.52 - ETA: 3:15 - loss: 2.1363 - accuracy: 0.52 - ETA: 3:15 - loss: 2.1362 - accuracy: 0.52 - ETA: 3:14 - loss: 2.1348 - accuracy: 0.52 - ETA: 3:13 - loss: 2.1356 - accuracy: 0.52 - ETA: 3:12 - loss: 2.1300 - accuracy: 0.52 - ETA: 3:11 - loss: 2.1238 - accuracy: 0.52 - ETA: 3:10 - loss: 2.1163 - accuracy: 0.52 - ETA: 3:09 - loss: 2.1136 - accuracy: 0.52 - ETA: 3:08 - loss: 2.1039 - accuracy: 0.52 - ETA: 3:08 - loss: 2.0917 - accuracy: 0.52 - ETA: 3:07 - loss: 2.0860 - accuracy: 0.52 - ETA: 3:06 - loss: 2.0754 - accuracy: 0.52 - ETA: 3:06 - loss: 2.0749 - accuracy: 0.52 - ETA: 3:05 - loss: 2.0703 - accuracy: 0.52 - ETA: 3:04 - loss: 2.0777 - accuracy: 0.52 - ETA: 3:03 - loss: 2.0682 - accuracy: 0.52 - ETA: 3:03 - loss: 2.0676 - accuracy: 0.52 - ETA: 3:02 - loss: 2.0623 - accuracy: 0.52 - ETA: 3:01 - loss: 2.0521 - accuracy: 0.52 - ETA: 3:00 - loss: 2.0439 - accuracy: 0.52 - ETA: 3:00 - loss: 2.0400 - accuracy: 0.52 - ETA: 2:59 - loss: 2.0316 - accuracy: 0.52 - ETA: 2:58 - loss: 2.0272 - accuracy: 0.52 - ETA: 2:58 - loss: 2.0263 - accuracy: 0.52 - ETA: 2:57 - loss: 2.0209 - accuracy: 0.52 - ETA: 2:57 - loss: 2.0197 - accuracy: 0.52 - ETA: 2:56 - loss: 2.0121 - accuracy: 0.52 - ETA: 2:55 - loss: 2.0055 - accuracy: 0.52 - ETA: 2:55 - loss: 2.0124 - accuracy: 0.52 - ETA: 2:54 - loss: 2.0017 - accuracy: 0.52 - ETA: 2:54 - loss: 1.9958 - accuracy: 0.52 - ETA: 2:53 - loss: 1.9889 - accuracy: 0.52 - ETA: 2:52 - loss: 1.9892 - accuracy: 0.52 - ETA: 2:52 - loss: 1.9859 - accuracy: 0.52 - ETA: 2:51 - loss: 1.9855 - accuracy: 0.52 - ETA: 2:50 - loss: 1.9824 - accuracy: 0.52 - ETA: 2:50 - loss: 1.9772 - accuracy: 0.52 - ETA: 2:49 - loss: 1.9678 - accuracy: 0.52 - ETA: 2:48 - loss: 1.9678 - accuracy: 0.52 - ETA: 2:48 - loss: 1.9592 - accuracy: 0.52 - ETA: 2:47 - loss: 1.9520 - accuracy: 0.52 - ETA: 2:46 - loss: 1.9473 - accuracy: 0.52 - ETA: 2:46 - loss: 1.9452 - accuracy: 0.52 - ETA: 2:45 - loss: 1.9445 - accuracy: 0.52 - ETA: 2:45 - loss: 1.9426 - accuracy: 0.52 - ETA: 2:44 - loss: 1.9352 - accuracy: 0.52 - ETA: 2:43 - loss: 1.9302 - accuracy: 0.52 - ETA: 2:43 - loss: 1.9233 - accuracy: 0.52 - ETA: 2:42 - loss: 1.9231 - accuracy: 0.52 - ETA: 2:42 - loss: 1.9204 - accuracy: 0.52 - ETA: 2:41 - loss: 1.9163 - accuracy: 0.52 - ETA: 2:41 - loss: 1.9102 - accuracy: 0.52 - ETA: 2:40 - loss: 1.9069 - accuracy: 0.52 - ETA: 2:40 - loss: 1.9084 - accuracy: 0.52 - ETA: 2:39 - loss: 1.9038 - accuracy: 0.52 - ETA: 2:38 - loss: 1.8995 - accuracy: 0.52 - ETA: 2:38 - loss: 1.8968 - accuracy: 0.52 - ETA: 2:37 - loss: 1.8901 - accuracy: 0.52 - ETA: 2:37 - loss: 1.8869 - accuracy: 0.52 - ETA: 2:36 - loss: 1.8847 - accuracy: 0.52 - ETA: 2:36 - loss: 1.8789 - accuracy: 0.52 - ETA: 2:35 - loss: 1.8731 - accuracy: 0.52 - ETA: 2:35 - loss: 1.8733 - accuracy: 0.52 - ETA: 2:34 - loss: 1.8714 - accuracy: 0.52 - ETA: 2:34 - loss: 1.8705 - accuracy: 0.52 - ETA: 2:33 - loss: 1.8683 - accuracy: 0.52 - ETA: 2:32 - loss: 1.8654 - accuracy: 0.52 - ETA: 2:32 - loss: 1.8660 - accuracy: 0.52 - ETA: 2:31 - loss: 1.8695 - accuracy: 0.52 - ETA: 2:31 - loss: 1.8677 - accuracy: 0.52 - ETA: 2:30 - loss: 1.8606 - accuracy: 0.52 - ETA: 2:30 - loss: 1.8547 - accuracy: 0.52 - ETA: 2:29 - loss: 1.8515 - accuracy: 0.52 - ETA: 2:29 - loss: 1.8504 - accuracy: 0.52 - ETA: 2:28 - loss: 1.8451 - accuracy: 0.53 - ETA: 2:28 - loss: 1.8417 - accuracy: 0.53 - ETA: 2:27 - loss: 1.8387 - accuracy: 0.53 - ETA: 2:27 - loss: 1.8366 - accuracy: 0.53 - ETA: 2:26 - loss: 1.8326 - accuracy: 0.53 - ETA: 2:26 - loss: 1.8300 - accuracy: 0.53 - ETA: 2:25 - loss: 1.8280 - accuracy: 0.53 - ETA: 2:25 - loss: 1.8280 - accuracy: 0.53 - ETA: 2:24 - loss: 1.8249 - accuracy: 0.53 - ETA: 2:24 - loss: 1.8194 - accuracy: 0.53 - ETA: 2:23 - loss: 1.8167 - accuracy: 0.53 - ETA: 2:23 - loss: 1.8138 - accuracy: 0.53 - ETA: 2:22 - loss: 1.8129 - accuracy: 0.53 - ETA: 2:22 - loss: 1.8091 - accuracy: 0.53 - ETA: 2:21 - loss: 1.8065 - accuracy: 0.53 - ETA: 2:21 - loss: 1.8064 - accuracy: 0.53 - ETA: 2:20 - loss: 1.8045 - accuracy: 0.53 - ETA: 2:20 - loss: 1.8021 - accuracy: 0.53 - ETA: 2:19 - loss: 1.7988 - accuracy: 0.53 - ETA: 2:19 - loss: 1.7983 - accuracy: 0.53 - ETA: 2:18 - loss: 1.7963 - accuracy: 0.53 - ETA: 2:18 - loss: 1.7966 - accuracy: 0.53 - ETA: 2:17 - loss: 1.7954 - accuracy: 0.53 - ETA: 2:17 - loss: 1.7915 - accuracy: 0.53 - ETA: 2:16 - loss: 1.7862 - accuracy: 0.53 - ETA: 2:16 - loss: 1.7856 - accuracy: 0.53 - ETA: 2:15 - loss: 1.7818 - accuracy: 0.53 - ETA: 2:15 - loss: 1.7818 - accuracy: 0.53 - ETA: 2:14 - loss: 1.7802 - accuracy: 0.53 - ETA: 2:14 - loss: 1.7763 - accuracy: 0.53 - ETA: 2:13 - loss: 1.7734 - accuracy: 0.53 - ETA: 2:12 - loss: 1.7719 - accuracy: 0.53 - ETA: 2:12 - loss: 1.7681 - accuracy: 0.5311840/15924 [=====================>........] - ETA: 2:11 - loss: 1.7655 - accuracy: 0.53 - ETA: 2:11 - loss: 1.7621 - accuracy: 0.53 - ETA: 2:10 - loss: 1.7581 - accuracy: 0.53 - ETA: 2:10 - loss: 1.7552 - accuracy: 0.53 - ETA: 2:09 - loss: 1.7525 - accuracy: 0.53 - ETA: 2:09 - loss: 1.7517 - accuracy: 0.53 - ETA: 2:08 - loss: 1.7486 - accuracy: 0.53 - ETA: 2:08 - loss: 1.7469 - accuracy: 0.53 - ETA: 2:07 - loss: 1.7446 - accuracy: 0.53 - ETA: 2:07 - loss: 1.7414 - accuracy: 0.53 - ETA: 2:06 - loss: 1.7401 - accuracy: 0.53 - ETA: 2:06 - loss: 1.7358 - accuracy: 0.53 - ETA: 2:05 - loss: 1.7320 - accuracy: 0.53 - ETA: 2:04 - loss: 1.7281 - accuracy: 0.53 - ETA: 2:04 - loss: 1.7271 - accuracy: 0.53 - ETA: 2:04 - loss: 1.7242 - accuracy: 0.53 - ETA: 2:04 - loss: 1.7193 - accuracy: 0.53 - ETA: 2:03 - loss: 1.7187 - accuracy: 0.53 - ETA: 2:03 - loss: 1.7154 - accuracy: 0.53 - ETA: 2:02 - loss: 1.7108 - accuracy: 0.53 - ETA: 2:02 - loss: 1.7092 - accuracy: 0.53 - ETA: 2:01 - loss: 1.7053 - accuracy: 0.53 - ETA: 2:01 - loss: 1.7020 - accuracy: 0.53 - ETA: 2:00 - loss: 1.6990 - accuracy: 0.53 - ETA: 2:00 - loss: 1.6965 - accuracy: 0.53 - ETA: 1:59 - loss: 1.6950 - accuracy: 0.53 - ETA: 1:59 - loss: 1.6927 - accuracy: 0.53 - ETA: 1:58 - loss: 1.6908 - accuracy: 0.53 - ETA: 1:58 - loss: 1.6881 - accuracy: 0.53 - ETA: 1:57 - loss: 1.6855 - accuracy: 0.53 - ETA: 1:57 - loss: 1.6847 - accuracy: 0.53 - ETA: 1:56 - loss: 1.6804 - accuracy: 0.53 - ETA: 1:56 - loss: 1.6794 - accuracy: 0.53 - ETA: 1:55 - loss: 1.6789 - accuracy: 0.53 - ETA: 1:55 - loss: 1.6775 - accuracy: 0.53 - ETA: 1:54 - loss: 1.6774 - accuracy: 0.53 - ETA: 1:54 - loss: 1.6729 - accuracy: 0.53 - ETA: 1:53 - loss: 1.6706 - accuracy: 0.53 - ETA: 1:53 - loss: 1.6705 - accuracy: 0.53 - ETA: 1:52 - loss: 1.6686 - accuracy: 0.53 - ETA: 1:52 - loss: 1.6662 - accuracy: 0.53 - ETA: 1:51 - loss: 1.6652 - accuracy: 0.53 - ETA: 1:51 - loss: 1.6638 - accuracy: 0.53 - ETA: 1:51 - loss: 1.6617 - accuracy: 0.53 - ETA: 1:50 - loss: 1.6597 - accuracy: 0.53 - ETA: 1:50 - loss: 1.6584 - accuracy: 0.53 - ETA: 1:49 - loss: 1.6566 - accuracy: 0.53 - ETA: 1:49 - loss: 1.6547 - accuracy: 0.53 - ETA: 1:48 - loss: 1.6510 - accuracy: 0.53 - ETA: 1:48 - loss: 1.6491 - accuracy: 0.53 - ETA: 1:47 - loss: 1.6453 - accuracy: 0.53 - ETA: 1:47 - loss: 1.6418 - accuracy: 0.53 - ETA: 1:46 - loss: 1.6382 - accuracy: 0.53 - ETA: 1:46 - loss: 1.6345 - accuracy: 0.53 - ETA: 1:46 - loss: 1.6340 - accuracy: 0.53 - ETA: 1:45 - loss: 1.6323 - accuracy: 0.53 - ETA: 1:45 - loss: 1.6319 - accuracy: 0.53 - ETA: 1:44 - loss: 1.6295 - accuracy: 0.53 - ETA: 1:44 - loss: 1.6285 - accuracy: 0.53 - ETA: 1:43 - loss: 1.6259 - accuracy: 0.53 - ETA: 1:43 - loss: 1.6236 - accuracy: 0.53 - ETA: 1:42 - loss: 1.6219 - accuracy: 0.53 - ETA: 1:42 - loss: 1.6194 - accuracy: 0.53 - ETA: 1:41 - loss: 1.6159 - accuracy: 0.53 - ETA: 1:41 - loss: 1.6138 - accuracy: 0.53 - ETA: 1:40 - loss: 1.6122 - accuracy: 0.53 - ETA: 1:40 - loss: 1.6102 - accuracy: 0.53 - ETA: 1:39 - loss: 1.6081 - accuracy: 0.53 - ETA: 1:39 - loss: 1.6056 - accuracy: 0.53 - ETA: 1:39 - loss: 1.6041 - accuracy: 0.53 - ETA: 1:38 - loss: 1.6020 - accuracy: 0.53 - ETA: 1:38 - loss: 1.6006 - accuracy: 0.53 - ETA: 1:37 - loss: 1.5963 - accuracy: 0.54 - ETA: 1:37 - loss: 1.5936 - accuracy: 0.54 - ETA: 1:36 - loss: 1.5908 - accuracy: 0.54 - ETA: 1:36 - loss: 1.5896 - accuracy: 0.54 - ETA: 1:36 - loss: 1.5882 - accuracy: 0.54 - ETA: 1:35 - loss: 1.5852 - accuracy: 0.54 - ETA: 1:35 - loss: 1.5847 - accuracy: 0.54 - ETA: 1:34 - loss: 1.5833 - accuracy: 0.54 - ETA: 1:34 - loss: 1.5798 - accuracy: 0.54 - ETA: 1:33 - loss: 1.5776 - accuracy: 0.54 - ETA: 1:33 - loss: 1.5770 - accuracy: 0.54 - ETA: 1:32 - loss: 1.5745 - accuracy: 0.54 - ETA: 1:32 - loss: 1.5726 - accuracy: 0.54 - ETA: 1:31 - loss: 1.5709 - accuracy: 0.54 - ETA: 1:31 - loss: 1.5694 - accuracy: 0.54 - ETA: 1:31 - loss: 1.5668 - accuracy: 0.54 - ETA: 1:30 - loss: 1.5641 - accuracy: 0.54 - ETA: 1:30 - loss: 1.5621 - accuracy: 0.54 - ETA: 1:29 - loss: 1.5592 - accuracy: 0.54 - ETA: 1:29 - loss: 1.5568 - accuracy: 0.54 - ETA: 1:28 - loss: 1.5543 - accuracy: 0.54 - ETA: 1:28 - loss: 1.5516 - accuracy: 0.54 - ETA: 1:28 - loss: 1.5497 - accuracy: 0.54 - ETA: 1:27 - loss: 1.5483 - accuracy: 0.54 - ETA: 1:27 - loss: 1.5463 - accuracy: 0.54 - ETA: 1:26 - loss: 1.5441 - accuracy: 0.54 - ETA: 1:26 - loss: 1.5416 - accuracy: 0.54 - ETA: 1:25 - loss: 1.5383 - accuracy: 0.54 - ETA: 1:25 - loss: 1.5361 - accuracy: 0.54 - ETA: 1:24 - loss: 1.5359 - accuracy: 0.54 - ETA: 1:24 - loss: 1.5328 - accuracy: 0.54 - ETA: 1:24 - loss: 1.5307 - accuracy: 0.54 - ETA: 1:23 - loss: 1.5282 - accuracy: 0.54 - ETA: 1:23 - loss: 1.5270 - accuracy: 0.54 - ETA: 1:22 - loss: 1.5257 - accuracy: 0.54 - ETA: 1:22 - loss: 1.5249 - accuracy: 0.54 - ETA: 1:21 - loss: 1.5225 - accuracy: 0.54 - ETA: 1:21 - loss: 1.5207 - accuracy: 0.54 - ETA: 1:21 - loss: 1.5187 - accuracy: 0.54 - ETA: 1:20 - loss: 1.5159 - accuracy: 0.54 - ETA: 1:20 - loss: 1.5148 - accuracy: 0.54 - ETA: 1:19 - loss: 1.5130 - accuracy: 0.55 - ETA: 1:19 - loss: 1.5108 - accuracy: 0.55 - ETA: 1:18 - loss: 1.5080 - accuracy: 0.55 - ETA: 1:18 - loss: 1.5080 - accuracy: 0.55 - ETA: 1:18 - loss: 1.5059 - accuracy: 0.55 - ETA: 1:17 - loss: 1.5037 - accuracy: 0.55 - ETA: 1:17 - loss: 1.5015 - accuracy: 0.55 - ETA: 1:16 - loss: 1.4991 - accuracy: 0.55 - ETA: 1:16 - loss: 1.4985 - accuracy: 0.55 - ETA: 1:15 - loss: 1.4978 - accuracy: 0.55 - ETA: 1:15 - loss: 1.4953 - accuracy: 0.55 - ETA: 1:15 - loss: 1.4930 - accuracy: 0.55 - ETA: 1:14 - loss: 1.4916 - accuracy: 0.55 - ETA: 1:14 - loss: 1.4900 - accuracy: 0.55 - ETA: 1:13 - loss: 1.4886 - accuracy: 0.55 - ETA: 1:13 - loss: 1.4870 - accuracy: 0.55 - ETA: 1:12 - loss: 1.4869 - accuracy: 0.55 - ETA: 1:12 - loss: 1.4862 - accuracy: 0.55 - ETA: 1:12 - loss: 1.4856 - accuracy: 0.55 - ETA: 1:11 - loss: 1.4835 - accuracy: 0.55 - ETA: 1:11 - loss: 1.4837 - accuracy: 0.55 - ETA: 1:10 - loss: 1.4830 - accuracy: 0.55 - ETA: 1:10 - loss: 1.4818 - accuracy: 0.55 - ETA: 1:10 - loss: 1.4802 - accuracy: 0.55 - ETA: 1:09 - loss: 1.4786 - accuracy: 0.55 - ETA: 1:09 - loss: 1.4784 - accuracy: 0.55 - ETA: 1:08 - loss: 1.4759 - accuracy: 0.55 - ETA: 1:08 - loss: 1.4754 - accuracy: 0.55 - ETA: 1:08 - loss: 1.4745 - accuracy: 0.55 - ETA: 1:07 - loss: 1.4731 - accuracy: 0.55 - ETA: 1:07 - loss: 1.4710 - accuracy: 0.55 - ETA: 1:06 - loss: 1.4687 - accuracy: 0.55 - ETA: 1:06 - loss: 1.4674 - accuracy: 0.55 - ETA: 1:06 - loss: 1.4664 - accuracy: 0.55 - ETA: 1:05 - loss: 1.4654 - accuracy: 0.55 - ETA: 1:05 - loss: 1.4632 - accuracy: 0.55 - ETA: 1:04 - loss: 1.4610 - accuracy: 0.55 - ETA: 1:04 - loss: 1.4587 - accuracy: 0.55 - ETA: 1:04 - loss: 1.4577 - accuracy: 0.55 - ETA: 1:03 - loss: 1.4558 - accuracy: 0.55 - ETA: 1:03 - loss: 1.4553 - accuracy: 0.55 - ETA: 1:02 - loss: 1.4531 - accuracy: 0.55 - ETA: 1:02 - loss: 1.4517 - accuracy: 0.55 - ETA: 1:02 - loss: 1.4504 - accuracy: 0.55 - ETA: 1:01 - loss: 1.4494 - accuracy: 0.55 - ETA: 1:01 - loss: 1.4499 - accuracy: 0.55 - ETA: 1:00 - loss: 1.4490 - accuracy: 0.55 - ETA: 1:00 - loss: 1.4474 - accuracy: 0.55 - ETA: 1:00 - loss: 1.4470 - accuracy: 0.55 - ETA: 59s - loss: 1.4453 - accuracy: 0.5563 - ETA: 59s - loss: 1.4435 - accuracy: 0.556 - ETA: 58s - loss: 1.4411 - accuracy: 0.556 - ETA: 58s - loss: 1.4394 - accuracy: 0.557 - ETA: 58s - loss: 1.4383 - accuracy: 0.557 - ETA: 57s - loss: 1.4366 - accuracy: 0.557 - ETA: 57s - loss: 1.4349 - accuracy: 0.557 - ETA: 56s - loss: 1.4332 - accuracy: 0.557 - ETA: 56s - loss: 1.4309 - accuracy: 0.558 - ETA: 56s - loss: 1.4287 - accuracy: 0.558 - ETA: 55s - loss: 1.4269 - accuracy: 0.558 - ETA: 55s - loss: 1.4264 - accuracy: 0.558 - ETA: 54s - loss: 1.4259 - accuracy: 0.558 - ETA: 54s - loss: 1.4236 - accuracy: 0.558 - ETA: 54s - loss: 1.4227 - accuracy: 0.559 - ETA: 53s - loss: 1.4218 - accuracy: 0.559 - ETA: 53s - loss: 1.4208 - accuracy: 0.559 - ETA: 52s - loss: 1.4195 - accuracy: 0.559 - ETA: 52s - loss: 1.4179 - accuracy: 0.559 - ETA: 52s - loss: 1.4166 - accuracy: 0.559 - ETA: 51s - loss: 1.4140 - accuracy: 0.560 - ETA: 51s - loss: 1.4122 - accuracy: 0.561 - ETA: 50s - loss: 1.4106 - accuracy: 0.561 - ETA: 50s - loss: 1.4081 - accuracy: 0.5618"
     ]
    },
    {
     "name": "stdout",
     "output_type": "stream",
     "text": [
      "15924/15924 [==============================] - ETA: 50s - loss: 1.4080 - accuracy: 0.561 - ETA: 49s - loss: 1.4060 - accuracy: 0.562 - ETA: 49s - loss: 1.4044 - accuracy: 0.562 - ETA: 48s - loss: 1.4030 - accuracy: 0.562 - ETA: 48s - loss: 1.4013 - accuracy: 0.562 - ETA: 48s - loss: 1.4016 - accuracy: 0.562 - ETA: 47s - loss: 1.3996 - accuracy: 0.562 - ETA: 47s - loss: 1.3998 - accuracy: 0.562 - ETA: 46s - loss: 1.3978 - accuracy: 0.563 - ETA: 46s - loss: 1.3963 - accuracy: 0.563 - ETA: 46s - loss: 1.3955 - accuracy: 0.563 - ETA: 45s - loss: 1.3940 - accuracy: 0.563 - ETA: 45s - loss: 1.3926 - accuracy: 0.563 - ETA: 44s - loss: 1.3911 - accuracy: 0.563 - ETA: 44s - loss: 1.3901 - accuracy: 0.564 - ETA: 44s - loss: 1.3889 - accuracy: 0.564 - ETA: 43s - loss: 1.3877 - accuracy: 0.564 - ETA: 43s - loss: 1.3870 - accuracy: 0.564 - ETA: 42s - loss: 1.3856 - accuracy: 0.564 - ETA: 42s - loss: 1.3848 - accuracy: 0.564 - ETA: 42s - loss: 1.3829 - accuracy: 0.565 - ETA: 41s - loss: 1.3817 - accuracy: 0.565 - ETA: 41s - loss: 1.3814 - accuracy: 0.564 - ETA: 40s - loss: 1.3807 - accuracy: 0.564 - ETA: 40s - loss: 1.3799 - accuracy: 0.564 - ETA: 40s - loss: 1.3798 - accuracy: 0.564 - ETA: 39s - loss: 1.3786 - accuracy: 0.564 - ETA: 39s - loss: 1.3776 - accuracy: 0.564 - ETA: 38s - loss: 1.3766 - accuracy: 0.564 - ETA: 38s - loss: 1.3760 - accuracy: 0.564 - ETA: 38s - loss: 1.3747 - accuracy: 0.564 - ETA: 37s - loss: 1.3737 - accuracy: 0.564 - ETA: 37s - loss: 1.3723 - accuracy: 0.564 - ETA: 36s - loss: 1.3716 - accuracy: 0.564 - ETA: 36s - loss: 1.3710 - accuracy: 0.564 - ETA: 36s - loss: 1.3694 - accuracy: 0.565 - ETA: 35s - loss: 1.3676 - accuracy: 0.565 - ETA: 35s - loss: 1.3662 - accuracy: 0.565 - ETA: 34s - loss: 1.3654 - accuracy: 0.565 - ETA: 34s - loss: 1.3652 - accuracy: 0.565 - ETA: 34s - loss: 1.3629 - accuracy: 0.566 - ETA: 33s - loss: 1.3610 - accuracy: 0.566 - ETA: 33s - loss: 1.3599 - accuracy: 0.566 - ETA: 33s - loss: 1.3583 - accuracy: 0.567 - ETA: 32s - loss: 1.3570 - accuracy: 0.567 - ETA: 32s - loss: 1.3562 - accuracy: 0.567 - ETA: 31s - loss: 1.3548 - accuracy: 0.567 - ETA: 31s - loss: 1.3544 - accuracy: 0.567 - ETA: 31s - loss: 1.3532 - accuracy: 0.567 - ETA: 30s - loss: 1.3519 - accuracy: 0.567 - ETA: 30s - loss: 1.3506 - accuracy: 0.568 - ETA: 29s - loss: 1.3494 - accuracy: 0.568 - ETA: 29s - loss: 1.3488 - accuracy: 0.568 - ETA: 29s - loss: 1.3480 - accuracy: 0.568 - ETA: 28s - loss: 1.3482 - accuracy: 0.567 - ETA: 28s - loss: 1.3473 - accuracy: 0.567 - ETA: 27s - loss: 1.3466 - accuracy: 0.567 - ETA: 27s - loss: 1.3453 - accuracy: 0.567 - ETA: 27s - loss: 1.3443 - accuracy: 0.567 - ETA: 26s - loss: 1.3430 - accuracy: 0.568 - ETA: 26s - loss: 1.3421 - accuracy: 0.567 - ETA: 25s - loss: 1.3415 - accuracy: 0.567 - ETA: 25s - loss: 1.3403 - accuracy: 0.568 - ETA: 25s - loss: 1.3386 - accuracy: 0.568 - ETA: 24s - loss: 1.3379 - accuracy: 0.568 - ETA: 24s - loss: 1.3366 - accuracy: 0.569 - ETA: 23s - loss: 1.3355 - accuracy: 0.569 - ETA: 23s - loss: 1.3349 - accuracy: 0.568 - ETA: 23s - loss: 1.3336 - accuracy: 0.569 - ETA: 22s - loss: 1.3324 - accuracy: 0.569 - ETA: 22s - loss: 1.3314 - accuracy: 0.569 - ETA: 21s - loss: 1.3302 - accuracy: 0.569 - ETA: 21s - loss: 1.3299 - accuracy: 0.569 - ETA: 21s - loss: 1.3286 - accuracy: 0.570 - ETA: 20s - loss: 1.3275 - accuracy: 0.570 - ETA: 20s - loss: 1.3266 - accuracy: 0.570 - ETA: 20s - loss: 1.3255 - accuracy: 0.570 - ETA: 19s - loss: 1.3241 - accuracy: 0.570 - ETA: 19s - loss: 1.3238 - accuracy: 0.570 - ETA: 18s - loss: 1.3226 - accuracy: 0.570 - ETA: 18s - loss: 1.3220 - accuracy: 0.570 - ETA: 18s - loss: 1.3211 - accuracy: 0.570 - ETA: 17s - loss: 1.3204 - accuracy: 0.570 - ETA: 17s - loss: 1.3197 - accuracy: 0.571 - ETA: 16s - loss: 1.3187 - accuracy: 0.571 - ETA: 16s - loss: 1.3174 - accuracy: 0.571 - ETA: 16s - loss: 1.3166 - accuracy: 0.571 - ETA: 15s - loss: 1.3155 - accuracy: 0.571 - ETA: 15s - loss: 1.3143 - accuracy: 0.572 - ETA: 14s - loss: 1.3135 - accuracy: 0.572 - ETA: 14s - loss: 1.3126 - accuracy: 0.572 - ETA: 14s - loss: 1.3114 - accuracy: 0.572 - ETA: 13s - loss: 1.3099 - accuracy: 0.572 - ETA: 13s - loss: 1.3082 - accuracy: 0.573 - ETA: 12s - loss: 1.3069 - accuracy: 0.573 - ETA: 12s - loss: 1.3059 - accuracy: 0.573 - ETA: 12s - loss: 1.3046 - accuracy: 0.573 - ETA: 11s - loss: 1.3032 - accuracy: 0.573 - ETA: 11s - loss: 1.3030 - accuracy: 0.574 - ETA: 10s - loss: 1.3024 - accuracy: 0.574 - ETA: 10s - loss: 1.3010 - accuracy: 0.574 - ETA: 10s - loss: 1.3002 - accuracy: 0.574 - ETA: 9s - loss: 1.2997 - accuracy: 0.574 - ETA: 9s - loss: 1.2984 - accuracy: 0.57 - ETA: 8s - loss: 1.2978 - accuracy: 0.57 - ETA: 8s - loss: 1.2966 - accuracy: 0.57 - ETA: 8s - loss: 1.2954 - accuracy: 0.57 - ETA: 7s - loss: 1.2952 - accuracy: 0.57 - ETA: 7s - loss: 1.2937 - accuracy: 0.57 - ETA: 6s - loss: 1.2930 - accuracy: 0.57 - ETA: 6s - loss: 1.2920 - accuracy: 0.57 - ETA: 6s - loss: 1.2909 - accuracy: 0.57 - ETA: 5s - loss: 1.2903 - accuracy: 0.57 - ETA: 5s - loss: 1.2898 - accuracy: 0.57 - ETA: 4s - loss: 1.2890 - accuracy: 0.57 - ETA: 4s - loss: 1.2886 - accuracy: 0.57 - ETA: 4s - loss: 1.2876 - accuracy: 0.57 - ETA: 3s - loss: 1.2873 - accuracy: 0.57 - ETA: 3s - loss: 1.2866 - accuracy: 0.57 - ETA: 3s - loss: 1.2859 - accuracy: 0.57 - ETA: 2s - loss: 1.2850 - accuracy: 0.57 - ETA: 2s - loss: 1.2841 - accuracy: 0.57 - ETA: 1s - loss: 1.2829 - accuracy: 0.57 - ETA: 1s - loss: 1.2827 - accuracy: 0.57 - ETA: 1s - loss: 1.2816 - accuracy: 0.57 - ETA: 0s - loss: 1.2807 - accuracy: 0.57 - ETA: 0s - loss: 1.2796 - accuracy: 0.57 - 210s 13ms/step - loss: 1.2794 - accuracy: 0.5776 - val_loss: 0.7558 - val_accuracy: 0.6632\n",
      "Epoch 2/2\n"
     ]
    },
    {
     "name": "stdout",
     "output_type": "stream",
     "text": [
      " 5952/15924 [==========>...................] - ETA: 3:17 - loss: 1.0896 - accuracy: 0.59 - ETA: 3:15 - loss: 1.0319 - accuracy: 0.57 - ETA: 3:18 - loss: 0.9218 - accuracy: 0.61 - ETA: 3:17 - loss: 0.9080 - accuracy: 0.60 - ETA: 3:20 - loss: 0.9004 - accuracy: 0.61 - ETA: 3:18 - loss: 0.8726 - accuracy: 0.63 - ETA: 3:16 - loss: 0.8751 - accuracy: 0.62 - ETA: 3:16 - loss: 0.8688 - accuracy: 0.64 - ETA: 3:13 - loss: 0.8391 - accuracy: 0.64 - ETA: 3:11 - loss: 0.8516 - accuracy: 0.63 - ETA: 3:10 - loss: 0.8531 - accuracy: 0.63 - ETA: 3:09 - loss: 0.8439 - accuracy: 0.64 - ETA: 3:08 - loss: 0.8499 - accuracy: 0.64 - ETA: 3:07 - loss: 0.8240 - accuracy: 0.65 - ETA: 3:07 - loss: 0.8245 - accuracy: 0.65 - ETA: 3:07 - loss: 0.8455 - accuracy: 0.65 - ETA: 3:06 - loss: 0.8466 - accuracy: 0.64 - ETA: 3:06 - loss: 0.8468 - accuracy: 0.64 - ETA: 3:06 - loss: 0.8380 - accuracy: 0.64 - ETA: 3:05 - loss: 0.8413 - accuracy: 0.64 - ETA: 3:05 - loss: 0.8411 - accuracy: 0.64 - ETA: 3:04 - loss: 0.8380 - accuracy: 0.64 - ETA: 3:04 - loss: 0.8400 - accuracy: 0.64 - ETA: 3:04 - loss: 0.8358 - accuracy: 0.64 - ETA: 3:03 - loss: 0.8315 - accuracy: 0.65 - ETA: 3:03 - loss: 0.8273 - accuracy: 0.65 - ETA: 3:02 - loss: 0.8234 - accuracy: 0.65 - ETA: 3:02 - loss: 0.8180 - accuracy: 0.65 - ETA: 3:01 - loss: 0.8246 - accuracy: 0.65 - ETA: 3:01 - loss: 0.8249 - accuracy: 0.65 - ETA: 3:00 - loss: 0.8195 - accuracy: 0.65 - ETA: 3:00 - loss: 0.8196 - accuracy: 0.65 - ETA: 2:59 - loss: 0.8188 - accuracy: 0.65 - ETA: 2:59 - loss: 0.8108 - accuracy: 0.65 - ETA: 2:59 - loss: 0.8019 - accuracy: 0.66 - ETA: 2:58 - loss: 0.8033 - accuracy: 0.66 - ETA: 2:58 - loss: 0.7934 - accuracy: 0.66 - ETA: 2:57 - loss: 0.7926 - accuracy: 0.66 - ETA: 2:57 - loss: 0.7896 - accuracy: 0.66 - ETA: 2:56 - loss: 0.8049 - accuracy: 0.66 - ETA: 2:56 - loss: 0.8093 - accuracy: 0.66 - ETA: 2:56 - loss: 0.8159 - accuracy: 0.65 - ETA: 2:55 - loss: 0.8139 - accuracy: 0.65 - ETA: 2:55 - loss: 0.8144 - accuracy: 0.66 - ETA: 2:54 - loss: 0.8131 - accuracy: 0.66 - ETA: 2:54 - loss: 0.8159 - accuracy: 0.65 - ETA: 2:53 - loss: 0.8192 - accuracy: 0.65 - ETA: 2:53 - loss: 0.8202 - accuracy: 0.65 - ETA: 2:52 - loss: 0.8186 - accuracy: 0.65 - ETA: 2:52 - loss: 0.8199 - accuracy: 0.65 - ETA: 2:51 - loss: 0.8213 - accuracy: 0.65 - ETA: 2:51 - loss: 0.8224 - accuracy: 0.65 - ETA: 2:50 - loss: 0.8193 - accuracy: 0.65 - ETA: 2:50 - loss: 0.8192 - accuracy: 0.65 - ETA: 2:49 - loss: 0.8208 - accuracy: 0.65 - ETA: 2:49 - loss: 0.8227 - accuracy: 0.65 - ETA: 2:49 - loss: 0.8210 - accuracy: 0.65 - ETA: 2:48 - loss: 0.8213 - accuracy: 0.65 - ETA: 2:48 - loss: 0.8210 - accuracy: 0.65 - ETA: 2:47 - loss: 0.8205 - accuracy: 0.65 - ETA: 2:47 - loss: 0.8237 - accuracy: 0.65 - ETA: 2:46 - loss: 0.8205 - accuracy: 0.65 - ETA: 2:46 - loss: 0.8188 - accuracy: 0.65 - ETA: 2:45 - loss: 0.8245 - accuracy: 0.65 - ETA: 2:45 - loss: 0.8218 - accuracy: 0.65 - ETA: 2:44 - loss: 0.8186 - accuracy: 0.65 - ETA: 2:44 - loss: 0.8164 - accuracy: 0.65 - ETA: 2:43 - loss: 0.8179 - accuracy: 0.65 - ETA: 2:43 - loss: 0.8207 - accuracy: 0.65 - ETA: 2:43 - loss: 0.8184 - accuracy: 0.65 - ETA: 2:42 - loss: 0.8195 - accuracy: 0.65 - ETA: 2:42 - loss: 0.8159 - accuracy: 0.65 - ETA: 2:42 - loss: 0.8192 - accuracy: 0.65 - ETA: 2:41 - loss: 0.8192 - accuracy: 0.65 - ETA: 2:41 - loss: 0.8181 - accuracy: 0.65 - ETA: 2:41 - loss: 0.8157 - accuracy: 0.65 - ETA: 2:40 - loss: 0.8181 - accuracy: 0.65 - ETA: 2:40 - loss: 0.8191 - accuracy: 0.65 - ETA: 2:40 - loss: 0.8188 - accuracy: 0.65 - ETA: 2:39 - loss: 0.8199 - accuracy: 0.65 - ETA: 2:39 - loss: 0.8208 - accuracy: 0.65 - ETA: 2:39 - loss: 0.8175 - accuracy: 0.65 - ETA: 2:38 - loss: 0.8177 - accuracy: 0.65 - ETA: 2:38 - loss: 0.8166 - accuracy: 0.65 - ETA: 2:38 - loss: 0.8155 - accuracy: 0.65 - ETA: 2:37 - loss: 0.8164 - accuracy: 0.65 - ETA: 2:37 - loss: 0.8148 - accuracy: 0.65 - ETA: 2:37 - loss: 0.8112 - accuracy: 0.65 - ETA: 2:36 - loss: 0.8160 - accuracy: 0.65 - ETA: 2:36 - loss: 0.8178 - accuracy: 0.65 - ETA: 2:36 - loss: 0.8167 - accuracy: 0.65 - ETA: 2:35 - loss: 0.8162 - accuracy: 0.65 - ETA: 2:35 - loss: 0.8146 - accuracy: 0.65 - ETA: 2:35 - loss: 0.8129 - accuracy: 0.65 - ETA: 2:34 - loss: 0.8132 - accuracy: 0.65 - ETA: 2:34 - loss: 0.8142 - accuracy: 0.65 - ETA: 2:33 - loss: 0.8143 - accuracy: 0.65 - ETA: 2:33 - loss: 0.8120 - accuracy: 0.65 - ETA: 2:33 - loss: 0.8131 - accuracy: 0.65 - ETA: 2:32 - loss: 0.8137 - accuracy: 0.65 - ETA: 2:32 - loss: 0.8117 - accuracy: 0.65 - ETA: 2:32 - loss: 0.8134 - accuracy: 0.65 - ETA: 2:31 - loss: 0.8138 - accuracy: 0.65 - ETA: 2:31 - loss: 0.8155 - accuracy: 0.65 - ETA: 2:31 - loss: 0.8166 - accuracy: 0.65 - ETA: 2:30 - loss: 0.8164 - accuracy: 0.65 - ETA: 2:30 - loss: 0.8178 - accuracy: 0.65 - ETA: 2:30 - loss: 0.8150 - accuracy: 0.65 - ETA: 2:29 - loss: 0.8135 - accuracy: 0.65 - ETA: 2:29 - loss: 0.8170 - accuracy: 0.65 - ETA: 2:28 - loss: 0.8160 - accuracy: 0.65 - ETA: 2:28 - loss: 0.8171 - accuracy: 0.65 - ETA: 2:28 - loss: 0.8170 - accuracy: 0.65 - ETA: 2:27 - loss: 0.8170 - accuracy: 0.65 - ETA: 2:27 - loss: 0.8166 - accuracy: 0.65 - ETA: 2:27 - loss: 0.8175 - accuracy: 0.65 - ETA: 2:26 - loss: 0.8151 - accuracy: 0.65 - ETA: 2:26 - loss: 0.8145 - accuracy: 0.65 - ETA: 2:25 - loss: 0.8123 - accuracy: 0.65 - ETA: 2:25 - loss: 0.8130 - accuracy: 0.65 - ETA: 2:25 - loss: 0.8134 - accuracy: 0.65 - ETA: 2:24 - loss: 0.8138 - accuracy: 0.65 - ETA: 2:24 - loss: 0.8143 - accuracy: 0.65 - ETA: 2:24 - loss: 0.8149 - accuracy: 0.65 - ETA: 2:23 - loss: 0.8146 - accuracy: 0.65 - ETA: 2:23 - loss: 0.8139 - accuracy: 0.65 - ETA: 2:23 - loss: 0.8138 - accuracy: 0.65 - ETA: 2:22 - loss: 0.8134 - accuracy: 0.65 - ETA: 2:22 - loss: 0.8115 - accuracy: 0.65 - ETA: 2:21 - loss: 0.8132 - accuracy: 0.65 - ETA: 2:21 - loss: 0.8130 - accuracy: 0.65 - ETA: 2:21 - loss: 0.8123 - accuracy: 0.65 - ETA: 2:20 - loss: 0.8131 - accuracy: 0.65 - ETA: 2:20 - loss: 0.8119 - accuracy: 0.65 - ETA: 2:20 - loss: 0.8114 - accuracy: 0.65 - ETA: 2:19 - loss: 0.8110 - accuracy: 0.65 - ETA: 2:19 - loss: 0.8104 - accuracy: 0.65 - ETA: 2:18 - loss: 0.8099 - accuracy: 0.65 - ETA: 2:18 - loss: 0.8088 - accuracy: 0.65 - ETA: 2:18 - loss: 0.8093 - accuracy: 0.65 - ETA: 2:17 - loss: 0.8088 - accuracy: 0.65 - ETA: 2:17 - loss: 0.8098 - accuracy: 0.65 - ETA: 2:17 - loss: 0.8092 - accuracy: 0.65 - ETA: 2:16 - loss: 0.8081 - accuracy: 0.65 - ETA: 2:16 - loss: 0.8080 - accuracy: 0.65 - ETA: 2:16 - loss: 0.8063 - accuracy: 0.65 - ETA: 2:15 - loss: 0.8050 - accuracy: 0.65 - ETA: 2:15 - loss: 0.8053 - accuracy: 0.65 - ETA: 2:14 - loss: 0.8075 - accuracy: 0.65 - ETA: 2:14 - loss: 0.8070 - accuracy: 0.65 - ETA: 2:14 - loss: 0.8057 - accuracy: 0.65 - ETA: 2:13 - loss: 0.8063 - accuracy: 0.65 - ETA: 2:13 - loss: 0.8054 - accuracy: 0.65 - ETA: 2:12 - loss: 0.8068 - accuracy: 0.65 - ETA: 2:12 - loss: 0.8061 - accuracy: 0.65 - ETA: 2:12 - loss: 0.8052 - accuracy: 0.65 - ETA: 2:11 - loss: 0.8046 - accuracy: 0.65 - ETA: 2:11 - loss: 0.8030 - accuracy: 0.65 - ETA: 2:11 - loss: 0.8055 - accuracy: 0.65 - ETA: 2:10 - loss: 0.8065 - accuracy: 0.65 - ETA: 2:10 - loss: 0.8075 - accuracy: 0.65 - ETA: 2:09 - loss: 0.8068 - accuracy: 0.65 - ETA: 2:09 - loss: 0.8063 - accuracy: 0.65 - ETA: 2:09 - loss: 0.8050 - accuracy: 0.65 - ETA: 2:08 - loss: 0.8041 - accuracy: 0.65 - ETA: 2:08 - loss: 0.8041 - accuracy: 0.65 - ETA: 2:08 - loss: 0.8037 - accuracy: 0.65 - ETA: 2:07 - loss: 0.8032 - accuracy: 0.65 - ETA: 2:07 - loss: 0.8036 - accuracy: 0.65 - ETA: 2:06 - loss: 0.8040 - accuracy: 0.65 - ETA: 2:06 - loss: 0.8045 - accuracy: 0.65 - ETA: 2:06 - loss: 0.8057 - accuracy: 0.65 - ETA: 2:05 - loss: 0.8065 - accuracy: 0.64 - ETA: 2:05 - loss: 0.8054 - accuracy: 0.64 - ETA: 2:04 - loss: 0.8059 - accuracy: 0.64 - ETA: 2:04 - loss: 0.8043 - accuracy: 0.65 - ETA: 2:04 - loss: 0.8031 - accuracy: 0.65 - ETA: 2:03 - loss: 0.8031 - accuracy: 0.65 - ETA: 2:03 - loss: 0.8018 - accuracy: 0.65 - ETA: 2:03 - loss: 0.8015 - accuracy: 0.65 - ETA: 2:02 - loss: 0.8008 - accuracy: 0.65 - ETA: 2:02 - loss: 0.7997 - accuracy: 0.65 - ETA: 2:01 - loss: 0.7989 - accuracy: 0.65 - ETA: 2:01 - loss: 0.7992 - accuracy: 0.65 - ETA: 2:01 - loss: 0.7978 - accuracy: 0.65 - ETA: 2:00 - loss: 0.7979 - accuracy: 0.653111904/15924 [=====================>........] - ETA: 2:00 - loss: 0.7973 - accuracy: 0.65 - ETA: 1:59 - loss: 0.7955 - accuracy: 0.65 - ETA: 1:59 - loss: 0.7952 - accuracy: 0.65 - ETA: 1:59 - loss: 0.7946 - accuracy: 0.65 - ETA: 1:58 - loss: 0.7930 - accuracy: 0.65 - ETA: 1:58 - loss: 0.7930 - accuracy: 0.65 - ETA: 1:58 - loss: 0.7931 - accuracy: 0.65 - ETA: 1:57 - loss: 0.7935 - accuracy: 0.65 - ETA: 1:57 - loss: 0.7928 - accuracy: 0.65 - ETA: 1:56 - loss: 0.7923 - accuracy: 0.65 - ETA: 1:56 - loss: 0.7915 - accuracy: 0.65 - ETA: 1:56 - loss: 0.7913 - accuracy: 0.65 - ETA: 1:55 - loss: 0.7908 - accuracy: 0.65 - ETA: 1:55 - loss: 0.7903 - accuracy: 0.65 - ETA: 1:55 - loss: 0.7906 - accuracy: 0.65 - ETA: 1:54 - loss: 0.7906 - accuracy: 0.65 - ETA: 1:54 - loss: 0.7902 - accuracy: 0.65 - ETA: 1:53 - loss: 0.7900 - accuracy: 0.65 - ETA: 1:53 - loss: 0.7905 - accuracy: 0.65 - ETA: 1:53 - loss: 0.7906 - accuracy: 0.65 - ETA: 1:52 - loss: 0.7902 - accuracy: 0.65 - ETA: 1:52 - loss: 0.7898 - accuracy: 0.65 - ETA: 1:51 - loss: 0.7909 - accuracy: 0.65 - ETA: 1:51 - loss: 0.7904 - accuracy: 0.65 - ETA: 1:51 - loss: 0.7901 - accuracy: 0.65 - ETA: 1:50 - loss: 0.7901 - accuracy: 0.65 - ETA: 1:50 - loss: 0.7893 - accuracy: 0.65 - ETA: 1:50 - loss: 0.7886 - accuracy: 0.65 - ETA: 1:49 - loss: 0.7877 - accuracy: 0.65 - ETA: 1:49 - loss: 0.7872 - accuracy: 0.65 - ETA: 1:48 - loss: 0.7874 - accuracy: 0.65 - ETA: 1:48 - loss: 0.7872 - accuracy: 0.65 - ETA: 1:48 - loss: 0.7870 - accuracy: 0.65 - ETA: 1:47 - loss: 0.7870 - accuracy: 0.65 - ETA: 1:47 - loss: 0.7865 - accuracy: 0.65 - ETA: 1:46 - loss: 0.7859 - accuracy: 0.65 - ETA: 1:46 - loss: 0.7856 - accuracy: 0.65 - ETA: 1:46 - loss: 0.7855 - accuracy: 0.65 - ETA: 1:45 - loss: 0.7859 - accuracy: 0.65 - ETA: 1:45 - loss: 0.7853 - accuracy: 0.65 - ETA: 1:44 - loss: 0.7859 - accuracy: 0.65 - ETA: 1:44 - loss: 0.7857 - accuracy: 0.65 - ETA: 1:44 - loss: 0.7858 - accuracy: 0.65 - ETA: 1:43 - loss: 0.7854 - accuracy: 0.65 - ETA: 1:43 - loss: 0.7871 - accuracy: 0.65 - ETA: 1:43 - loss: 0.7861 - accuracy: 0.65 - ETA: 1:42 - loss: 0.7856 - accuracy: 0.65 - ETA: 1:42 - loss: 0.7851 - accuracy: 0.65 - ETA: 1:41 - loss: 0.7849 - accuracy: 0.65 - ETA: 1:41 - loss: 0.7869 - accuracy: 0.65 - ETA: 1:41 - loss: 0.7858 - accuracy: 0.65 - ETA: 1:40 - loss: 0.7857 - accuracy: 0.65 - ETA: 1:40 - loss: 0.7864 - accuracy: 0.65 - ETA: 1:40 - loss: 0.7862 - accuracy: 0.65 - ETA: 1:39 - loss: 0.7856 - accuracy: 0.65 - ETA: 1:39 - loss: 0.7860 - accuracy: 0.65 - ETA: 1:38 - loss: 0.7859 - accuracy: 0.65 - ETA: 1:38 - loss: 0.7855 - accuracy: 0.65 - ETA: 1:38 - loss: 0.7853 - accuracy: 0.65 - ETA: 1:37 - loss: 0.7855 - accuracy: 0.65 - ETA: 1:37 - loss: 0.7853 - accuracy: 0.65 - ETA: 1:36 - loss: 0.7857 - accuracy: 0.65 - ETA: 1:36 - loss: 0.7860 - accuracy: 0.65 - ETA: 1:36 - loss: 0.7856 - accuracy: 0.65 - ETA: 1:35 - loss: 0.7854 - accuracy: 0.65 - ETA: 1:35 - loss: 0.7852 - accuracy: 0.65 - ETA: 1:35 - loss: 0.7849 - accuracy: 0.65 - ETA: 1:34 - loss: 0.7847 - accuracy: 0.65 - ETA: 1:34 - loss: 0.7848 - accuracy: 0.65 - ETA: 1:33 - loss: 0.7847 - accuracy: 0.65 - ETA: 1:33 - loss: 0.7847 - accuracy: 0.65 - ETA: 1:33 - loss: 0.7842 - accuracy: 0.65 - ETA: 1:32 - loss: 0.7850 - accuracy: 0.65 - ETA: 1:32 - loss: 0.7847 - accuracy: 0.65 - ETA: 1:31 - loss: 0.7847 - accuracy: 0.65 - ETA: 1:31 - loss: 0.7844 - accuracy: 0.65 - ETA: 1:31 - loss: 0.7843 - accuracy: 0.65 - ETA: 1:30 - loss: 0.7841 - accuracy: 0.65 - ETA: 1:30 - loss: 0.7837 - accuracy: 0.65 - ETA: 1:30 - loss: 0.7832 - accuracy: 0.65 - ETA: 1:29 - loss: 0.7842 - accuracy: 0.65 - ETA: 1:29 - loss: 0.7847 - accuracy: 0.65 - ETA: 1:28 - loss: 0.7841 - accuracy: 0.65 - ETA: 1:28 - loss: 0.7848 - accuracy: 0.65 - ETA: 1:28 - loss: 0.7855 - accuracy: 0.65 - ETA: 1:27 - loss: 0.7856 - accuracy: 0.65 - ETA: 1:27 - loss: 0.7849 - accuracy: 0.65 - ETA: 1:26 - loss: 0.7855 - accuracy: 0.65 - ETA: 1:26 - loss: 0.7853 - accuracy: 0.65 - ETA: 1:26 - loss: 0.7855 - accuracy: 0.65 - ETA: 1:25 - loss: 0.7855 - accuracy: 0.65 - ETA: 1:25 - loss: 0.7857 - accuracy: 0.65 - ETA: 1:25 - loss: 0.7855 - accuracy: 0.65 - ETA: 1:24 - loss: 0.7849 - accuracy: 0.65 - ETA: 1:24 - loss: 0.7852 - accuracy: 0.65 - ETA: 1:23 - loss: 0.7857 - accuracy: 0.65 - ETA: 1:23 - loss: 0.7849 - accuracy: 0.65 - ETA: 1:23 - loss: 0.7856 - accuracy: 0.65 - ETA: 1:22 - loss: 0.7863 - accuracy: 0.65 - ETA: 1:22 - loss: 0.7863 - accuracy: 0.65 - ETA: 1:21 - loss: 0.7860 - accuracy: 0.65 - ETA: 1:21 - loss: 0.7856 - accuracy: 0.65 - ETA: 1:21 - loss: 0.7856 - accuracy: 0.65 - ETA: 1:20 - loss: 0.7852 - accuracy: 0.65 - ETA: 1:20 - loss: 0.7842 - accuracy: 0.65 - ETA: 1:20 - loss: 0.7838 - accuracy: 0.65 - ETA: 1:19 - loss: 0.7840 - accuracy: 0.65 - ETA: 1:19 - loss: 0.7845 - accuracy: 0.65 - ETA: 1:18 - loss: 0.7841 - accuracy: 0.65 - ETA: 1:18 - loss: 0.7834 - accuracy: 0.65 - ETA: 1:18 - loss: 0.7835 - accuracy: 0.65 - ETA: 1:17 - loss: 0.7847 - accuracy: 0.65 - ETA: 1:17 - loss: 0.7841 - accuracy: 0.65 - ETA: 1:16 - loss: 0.7836 - accuracy: 0.65 - ETA: 1:16 - loss: 0.7833 - accuracy: 0.65 - ETA: 1:16 - loss: 0.7835 - accuracy: 0.65 - ETA: 1:15 - loss: 0.7836 - accuracy: 0.65 - ETA: 1:15 - loss: 0.7834 - accuracy: 0.65 - ETA: 1:15 - loss: 0.7830 - accuracy: 0.65 - ETA: 1:14 - loss: 0.7831 - accuracy: 0.65 - ETA: 1:14 - loss: 0.7831 - accuracy: 0.65 - ETA: 1:13 - loss: 0.7825 - accuracy: 0.65 - ETA: 1:13 - loss: 0.7831 - accuracy: 0.65 - ETA: 1:13 - loss: 0.7829 - accuracy: 0.65 - ETA: 1:12 - loss: 0.7828 - accuracy: 0.65 - ETA: 1:12 - loss: 0.7824 - accuracy: 0.65 - ETA: 1:11 - loss: 0.7822 - accuracy: 0.65 - ETA: 1:11 - loss: 0.7827 - accuracy: 0.65 - ETA: 1:11 - loss: 0.7823 - accuracy: 0.65 - ETA: 1:10 - loss: 0.7821 - accuracy: 0.65 - ETA: 1:10 - loss: 0.7821 - accuracy: 0.65 - ETA: 1:10 - loss: 0.7816 - accuracy: 0.65 - ETA: 1:09 - loss: 0.7813 - accuracy: 0.66 - ETA: 1:09 - loss: 0.7809 - accuracy: 0.66 - ETA: 1:08 - loss: 0.7808 - accuracy: 0.66 - ETA: 1:08 - loss: 0.7805 - accuracy: 0.66 - ETA: 1:08 - loss: 0.7806 - accuracy: 0.66 - ETA: 1:07 - loss: 0.7808 - accuracy: 0.66 - ETA: 1:07 - loss: 0.7815 - accuracy: 0.65 - ETA: 1:07 - loss: 0.7820 - accuracy: 0.65 - ETA: 1:06 - loss: 0.7823 - accuracy: 0.65 - ETA: 1:06 - loss: 0.7827 - accuracy: 0.65 - ETA: 1:05 - loss: 0.7826 - accuracy: 0.65 - ETA: 1:05 - loss: 0.7827 - accuracy: 0.65 - ETA: 1:05 - loss: 0.7821 - accuracy: 0.65 - ETA: 1:04 - loss: 0.7827 - accuracy: 0.65 - ETA: 1:04 - loss: 0.7825 - accuracy: 0.65 - ETA: 1:03 - loss: 0.7816 - accuracy: 0.66 - ETA: 1:03 - loss: 0.7820 - accuracy: 0.66 - ETA: 1:03 - loss: 0.7821 - accuracy: 0.66 - ETA: 1:02 - loss: 0.7819 - accuracy: 0.66 - ETA: 1:02 - loss: 0.7818 - accuracy: 0.66 - ETA: 1:01 - loss: 0.7820 - accuracy: 0.66 - ETA: 1:01 - loss: 0.7819 - accuracy: 0.66 - ETA: 1:01 - loss: 0.7826 - accuracy: 0.66 - ETA: 1:00 - loss: 0.7823 - accuracy: 0.66 - ETA: 1:00 - loss: 0.7823 - accuracy: 0.66 - ETA: 1:00 - loss: 0.7827 - accuracy: 0.66 - ETA: 59s - loss: 0.7824 - accuracy: 0.6601 - ETA: 59s - loss: 0.7820 - accuracy: 0.660 - ETA: 58s - loss: 0.7819 - accuracy: 0.659 - ETA: 58s - loss: 0.7816 - accuracy: 0.659 - ETA: 58s - loss: 0.7812 - accuracy: 0.660 - ETA: 57s - loss: 0.7814 - accuracy: 0.660 - ETA: 57s - loss: 0.7810 - accuracy: 0.660 - ETA: 56s - loss: 0.7810 - accuracy: 0.660 - ETA: 56s - loss: 0.7807 - accuracy: 0.660 - ETA: 56s - loss: 0.7805 - accuracy: 0.660 - ETA: 55s - loss: 0.7803 - accuracy: 0.660 - ETA: 55s - loss: 0.7805 - accuracy: 0.660 - ETA: 54s - loss: 0.7806 - accuracy: 0.660 - ETA: 54s - loss: 0.7799 - accuracy: 0.660 - ETA: 54s - loss: 0.7795 - accuracy: 0.661 - ETA: 53s - loss: 0.7804 - accuracy: 0.660 - ETA: 53s - loss: 0.7805 - accuracy: 0.660 - ETA: 53s - loss: 0.7803 - accuracy: 0.661 - ETA: 52s - loss: 0.7798 - accuracy: 0.661 - ETA: 52s - loss: 0.7800 - accuracy: 0.661 - ETA: 51s - loss: 0.7798 - accuracy: 0.661 - ETA: 51s - loss: 0.7794 - accuracy: 0.661 - ETA: 51s - loss: 0.7797 - accuracy: 0.661 - ETA: 50s - loss: 0.7797 - accuracy: 0.660 - ETA: 50s - loss: 0.7801 - accuracy: 0.660 - ETA: 49s - loss: 0.7799 - accuracy: 0.660 - ETA: 49s - loss: 0.7801 - accuracy: 0.660 - ETA: 49s - loss: 0.7800 - accuracy: 0.6604"
     ]
    },
    {
     "name": "stdout",
     "output_type": "stream",
     "text": [
      "15924/15924 [==============================] - ETA: 48s - loss: 0.7800 - accuracy: 0.660 - ETA: 48s - loss: 0.7803 - accuracy: 0.660 - ETA: 47s - loss: 0.7803 - accuracy: 0.660 - ETA: 47s - loss: 0.7802 - accuracy: 0.660 - ETA: 47s - loss: 0.7796 - accuracy: 0.660 - ETA: 46s - loss: 0.7799 - accuracy: 0.660 - ETA: 46s - loss: 0.7801 - accuracy: 0.659 - ETA: 45s - loss: 0.7797 - accuracy: 0.660 - ETA: 45s - loss: 0.7793 - accuracy: 0.660 - ETA: 45s - loss: 0.7794 - accuracy: 0.660 - ETA: 44s - loss: 0.7789 - accuracy: 0.660 - ETA: 44s - loss: 0.7795 - accuracy: 0.659 - ETA: 44s - loss: 0.7794 - accuracy: 0.659 - ETA: 43s - loss: 0.7791 - accuracy: 0.660 - ETA: 43s - loss: 0.7791 - accuracy: 0.660 - ETA: 42s - loss: 0.7790 - accuracy: 0.660 - ETA: 42s - loss: 0.7798 - accuracy: 0.659 - ETA: 42s - loss: 0.7796 - accuracy: 0.659 - ETA: 41s - loss: 0.7798 - accuracy: 0.659 - ETA: 41s - loss: 0.7794 - accuracy: 0.659 - ETA: 40s - loss: 0.7786 - accuracy: 0.660 - ETA: 40s - loss: 0.7791 - accuracy: 0.660 - ETA: 40s - loss: 0.7793 - accuracy: 0.659 - ETA: 39s - loss: 0.7791 - accuracy: 0.659 - ETA: 39s - loss: 0.7792 - accuracy: 0.659 - ETA: 38s - loss: 0.7791 - accuracy: 0.659 - ETA: 38s - loss: 0.7788 - accuracy: 0.659 - ETA: 38s - loss: 0.7785 - accuracy: 0.659 - ETA: 37s - loss: 0.7780 - accuracy: 0.660 - ETA: 37s - loss: 0.7784 - accuracy: 0.660 - ETA: 36s - loss: 0.7790 - accuracy: 0.660 - ETA: 36s - loss: 0.7796 - accuracy: 0.659 - ETA: 36s - loss: 0.7795 - accuracy: 0.660 - ETA: 35s - loss: 0.7800 - accuracy: 0.659 - ETA: 35s - loss: 0.7800 - accuracy: 0.659 - ETA: 35s - loss: 0.7795 - accuracy: 0.660 - ETA: 34s - loss: 0.7794 - accuracy: 0.660 - ETA: 34s - loss: 0.7793 - accuracy: 0.660 - ETA: 33s - loss: 0.7793 - accuracy: 0.660 - ETA: 33s - loss: 0.7792 - accuracy: 0.660 - ETA: 33s - loss: 0.7784 - accuracy: 0.660 - ETA: 32s - loss: 0.7780 - accuracy: 0.660 - ETA: 32s - loss: 0.7779 - accuracy: 0.660 - ETA: 31s - loss: 0.7777 - accuracy: 0.661 - ETA: 31s - loss: 0.7775 - accuracy: 0.661 - ETA: 31s - loss: 0.7777 - accuracy: 0.661 - ETA: 30s - loss: 0.7775 - accuracy: 0.661 - ETA: 30s - loss: 0.7774 - accuracy: 0.661 - ETA: 29s - loss: 0.7774 - accuracy: 0.662 - ETA: 29s - loss: 0.7771 - accuracy: 0.661 - ETA: 29s - loss: 0.7769 - accuracy: 0.661 - ETA: 28s - loss: 0.7765 - accuracy: 0.662 - ETA: 28s - loss: 0.7759 - accuracy: 0.662 - ETA: 28s - loss: 0.7762 - accuracy: 0.662 - ETA: 27s - loss: 0.7764 - accuracy: 0.662 - ETA: 27s - loss: 0.7759 - accuracy: 0.662 - ETA: 26s - loss: 0.7759 - accuracy: 0.662 - ETA: 26s - loss: 0.7760 - accuracy: 0.662 - ETA: 26s - loss: 0.7763 - accuracy: 0.662 - ETA: 25s - loss: 0.7766 - accuracy: 0.662 - ETA: 25s - loss: 0.7772 - accuracy: 0.662 - ETA: 24s - loss: 0.7768 - accuracy: 0.662 - ETA: 24s - loss: 0.7767 - accuracy: 0.662 - ETA: 24s - loss: 0.7764 - accuracy: 0.662 - ETA: 23s - loss: 0.7764 - accuracy: 0.662 - ETA: 23s - loss: 0.7762 - accuracy: 0.662 - ETA: 22s - loss: 0.7762 - accuracy: 0.662 - ETA: 22s - loss: 0.7760 - accuracy: 0.662 - ETA: 22s - loss: 0.7760 - accuracy: 0.662 - ETA: 21s - loss: 0.7757 - accuracy: 0.662 - ETA: 21s - loss: 0.7755 - accuracy: 0.662 - ETA: 20s - loss: 0.7752 - accuracy: 0.662 - ETA: 20s - loss: 0.7748 - accuracy: 0.662 - ETA: 20s - loss: 0.7757 - accuracy: 0.662 - ETA: 19s - loss: 0.7759 - accuracy: 0.661 - ETA: 19s - loss: 0.7758 - accuracy: 0.662 - ETA: 19s - loss: 0.7756 - accuracy: 0.662 - ETA: 18s - loss: 0.7759 - accuracy: 0.662 - ETA: 18s - loss: 0.7756 - accuracy: 0.662 - ETA: 17s - loss: 0.7753 - accuracy: 0.662 - ETA: 17s - loss: 0.7749 - accuracy: 0.662 - ETA: 17s - loss: 0.7753 - accuracy: 0.662 - ETA: 16s - loss: 0.7754 - accuracy: 0.662 - ETA: 16s - loss: 0.7750 - accuracy: 0.662 - ETA: 15s - loss: 0.7748 - accuracy: 0.662 - ETA: 15s - loss: 0.7746 - accuracy: 0.662 - ETA: 15s - loss: 0.7743 - accuracy: 0.662 - ETA: 14s - loss: 0.7744 - accuracy: 0.662 - ETA: 14s - loss: 0.7749 - accuracy: 0.662 - ETA: 13s - loss: 0.7749 - accuracy: 0.662 - ETA: 13s - loss: 0.7751 - accuracy: 0.662 - ETA: 13s - loss: 0.7748 - accuracy: 0.662 - ETA: 12s - loss: 0.7757 - accuracy: 0.662 - ETA: 12s - loss: 0.7755 - accuracy: 0.662 - ETA: 11s - loss: 0.7756 - accuracy: 0.661 - ETA: 11s - loss: 0.7757 - accuracy: 0.661 - ETA: 11s - loss: 0.7761 - accuracy: 0.661 - ETA: 10s - loss: 0.7761 - accuracy: 0.661 - ETA: 10s - loss: 0.7759 - accuracy: 0.661 - ETA: 10s - loss: 0.7759 - accuracy: 0.661 - ETA: 9s - loss: 0.7751 - accuracy: 0.662 - ETA: 9s - loss: 0.7750 - accuracy: 0.66 - ETA: 8s - loss: 0.7750 - accuracy: 0.66 - ETA: 8s - loss: 0.7750 - accuracy: 0.66 - ETA: 8s - loss: 0.7747 - accuracy: 0.66 - ETA: 7s - loss: 0.7745 - accuracy: 0.66 - ETA: 7s - loss: 0.7744 - accuracy: 0.66 - ETA: 6s - loss: 0.7739 - accuracy: 0.66 - ETA: 6s - loss: 0.7737 - accuracy: 0.66 - ETA: 6s - loss: 0.7742 - accuracy: 0.66 - ETA: 5s - loss: 0.7740 - accuracy: 0.66 - ETA: 5s - loss: 0.7734 - accuracy: 0.66 - ETA: 4s - loss: 0.7737 - accuracy: 0.66 - ETA: 4s - loss: 0.7733 - accuracy: 0.66 - ETA: 4s - loss: 0.7736 - accuracy: 0.66 - ETA: 3s - loss: 0.7739 - accuracy: 0.66 - ETA: 3s - loss: 0.7741 - accuracy: 0.66 - ETA: 2s - loss: 0.7737 - accuracy: 0.66 - ETA: 2s - loss: 0.7735 - accuracy: 0.66 - ETA: 2s - loss: 0.7736 - accuracy: 0.66 - ETA: 1s - loss: 0.7737 - accuracy: 0.66 - ETA: 1s - loss: 0.7733 - accuracy: 0.66 - ETA: 1s - loss: 0.7729 - accuracy: 0.66 - ETA: 0s - loss: 0.7726 - accuracy: 0.66 - ETA: 0s - loss: 0.7726 - accuracy: 0.66 - 208s 13ms/step - loss: 0.7727 - accuracy: 0.6638 - val_loss: 0.7152 - val_accuracy: 0.6745\n"
     ]
    },
    {
     "data": {
      "text/plain": [
       "<keras.callbacks.callbacks.History at 0x23731434668>"
      ]
     },
     "execution_count": 114,
     "metadata": {},
     "output_type": "execute_result"
    }
   ],
   "source": [
    "\n",
    "# Training the model\n",
    "model.fit(X_train, y_train, batch_size=32, epochs=2, validation_split=0.2)"
   ]
  },
  {
   "cell_type": "code",
   "execution_count": 123,
   "metadata": {},
   "outputs": [],
   "source": [
    "#model.optimizer.lr=0.0001\n",
    "model.save_weights('age-detection_weights.h5')"
   ]
  },
  {
   "cell_type": "markdown",
   "metadata": {},
   "source": [
    "WITH DATA AUGMENTATION"
   ]
  },
  {
   "cell_type": "code",
   "execution_count": 125,
   "metadata": {},
   "outputs": [],
   "source": [
    "#train-test split for training model\n",
    "from sklearn.model_selection import train_test_split\n",
    "X_trn, X_valid, y_trn, y_valid = train_test_split(X_train, y_train, test_size = 0.2)"
   ]
  },
  {
   "cell_type": "code",
   "execution_count": 126,
   "metadata": {},
   "outputs": [],
   "source": [
    "#image data generator\n",
    "gen = image.ImageDataGenerator(rotation_range=15, width_shift_range=0.1, shear_range=0.25,\n",
    "                               height_shift_range=0.1, zoom_range=0.2, horizontal_flip = True)\n",
    "batches = gen.flow(X_trn, y_trn, batch_size = 64)\n",
    "val_batches = gen.flow(X_valid, y_valid, batch_size = 128)"
   ]
  },
  {
   "cell_type": "code",
   "execution_count": 127,
   "metadata": {
    "collapsed": true
   },
   "outputs": [
    {
     "ename": "AttributeError",
     "evalue": "can't set attribute",
     "output_type": "error",
     "traceback": [
      "\u001b[1;31m---------------------------------------------------------------------------\u001b[0m",
      "\u001b[1;31mAttributeError\u001b[0m                            Traceback (most recent call last)",
      "\u001b[1;32m<ipython-input-127-bb4183ab45fc>\u001b[0m in \u001b[0;36m<module>\u001b[1;34m\u001b[0m\n\u001b[1;32m----> 1\u001b[1;33m \u001b[0mmodel\u001b[0m\u001b[1;33m.\u001b[0m\u001b[0moptimizer\u001b[0m\u001b[1;33m.\u001b[0m\u001b[0mlr\u001b[0m \u001b[1;33m=\u001b[0m \u001b[1;36m0.001\u001b[0m\u001b[1;33m\u001b[0m\u001b[1;33m\u001b[0m\u001b[0m\n\u001b[0m",
      "\u001b[1;31mAttributeError\u001b[0m: can't set attribute"
     ]
    }
   ],
   "source": [
    "#model.optimizer.lr = 0.001"
   ]
  },
  {
   "cell_type": "code",
   "execution_count": 128,
   "metadata": {},
   "outputs": [
    {
     "name": "stdout",
     "output_type": "stream",
     "text": [
      "Epoch 1/1\n"
     ]
    },
    {
     "name": "stdout",
     "output_type": "stream",
     "text": [
      "186/248 [=====================>........] - ETA: 5:37 - loss: 0.8527 - accuracy: 0.59 - ETA: 5:03 - loss: 0.8418 - accuracy: 0.60 - ETA: 4:39 - loss: 0.7965 - accuracy: 0.61 - ETA: 4:23 - loss: 0.7587 - accuracy: 0.64 - ETA: 4:10 - loss: 0.7753 - accuracy: 0.64 - ETA: 4:00 - loss: 0.8100 - accuracy: 0.64 - ETA: 3:53 - loss: 0.8131 - accuracy: 0.63 - ETA: 3:48 - loss: 0.8211 - accuracy: 0.64 - ETA: 3:44 - loss: 0.8116 - accuracy: 0.64 - ETA: 3:40 - loss: 0.7977 - accuracy: 0.65 - ETA: 3:37 - loss: 0.8002 - accuracy: 0.65 - ETA: 3:34 - loss: 0.7934 - accuracy: 0.65 - ETA: 3:31 - loss: 0.7872 - accuracy: 0.65 - ETA: 3:28 - loss: 0.7828 - accuracy: 0.66 - ETA: 3:26 - loss: 0.7842 - accuracy: 0.66 - ETA: 3:24 - loss: 0.7827 - accuracy: 0.66 - ETA: 3:22 - loss: 0.7813 - accuracy: 0.66 - ETA: 3:20 - loss: 0.7796 - accuracy: 0.66 - ETA: 3:19 - loss: 0.7780 - accuracy: 0.66 - ETA: 3:17 - loss: 0.7805 - accuracy: 0.66 - ETA: 3:16 - loss: 0.7788 - accuracy: 0.66 - ETA: 3:15 - loss: 0.7768 - accuracy: 0.66 - ETA: 3:14 - loss: 0.7788 - accuracy: 0.65 - ETA: 3:12 - loss: 0.7828 - accuracy: 0.65 - ETA: 3:11 - loss: 0.7801 - accuracy: 0.65 - ETA: 3:10 - loss: 0.7794 - accuracy: 0.65 - ETA: 3:08 - loss: 0.7810 - accuracy: 0.65 - ETA: 3:07 - loss: 0.7742 - accuracy: 0.65 - ETA: 3:06 - loss: 0.7819 - accuracy: 0.65 - ETA: 3:04 - loss: 0.7769 - accuracy: 0.65 - ETA: 3:03 - loss: 0.7717 - accuracy: 0.65 - ETA: 3:02 - loss: 0.7741 - accuracy: 0.65 - ETA: 3:01 - loss: 0.7736 - accuracy: 0.65 - ETA: 3:00 - loss: 0.7714 - accuracy: 0.65 - ETA: 3:00 - loss: 0.7711 - accuracy: 0.65 - ETA: 2:59 - loss: 0.7718 - accuracy: 0.65 - ETA: 2:58 - loss: 0.7680 - accuracy: 0.65 - ETA: 2:57 - loss: 0.7662 - accuracy: 0.66 - ETA: 2:56 - loss: 0.7694 - accuracy: 0.65 - ETA: 2:55 - loss: 0.7694 - accuracy: 0.65 - ETA: 2:54 - loss: 0.7673 - accuracy: 0.65 - ETA: 2:53 - loss: 0.7681 - accuracy: 0.65 - ETA: 2:51 - loss: 0.7659 - accuracy: 0.65 - ETA: 2:51 - loss: 0.7659 - accuracy: 0.65 - ETA: 2:49 - loss: 0.7690 - accuracy: 0.65 - ETA: 2:48 - loss: 0.7645 - accuracy: 0.65 - ETA: 2:48 - loss: 0.7618 - accuracy: 0.65 - ETA: 2:47 - loss: 0.7626 - accuracy: 0.65 - ETA: 2:46 - loss: 0.7627 - accuracy: 0.65 - ETA: 2:45 - loss: 0.7628 - accuracy: 0.65 - ETA: 2:44 - loss: 0.7627 - accuracy: 0.65 - ETA: 2:43 - loss: 0.7613 - accuracy: 0.65 - ETA: 2:42 - loss: 0.7607 - accuracy: 0.65 - ETA: 2:41 - loss: 0.7633 - accuracy: 0.65 - ETA: 2:40 - loss: 0.7641 - accuracy: 0.65 - ETA: 2:39 - loss: 0.7629 - accuracy: 0.65 - ETA: 2:38 - loss: 0.7608 - accuracy: 0.66 - ETA: 2:37 - loss: 0.7600 - accuracy: 0.66 - ETA: 2:36 - loss: 0.7609 - accuracy: 0.65 - ETA: 2:35 - loss: 0.7607 - accuracy: 0.66 - ETA: 2:34 - loss: 0.7626 - accuracy: 0.66 - ETA: 2:33 - loss: 0.7611 - accuracy: 0.66 - ETA: 2:32 - loss: 0.7628 - accuracy: 0.66 - ETA: 2:31 - loss: 0.7632 - accuracy: 0.65 - ETA: 2:30 - loss: 0.7639 - accuracy: 0.65 - ETA: 2:29 - loss: 0.7637 - accuracy: 0.66 - ETA: 2:28 - loss: 0.7605 - accuracy: 0.66 - ETA: 2:27 - loss: 0.7588 - accuracy: 0.66 - ETA: 2:26 - loss: 0.7563 - accuracy: 0.66 - ETA: 2:25 - loss: 0.7538 - accuracy: 0.66 - ETA: 2:24 - loss: 0.7524 - accuracy: 0.66 - ETA: 2:24 - loss: 0.7520 - accuracy: 0.66 - ETA: 2:23 - loss: 0.7497 - accuracy: 0.67 - ETA: 2:22 - loss: 0.7496 - accuracy: 0.67 - ETA: 2:21 - loss: 0.7504 - accuracy: 0.66 - ETA: 2:20 - loss: 0.7500 - accuracy: 0.66 - ETA: 2:19 - loss: 0.7520 - accuracy: 0.66 - ETA: 2:18 - loss: 0.7537 - accuracy: 0.66 - ETA: 2:17 - loss: 0.7520 - accuracy: 0.66 - ETA: 2:16 - loss: 0.7518 - accuracy: 0.66 - ETA: 2:16 - loss: 0.7508 - accuracy: 0.66 - ETA: 2:15 - loss: 0.7517 - accuracy: 0.66 - ETA: 2:14 - loss: 0.7537 - accuracy: 0.66 - ETA: 2:13 - loss: 0.7542 - accuracy: 0.66 - ETA: 2:12 - loss: 0.7532 - accuracy: 0.66 - ETA: 2:11 - loss: 0.7542 - accuracy: 0.66 - ETA: 2:10 - loss: 0.7556 - accuracy: 0.66 - ETA: 2:09 - loss: 0.7563 - accuracy: 0.66 - ETA: 2:08 - loss: 0.7549 - accuracy: 0.66 - ETA: 2:08 - loss: 0.7540 - accuracy: 0.66 - ETA: 2:07 - loss: 0.7529 - accuracy: 0.66 - ETA: 2:06 - loss: 0.7536 - accuracy: 0.66 - ETA: 2:05 - loss: 0.7532 - accuracy: 0.66 - ETA: 2:04 - loss: 0.7531 - accuracy: 0.66 - ETA: 2:03 - loss: 0.7526 - accuracy: 0.66 - ETA: 2:02 - loss: 0.7516 - accuracy: 0.66 - ETA: 2:02 - loss: 0.7528 - accuracy: 0.66 - ETA: 2:01 - loss: 0.7538 - accuracy: 0.66 - ETA: 2:00 - loss: 0.7533 - accuracy: 0.66 - ETA: 1:59 - loss: 0.7523 - accuracy: 0.66 - ETA: 1:58 - loss: 0.7518 - accuracy: 0.66 - ETA: 1:57 - loss: 0.7500 - accuracy: 0.66 - ETA: 1:57 - loss: 0.7497 - accuracy: 0.66 - ETA: 1:56 - loss: 0.7486 - accuracy: 0.66 - ETA: 1:55 - loss: 0.7480 - accuracy: 0.66 - ETA: 1:54 - loss: 0.7491 - accuracy: 0.66 - ETA: 1:53 - loss: 0.7509 - accuracy: 0.66 - ETA: 1:52 - loss: 0.7517 - accuracy: 0.66 - ETA: 1:51 - loss: 0.7526 - accuracy: 0.66 - ETA: 1:51 - loss: 0.7522 - accuracy: 0.66 - ETA: 1:50 - loss: 0.7510 - accuracy: 0.66 - ETA: 1:49 - loss: 0.7518 - accuracy: 0.66 - ETA: 1:48 - loss: 0.7518 - accuracy: 0.66 - ETA: 1:47 - loss: 0.7536 - accuracy: 0.66 - ETA: 1:46 - loss: 0.7545 - accuracy: 0.66 - ETA: 1:46 - loss: 0.7543 - accuracy: 0.66 - ETA: 1:45 - loss: 0.7534 - accuracy: 0.66 - ETA: 1:44 - loss: 0.7553 - accuracy: 0.66 - ETA: 1:43 - loss: 0.7550 - accuracy: 0.66 - ETA: 1:42 - loss: 0.7554 - accuracy: 0.66 - ETA: 1:41 - loss: 0.7548 - accuracy: 0.66 - ETA: 1:41 - loss: 0.7553 - accuracy: 0.66 - ETA: 1:40 - loss: 0.7556 - accuracy: 0.66 - ETA: 1:39 - loss: 0.7549 - accuracy: 0.66 - ETA: 1:38 - loss: 0.7548 - accuracy: 0.66 - ETA: 1:37 - loss: 0.7552 - accuracy: 0.66 - ETA: 1:37 - loss: 0.7565 - accuracy: 0.66 - ETA: 1:36 - loss: 0.7555 - accuracy: 0.66 - ETA: 1:35 - loss: 0.7548 - accuracy: 0.66 - ETA: 1:34 - loss: 0.7553 - accuracy: 0.66 - ETA: 1:33 - loss: 0.7554 - accuracy: 0.66 - ETA: 1:32 - loss: 0.7564 - accuracy: 0.66 - ETA: 1:32 - loss: 0.7568 - accuracy: 0.66 - ETA: 1:31 - loss: 0.7562 - accuracy: 0.66 - ETA: 1:30 - loss: 0.7562 - accuracy: 0.66 - ETA: 1:29 - loss: 0.7560 - accuracy: 0.66 - ETA: 1:28 - loss: 0.7556 - accuracy: 0.66 - ETA: 1:27 - loss: 0.7552 - accuracy: 0.66 - ETA: 1:27 - loss: 0.7546 - accuracy: 0.66 - ETA: 1:26 - loss: 0.7556 - accuracy: 0.66 - ETA: 1:25 - loss: 0.7548 - accuracy: 0.66 - ETA: 1:24 - loss: 0.7538 - accuracy: 0.66 - ETA: 1:23 - loss: 0.7532 - accuracy: 0.66 - ETA: 1:23 - loss: 0.7532 - accuracy: 0.66 - ETA: 1:22 - loss: 0.7537 - accuracy: 0.66 - ETA: 1:21 - loss: 0.7527 - accuracy: 0.66 - ETA: 1:20 - loss: 0.7538 - accuracy: 0.66 - ETA: 1:19 - loss: 0.7546 - accuracy: 0.66 - ETA: 1:18 - loss: 0.7551 - accuracy: 0.66 - ETA: 1:18 - loss: 0.7551 - accuracy: 0.66 - ETA: 1:17 - loss: 0.7551 - accuracy: 0.66 - ETA: 1:16 - loss: 0.7558 - accuracy: 0.66 - ETA: 1:15 - loss: 0.7558 - accuracy: 0.66 - ETA: 1:14 - loss: 0.7562 - accuracy: 0.66 - ETA: 1:14 - loss: 0.7566 - accuracy: 0.66 - ETA: 1:13 - loss: 0.7567 - accuracy: 0.66 - ETA: 1:12 - loss: 0.7568 - accuracy: 0.66 - ETA: 1:11 - loss: 0.7577 - accuracy: 0.66 - ETA: 1:10 - loss: 0.7570 - accuracy: 0.66 - ETA: 1:10 - loss: 0.7571 - accuracy: 0.66 - ETA: 1:09 - loss: 0.7566 - accuracy: 0.66 - ETA: 1:08 - loss: 0.7560 - accuracy: 0.66 - ETA: 1:07 - loss: 0.7555 - accuracy: 0.66 - ETA: 1:06 - loss: 0.7541 - accuracy: 0.66 - ETA: 1:05 - loss: 0.7545 - accuracy: 0.66 - ETA: 1:05 - loss: 0.7546 - accuracy: 0.66 - ETA: 1:04 - loss: 0.7537 - accuracy: 0.66 - ETA: 1:03 - loss: 0.7539 - accuracy: 0.66 - ETA: 1:02 - loss: 0.7542 - accuracy: 0.66 - ETA: 1:02 - loss: 0.7537 - accuracy: 0.66 - ETA: 1:01 - loss: 0.7536 - accuracy: 0.66 - ETA: 1:00 - loss: 0.7536 - accuracy: 0.66 - ETA: 59s - loss: 0.7543 - accuracy: 0.6668 - ETA: 58s - loss: 0.7540 - accuracy: 0.667 - ETA: 58s - loss: 0.7535 - accuracy: 0.667 - ETA: 57s - loss: 0.7527 - accuracy: 0.667 - ETA: 56s - loss: 0.7528 - accuracy: 0.667 - ETA: 55s - loss: 0.7536 - accuracy: 0.667 - ETA: 54s - loss: 0.7533 - accuracy: 0.667 - ETA: 54s - loss: 0.7541 - accuracy: 0.667 - ETA: 53s - loss: 0.7541 - accuracy: 0.667 - ETA: 52s - loss: 0.7534 - accuracy: 0.667 - ETA: 51s - loss: 0.7523 - accuracy: 0.668 - ETA: 50s - loss: 0.7523 - accuracy: 0.668 - ETA: 50s - loss: 0.7531 - accuracy: 0.668 - ETA: 49s - loss: 0.7535 - accuracy: 0.667248/248 [==============================] - ETA: 48s - loss: 0.7533 - accuracy: 0.667 - ETA: 47s - loss: 0.7527 - accuracy: 0.668 - ETA: 47s - loss: 0.7524 - accuracy: 0.668 - ETA: 46s - loss: 0.7517 - accuracy: 0.669 - ETA: 45s - loss: 0.7522 - accuracy: 0.668 - ETA: 44s - loss: 0.7531 - accuracy: 0.668 - ETA: 43s - loss: 0.7536 - accuracy: 0.668 - ETA: 43s - loss: 0.7529 - accuracy: 0.668 - ETA: 42s - loss: 0.7534 - accuracy: 0.668 - ETA: 41s - loss: 0.7536 - accuracy: 0.668 - ETA: 40s - loss: 0.7530 - accuracy: 0.668 - ETA: 39s - loss: 0.7530 - accuracy: 0.669 - ETA: 39s - loss: 0.7522 - accuracy: 0.669 - ETA: 38s - loss: 0.7518 - accuracy: 0.669 - ETA: 37s - loss: 0.7517 - accuracy: 0.669 - ETA: 36s - loss: 0.7526 - accuracy: 0.669 - ETA: 35s - loss: 0.7516 - accuracy: 0.670 - ETA: 35s - loss: 0.7522 - accuracy: 0.669 - ETA: 34s - loss: 0.7526 - accuracy: 0.669 - ETA: 33s - loss: 0.7519 - accuracy: 0.669 - ETA: 32s - loss: 0.7517 - accuracy: 0.670 - ETA: 32s - loss: 0.7517 - accuracy: 0.670 - ETA: 31s - loss: 0.7514 - accuracy: 0.670 - ETA: 30s - loss: 0.7510 - accuracy: 0.670 - ETA: 29s - loss: 0.7507 - accuracy: 0.670 - ETA: 28s - loss: 0.7509 - accuracy: 0.670 - ETA: 28s - loss: 0.7514 - accuracy: 0.669 - ETA: 27s - loss: 0.7516 - accuracy: 0.669 - ETA: 26s - loss: 0.7512 - accuracy: 0.670 - ETA: 25s - loss: 0.7509 - accuracy: 0.670 - ETA: 24s - loss: 0.7508 - accuracy: 0.670 - ETA: 24s - loss: 0.7506 - accuracy: 0.670 - ETA: 23s - loss: 0.7511 - accuracy: 0.669 - ETA: 22s - loss: 0.7500 - accuracy: 0.670 - ETA: 21s - loss: 0.7503 - accuracy: 0.670 - ETA: 20s - loss: 0.7507 - accuracy: 0.669 - ETA: 20s - loss: 0.7500 - accuracy: 0.670 - ETA: 19s - loss: 0.7497 - accuracy: 0.670 - ETA: 18s - loss: 0.7488 - accuracy: 0.670 - ETA: 17s - loss: 0.7489 - accuracy: 0.670 - ETA: 16s - loss: 0.7490 - accuracy: 0.670 - ETA: 16s - loss: 0.7488 - accuracy: 0.670 - ETA: 15s - loss: 0.7494 - accuracy: 0.670 - ETA: 14s - loss: 0.7489 - accuracy: 0.670 - ETA: 13s - loss: 0.7490 - accuracy: 0.670 - ETA: 12s - loss: 0.7489 - accuracy: 0.670 - ETA: 12s - loss: 0.7488 - accuracy: 0.670 - ETA: 11s - loss: 0.7492 - accuracy: 0.669 - ETA: 10s - loss: 0.7493 - accuracy: 0.669 - ETA: 9s - loss: 0.7499 - accuracy: 0.669 - ETA: 8s - loss: 0.7496 - accuracy: 0.66 - ETA: 8s - loss: 0.7488 - accuracy: 0.66 - ETA: 7s - loss: 0.7495 - accuracy: 0.66 - ETA: 6s - loss: 0.7495 - accuracy: 0.66 - ETA: 5s - loss: 0.7485 - accuracy: 0.67 - ETA: 4s - loss: 0.7487 - accuracy: 0.67 - ETA: 4s - loss: 0.7493 - accuracy: 0.67 - ETA: 3s - loss: 0.7489 - accuracy: 0.67 - ETA: 2s - loss: 0.7484 - accuracy: 0.67 - ETA: 1s - loss: 0.7485 - accuracy: 0.67 - ETA: 0s - loss: 0.7481 - accuracy: 0.67 - 213s 860ms/step - loss: 0.7487 - accuracy: 0.6704 - val_loss: 0.6534 - val_accuracy: 0.6910\n"
     ]
    },
    {
     "data": {
      "text/plain": [
       "<keras.callbacks.callbacks.History at 0x237333473c8>"
      ]
     },
     "execution_count": 128,
     "metadata": {},
     "output_type": "execute_result"
    }
   ],
   "source": [
    "#run model\n",
    "model.fit_generator(batches, (X_trn.shape[0]//batches.batch_size), epochs=1,\n",
    "                    validation_data = val_batches, validation_steps = (X_valid.shape[0]//val_batches.batch_size))"
   ]
  },
  {
   "cell_type": "code",
   "execution_count": 131,
   "metadata": {},
   "outputs": [],
   "source": [
    "model.save_weights('aug_age-detection_weights.h5')"
   ]
  },
  {
   "cell_type": "markdown",
   "metadata": {},
   "source": [
    "AUTO ENCODERS"
   ]
  },
  {
   "cell_type": "code",
   "execution_count": 132,
   "metadata": {},
   "outputs": [],
   "source": [
    "## Building the autoencoder\n",
    "\n",
    "input_img = Input(shape=(32, 32, 3))\n",
    "x = Conv2D(32, (3, 3), activation='relu', padding='same')(input_img)\n",
    "x = MaxPooling2D((2, 2), padding='same')(x)\n",
    "x = Conv2D(16, (3, 3), activation='relu', padding='same')(x)\n",
    "x = MaxPooling2D((2, 2), padding='same')(x)\n",
    "x = Conv2D(8, (3, 3), activation='relu', padding='same')(x)\n",
    "encoded = MaxPooling2D((2, 2), padding='same')(x)\n",
    "\n",
    "# at this point the representation is (8, 4, 4, 3) i.e. 384-dimensional\n",
    "\n",
    "x = Conv2D(8, (3, 3), activation='relu', padding='same')(encoded)\n",
    "x = UpSampling2D((2, 2))(x)\n",
    "x = Conv2D(16, (3, 3), activation='relu', padding='same')(x)\n",
    "x = UpSampling2D((2, 2))(x)\n",
    "x = Conv2D(32, (3, 3), activation='relu', padding = 'same')(x)\n",
    "x = UpSampling2D((2, 2))(x)\n",
    "decoded = Conv2D(3, (3, 3), activation='sigmoid', padding='same')(x)"
   ]
  },
  {
   "cell_type": "code",
   "execution_count": 133,
   "metadata": {
    "collapsed": true
   },
   "outputs": [
    {
     "name": "stderr",
     "output_type": "stream",
     "text": [
      "W1007 11:49:38.139378 12556 deprecation.py:323] From C:\\Users\\shwee\\AppData\\Local\\Continuum\\anaconda3\\lib\\site-packages\\tensorflow\\python\\ops\\nn_impl.py:180: add_dispatch_support.<locals>.wrapper (from tensorflow.python.ops.array_ops) is deprecated and will be removed in a future version.\n",
      "Instructions for updating:\n",
      "Use tf.where in 2.0, which has the same broadcast rule as np.where\n"
     ]
    }
   ],
   "source": [
    "autoencoder = Model(input_img, decoded)\n",
    "autoencoder.compile(optimizer='adadelta', loss='binary_crossentropy')"
   ]
  },
  {
   "cell_type": "code",
   "execution_count": 134,
   "metadata": {},
   "outputs": [
    {
     "name": "stdout",
     "output_type": "stream",
     "text": [
      "Model: \"model_1\"\n",
      "_________________________________________________________________\n",
      "Layer (type)                 Output Shape              Param #   \n",
      "=================================================================\n",
      "input_1 (InputLayer)         (None, 32, 32, 3)         0         \n",
      "_________________________________________________________________\n",
      "conv2d_51 (Conv2D)           (None, 32, 32, 32)        896       \n",
      "_________________________________________________________________\n",
      "max_pooling2d_31 (MaxPooling (None, 16, 16, 32)        0         \n",
      "_________________________________________________________________\n",
      "conv2d_52 (Conv2D)           (None, 16, 16, 16)        4624      \n",
      "_________________________________________________________________\n",
      "max_pooling2d_32 (MaxPooling (None, 8, 8, 16)          0         \n",
      "_________________________________________________________________\n",
      "conv2d_53 (Conv2D)           (None, 8, 8, 8)           1160      \n",
      "_________________________________________________________________\n",
      "max_pooling2d_33 (MaxPooling (None, 4, 4, 8)           0         \n",
      "_________________________________________________________________\n",
      "conv2d_54 (Conv2D)           (None, 4, 4, 8)           584       \n",
      "_________________________________________________________________\n",
      "up_sampling2d_1 (UpSampling2 (None, 8, 8, 8)           0         \n",
      "_________________________________________________________________\n",
      "conv2d_55 (Conv2D)           (None, 8, 8, 16)          1168      \n",
      "_________________________________________________________________\n",
      "up_sampling2d_2 (UpSampling2 (None, 16, 16, 16)        0         \n",
      "_________________________________________________________________\n",
      "conv2d_56 (Conv2D)           (None, 16, 16, 32)        4640      \n",
      "_________________________________________________________________\n",
      "up_sampling2d_3 (UpSampling2 (None, 32, 32, 32)        0         \n",
      "_________________________________________________________________\n",
      "conv2d_57 (Conv2D)           (None, 32, 32, 3)         867       \n",
      "=================================================================\n",
      "Total params: 13,939\n",
      "Trainable params: 13,939\n",
      "Non-trainable params: 0\n",
      "_________________________________________________________________\n"
     ]
    }
   ],
   "source": [
    "#summary\n",
    "autoencoder.summary()"
   ]
  },
  {
   "cell_type": "code",
   "execution_count": 135,
   "metadata": {
    "collapsed": true
   },
   "outputs": [
    {
     "name": "stderr",
     "output_type": "stream",
     "text": [
      "usage: tensorboard [-h] [--helpfull] [--logdir PATH] [--host ADDR]\n",
      "                   [--port PORT] [--purge_orphaned_data BOOL]\n",
      "                   [--reload_interval SECONDS] [--db URI] [--db_import]\n",
      "                   [--db_import_use_op] [--inspect] [--version_tb] [--tag TAG]\n",
      "                   [--event_file PATH] [--path_prefix PATH]\n",
      "                   [--window_title TEXT] [--max_reload_threads COUNT]\n",
      "                   [--reload_task TYPE]\n",
      "                   [--samples_per_plugin SAMPLES_PER_PLUGIN]\n",
      "                   [--debugger_data_server_grpc_port PORT]\n",
      "                   [--debugger_port PORT] [--master_tpu_unsecure_channel ADDR]\n",
      "tensorboard: error: unrecognized arguments: /tmp/autoencoder\n"
     ]
    }
   ],
   "source": [
    "!tensorboard --logdir = /tmp/autoencoder"
   ]
  },
  {
   "cell_type": "code",
   "execution_count": 136,
   "metadata": {},
   "outputs": [],
   "source": [
    "from keras.callbacks import TensorBoard"
   ]
  },
  {
   "cell_type": "code",
   "execution_count": 137,
   "metadata": {},
   "outputs": [
    {
     "name": "stdout",
     "output_type": "stream",
     "text": [
      "Train on 19906 samples, validate on 6636 samples\n",
      "Epoch 1/10\n",
      "19906/19906 [==============================] - ETA: 5:44 - loss: 0.693 - ETA: 3:24 - loss: 0.692 - ETA: 2:37 - loss: 0.692 - ETA: 2:15 - loss: 0.692 - ETA: 2:01 - loss: 0.691 - ETA: 1:51 - loss: 0.690 - ETA: 1:44 - loss: 0.690 - ETA: 1:39 - loss: 0.689 - ETA: 1:35 - loss: 0.688 - ETA: 1:32 - loss: 0.687 - ETA: 1:29 - loss: 0.686 - ETA: 1:27 - loss: 0.684 - ETA: 1:25 - loss: 0.683 - ETA: 1:24 - loss: 0.681 - ETA: 1:22 - loss: 0.679 - ETA: 1:21 - loss: 0.678 - ETA: 1:20 - loss: 0.677 - ETA: 1:19 - loss: 0.676 - ETA: 1:20 - loss: 0.675 - ETA: 1:19 - loss: 0.674 - ETA: 1:18 - loss: 0.673 - ETA: 1:17 - loss: 0.673 - ETA: 1:16 - loss: 0.672 - ETA: 1:15 - loss: 0.670 - ETA: 1:14 - loss: 0.670 - ETA: 1:14 - loss: 0.669 - ETA: 1:13 - loss: 0.668 - ETA: 1:12 - loss: 0.668 - ETA: 1:12 - loss: 0.667 - ETA: 1:12 - loss: 0.666 - ETA: 1:12 - loss: 0.666 - ETA: 1:12 - loss: 0.665 - ETA: 1:11 - loss: 0.665 - ETA: 1:11 - loss: 0.665 - ETA: 1:10 - loss: 0.664 - ETA: 1:09 - loss: 0.663 - ETA: 1:09 - loss: 0.663 - ETA: 1:08 - loss: 0.662 - ETA: 1:08 - loss: 0.662 - ETA: 1:07 - loss: 0.661 - ETA: 1:07 - loss: 0.661 - ETA: 1:06 - loss: 0.660 - ETA: 1:06 - loss: 0.660 - ETA: 1:05 - loss: 0.660 - ETA: 1:05 - loss: 0.660 - ETA: 1:05 - loss: 0.659 - ETA: 1:04 - loss: 0.659 - ETA: 1:04 - loss: 0.658 - ETA: 1:04 - loss: 0.657 - ETA: 1:03 - loss: 0.657 - ETA: 1:03 - loss: 0.656 - ETA: 1:03 - loss: 0.656 - ETA: 1:03 - loss: 0.655 - ETA: 1:02 - loss: 0.655 - ETA: 1:02 - loss: 0.654 - ETA: 1:02 - loss: 0.654 - ETA: 1:01 - loss: 0.654 - ETA: 1:01 - loss: 0.653 - ETA: 1:01 - loss: 0.653 - ETA: 1:01 - loss: 0.652 - ETA: 1:00 - loss: 0.652 - ETA: 1:00 - loss: 0.652 - ETA: 1:00 - loss: 0.652 - ETA: 59s - loss: 0.651 - ETA: 59s - loss: 0.65 - ETA: 59s - loss: 0.65 - ETA: 59s - loss: 0.65 - ETA: 59s - loss: 0.65 - ETA: 59s - loss: 0.65 - ETA: 58s - loss: 0.64 - ETA: 58s - loss: 0.64 - ETA: 58s - loss: 0.64 - ETA: 58s - loss: 0.64 - ETA: 57s - loss: 0.64 - ETA: 57s - loss: 0.64 - ETA: 57s - loss: 0.64 - ETA: 56s - loss: 0.64 - ETA: 56s - loss: 0.64 - ETA: 56s - loss: 0.64 - ETA: 55s - loss: 0.64 - ETA: 55s - loss: 0.64 - ETA: 55s - loss: 0.64 - ETA: 54s - loss: 0.64 - ETA: 54s - loss: 0.64 - ETA: 54s - loss: 0.64 - ETA: 53s - loss: 0.64 - ETA: 53s - loss: 0.64 - ETA: 53s - loss: 0.64 - ETA: 53s - loss: 0.64 - ETA: 52s - loss: 0.64 - ETA: 52s - loss: 0.64 - ETA: 52s - loss: 0.64 - ETA: 51s - loss: 0.64 - ETA: 51s - loss: 0.64 - ETA: 51s - loss: 0.64 - ETA: 50s - loss: 0.64 - ETA: 50s - loss: 0.64 - ETA: 50s - loss: 0.64 - ETA: 50s - loss: 0.64 - ETA: 49s - loss: 0.64 - ETA: 49s - loss: 0.64 - ETA: 49s - loss: 0.64 - ETA: 48s - loss: 0.64 - ETA: 48s - loss: 0.64 - ETA: 48s - loss: 0.64 - ETA: 48s - loss: 0.64 - ETA: 47s - loss: 0.64 - ETA: 47s - loss: 0.64 - ETA: 47s - loss: 0.64 - ETA: 47s - loss: 0.64 - ETA: 46s - loss: 0.64 - ETA: 46s - loss: 0.64 - ETA: 46s - loss: 0.64 - ETA: 45s - loss: 0.64 - ETA: 45s - loss: 0.63 - ETA: 45s - loss: 0.63 - ETA: 45s - loss: 0.63 - ETA: 44s - loss: 0.63 - ETA: 44s - loss: 0.63 - ETA: 44s - loss: 0.63 - ETA: 44s - loss: 0.63 - ETA: 43s - loss: 0.63 - ETA: 43s - loss: 0.63 - ETA: 43s - loss: 0.63 - ETA: 43s - loss: 0.63 - ETA: 43s - loss: 0.63 - ETA: 42s - loss: 0.63 - ETA: 42s - loss: 0.63 - ETA: 42s - loss: 0.63 - ETA: 42s - loss: 0.63 - ETA: 41s - loss: 0.63 - ETA: 41s - loss: 0.63 - ETA: 41s - loss: 0.63 - ETA: 41s - loss: 0.63 - ETA: 40s - loss: 0.63 - ETA: 40s - loss: 0.63 - ETA: 40s - loss: 0.63 - ETA: 39s - loss: 0.63 - ETA: 39s - loss: 0.63 - ETA: 39s - loss: 0.63 - ETA: 39s - loss: 0.63 - ETA: 38s - loss: 0.63 - ETA: 38s - loss: 0.63 - ETA: 38s - loss: 0.63 - ETA: 38s - loss: 0.63 - ETA: 37s - loss: 0.63 - ETA: 37s - loss: 0.63 - ETA: 37s - loss: 0.63 - ETA: 37s - loss: 0.63 - ETA: 36s - loss: 0.63 - ETA: 36s - loss: 0.63 - ETA: 36s - loss: 0.63 - ETA: 36s - loss: 0.63 - ETA: 35s - loss: 0.63 - ETA: 35s - loss: 0.63 - ETA: 35s - loss: 0.63 - ETA: 35s - loss: 0.63 - ETA: 35s - loss: 0.63 - ETA: 34s - loss: 0.63 - ETA: 34s - loss: 0.63 - ETA: 34s - loss: 0.63 - ETA: 34s - loss: 0.63 - ETA: 33s - loss: 0.63 - ETA: 33s - loss: 0.63 - ETA: 33s - loss: 0.63 - ETA: 33s - loss: 0.63 - ETA: 32s - loss: 0.63 - ETA: 32s - loss: 0.63 - ETA: 32s - loss: 0.63 - ETA: 32s - loss: 0.63 - ETA: 31s - loss: 0.63 - ETA: 31s - loss: 0.63 - ETA: 31s - loss: 0.63 - ETA: 31s - loss: 0.63 - ETA: 30s - loss: 0.63 - ETA: 30s - loss: 0.63 - ETA: 30s - loss: 0.63 - ETA: 30s - loss: 0.63 - ETA: 30s - loss: 0.63 - ETA: 29s - loss: 0.63 - ETA: 29s - loss: 0.63 - ETA: 29s - loss: 0.63 - ETA: 29s - loss: 0.63 - ETA: 28s - loss: 0.63 - ETA: 28s - loss: 0.63 - ETA: 28s - loss: 0.63 - ETA: 28s - loss: 0.62 - ETA: 27s - loss: 0.62 - ETA: 27s - loss: 0.62 - ETA: 27s - loss: 0.62 - ETA: 27s - loss: 0.62 - ETA: 26s - loss: 0.62 - ETA: 26s - loss: 0.62 - ETA: 26s - loss: 0.62 - ETA: 26s - loss: 0.62 - ETA: 26s - loss: 0.62 - ETA: 25s - loss: 0.62 - ETA: 25s - loss: 0.62 - ETA: 25s - loss: 0.62 - ETA: 25s - loss: 0.62 - ETA: 24s - loss: 0.62 - ETA: 24s - loss: 0.62 - ETA: 24s - loss: 0.62 - ETA: 24s - loss: 0.62 - ETA: 23s - loss: 0.62 - ETA: 23s - loss: 0.62 - ETA: 23s - loss: 0.62 - ETA: 23s - loss: 0.62 - ETA: 23s - loss: 0.62 - ETA: 22s - loss: 0.62 - ETA: 22s - loss: 0.62 - ETA: 22s - loss: 0.62 - ETA: 22s - loss: 0.62 - ETA: 21s - loss: 0.62 - ETA: 21s - loss: 0.62 - ETA: 21s - loss: 0.62 - ETA: 21s - loss: 0.62 - ETA: 20s - loss: 0.62 - ETA: 20s - loss: 0.62 - ETA: 20s - loss: 0.62 - ETA: 20s - loss: 0.62 - ETA: 20s - loss: 0.62 - ETA: 19s - loss: 0.62 - ETA: 19s - loss: 0.62 - ETA: 19s - loss: 0.62 - ETA: 19s - loss: 0.62 - ETA: 18s - loss: 0.62 - ETA: 18s - loss: 0.62 - ETA: 18s - loss: 0.62 - ETA: 18s - loss: 0.62 - ETA: 17s - loss: 0.62 - ETA: 17s - loss: 0.62 - ETA: 17s - loss: 0.62 - ETA: 17s - loss: 0.62 - ETA: 17s - loss: 0.62 - ETA: 16s - loss: 0.62 - ETA: 16s - loss: 0.62 - ETA: 16s - loss: 0.62 - ETA: 16s - loss: 0.62 - ETA: 15s - loss: 0.62 - ETA: 15s - loss: 0.62 - ETA: 15s - loss: 0.62 - ETA: 15s - loss: 0.62 - ETA: 15s - loss: 0.62 - ETA: 14s - loss: 0.62 - ETA: 14s - loss: 0.62 - ETA: 14s - loss: 0.62 - ETA: 14s - loss: 0.62 - ETA: 13s - loss: 0.62 - ETA: 13s - loss: 0.62 - ETA: 13s - loss: 0.62 - ETA: 13s - loss: 0.62 - ETA: 12s - loss: 0.62 - ETA: 12s - loss: 0.62 - ETA: 12s - loss: 0.62 - ETA: 12s - loss: 0.62 - ETA: 12s - loss: 0.62 - ETA: 11s - loss: 0.62 - ETA: 11s - loss: 0.62 - ETA: 11s - loss: 0.62 - ETA: 11s - loss: 0.62 - ETA: 10s - loss: 0.62 - ETA: 10s - loss: 0.62 - ETA: 10s - loss: 0.62 - ETA: 10s - loss: 0.62 - ETA: 10s - loss: 0.62 - ETA: 9s - loss: 0.6230 - ETA: 9s - loss: 0.623 - ETA: 9s - loss: 0.622 - ETA: 9s - loss: 0.622 - ETA: 8s - loss: 0.622 - ETA: 8s - loss: 0.622 - ETA: 8s - loss: 0.622 - ETA: 8s - loss: 0.622 - ETA: 8s - loss: 0.622 - ETA: 7s - loss: 0.622 - ETA: 7s - loss: 0.622 - ETA: 7s - loss: 0.622 - ETA: 7s - loss: 0.622 - ETA: 6s - loss: 0.622 - ETA: 6s - loss: 0.622 - ETA: 6s - loss: 0.622 - ETA: 6s - loss: 0.622 - ETA: 6s - loss: 0.622 - ETA: 5s - loss: 0.622 - ETA: 5s - loss: 0.622 - ETA: 5s - loss: 0.622 - ETA: 5s - loss: 0.622 - ETA: 4s - loss: 0.622 - ETA: 4s - loss: 0.621 - ETA: 4s - loss: 0.621 - ETA: 4s - loss: 0.621 - ETA: 4s - loss: 0.621 - ETA: 3s - loss: 0.621 - ETA: 3s - loss: 0.621 - ETA: 3s - loss: 0.621 - ETA: 3s - loss: 0.621 - ETA: 2s - loss: 0.621 - ETA: 2s - loss: 0.621 - ETA: 2s - loss: 0.621 - ETA: 2s - loss: 0.621 - ETA: 2s - loss: 0.621 - ETA: 1s - loss: 0.621 - ETA: 1s - loss: 0.621 - ETA: 1s - loss: 0.621 - ETA: 1s - loss: 0.620 - ETA: 0s - loss: 0.620 - ETA: 0s - loss: 0.620 - ETA: 0s - loss: 0.620 - ETA: 0s - loss: 0.620 - ETA: 0s - loss: 0.620 - 75s 4ms/step - loss: 0.6207 - val_loss: 0.5980\n",
      "Epoch 2/10\n",
      "19906/19906 [==============================] - ETA: 1:17 - loss: 0.594 - ETA: 1:18 - loss: 0.596 - ETA: 1:19 - loss: 0.596 - ETA: 1:19 - loss: 0.594 - ETA: 1:19 - loss: 0.596 - ETA: 1:19 - loss: 0.596 - ETA: 1:18 - loss: 0.596 - ETA: 1:17 - loss: 0.596 - ETA: 1:16 - loss: 0.598 - ETA: 1:14 - loss: 0.599 - ETA: 1:14 - loss: 0.600 - ETA: 1:12 - loss: 0.600 - ETA: 1:12 - loss: 0.600 - ETA: 1:11 - loss: 0.600 - ETA: 1:10 - loss: 0.600 - ETA: 1:09 - loss: 0.600 - ETA: 1:09 - loss: 0.601 - ETA: 1:09 - loss: 0.602 - ETA: 1:08 - loss: 0.602 - ETA: 1:08 - loss: 0.602 - ETA: 1:07 - loss: 0.602 - ETA: 1:07 - loss: 0.602 - ETA: 1:07 - loss: 0.602 - ETA: 1:06 - loss: 0.603 - ETA: 1:06 - loss: 0.603 - ETA: 1:05 - loss: 0.604 - ETA: 1:05 - loss: 0.603 - ETA: 1:05 - loss: 0.603 - ETA: 1:05 - loss: 0.603 - ETA: 1:05 - loss: 0.602 - ETA: 1:06 - loss: 0.601 - ETA: 1:06 - loss: 0.601 - ETA: 1:07 - loss: 0.602 - ETA: 1:08 - loss: 0.602 - ETA: 1:09 - loss: 0.602 - ETA: 1:09 - loss: 0.602 - ETA: 1:09 - loss: 0.601 - ETA: 1:08 - loss: 0.601 - ETA: 1:08 - loss: 0.601 - ETA: 1:08 - loss: 0.601 - ETA: 1:08 - loss: 0.601 - ETA: 1:08 - loss: 0.601 - ETA: 1:07 - loss: 0.601 - ETA: 1:07 - loss: 0.601 - ETA: 1:07 - loss: 0.601 - ETA: 1:07 - loss: 0.601 - ETA: 1:06 - loss: 0.601 - ETA: 1:06 - loss: 0.601 - ETA: 1:06 - loss: 0.601 - ETA: 1:06 - loss: 0.601 - ETA: 1:06 - loss: 0.601 - ETA: 1:05 - loss: 0.601 - ETA: 1:05 - loss: 0.601 - ETA: 1:05 - loss: 0.601 - ETA: 1:05 - loss: 0.601 - ETA: 1:04 - loss: 0.601 - ETA: 1:04 - loss: 0.601 - ETA: 1:04 - loss: 0.601 - ETA: 1:04 - loss: 0.601 - ETA: 1:03 - loss: 0.601 - ETA: 1:03 - loss: 0.601 - ETA: 1:03 - loss: 0.601 - ETA: 1:02 - loss: 0.601 - ETA: 1:02 - loss: 0.601 - ETA: 1:02 - loss: 0.601 - ETA: 1:01 - loss: 0.601 - ETA: 1:01 - loss: 0.601 - ETA: 1:00 - loss: 0.601 - ETA: 1:00 - loss: 0.601 - ETA: 1:00 - loss: 0.601 - ETA: 59s - loss: 0.601 - ETA: 59s - loss: 0.60 - ETA: 59s - loss: 0.60 - ETA: 58s - loss: 0.60 - ETA: 58s - loss: 0.60 - ETA: 58s - loss: 0.60 - ETA: 57s - loss: 0.60 - ETA: 57s - loss: 0.60 - ETA: 57s - loss: 0.60 - ETA: 56s - loss: 0.60 - ETA: 56s - loss: 0.60 - ETA: 56s - loss: 0.60 - ETA: 55s - loss: 0.60 - ETA: 55s - loss: 0.60 - ETA: 55s - loss: 0.60 - ETA: 54s - loss: 0.60 - ETA: 54s - loss: 0.60 - ETA: 54s - loss: 0.60 - ETA: 54s - loss: 0.60 - ETA: 53s - loss: 0.60 - ETA: 53s - loss: 0.60 - ETA: 53s - loss: 0.60 - ETA: 53s - loss: 0.60 - ETA: 53s - loss: 0.60 - ETA: 52s - loss: 0.60 - ETA: 52s - loss: 0.60 - ETA: 52s - loss: 0.60 - ETA: 52s - loss: 0.60 - ETA: 51s - loss: 0.60 - ETA: 51s - loss: 0.60 - ETA: 51s - loss: 0.60 - ETA: 51s - loss: 0.60 - ETA: 51s - loss: 0.60 - ETA: 50s - loss: 0.60 - ETA: 50s - loss: 0.60 - ETA: 50s - loss: 0.60 - ETA: 50s - loss: 0.60 - ETA: 50s - loss: 0.60 - ETA: 49s - loss: 0.60 - ETA: 49s - loss: 0.60 - ETA: 49s - loss: 0.60 - ETA: 49s - loss: 0.60 - ETA: 48s - loss: 0.60 - ETA: 48s - loss: 0.60 - ETA: 48s - loss: 0.60 - ETA: 47s - loss: 0.60 - ETA: 47s - loss: 0.60 - ETA: 47s - loss: 0.60 - ETA: 47s - loss: 0.60 - ETA: 46s - loss: 0.60 - ETA: 46s - loss: 0.60 - ETA: 46s - loss: 0.60 - ETA: 45s - loss: 0.60 - ETA: 45s - loss: 0.60 - ETA: 45s - loss: 0.60 - ETA: 44s - loss: 0.60 - ETA: 44s - loss: 0.60 - ETA: 44s - loss: 0.60 - ETA: 44s - loss: 0.60 - ETA: 43s - loss: 0.60 - ETA: 43s - loss: 0.60 - ETA: 43s - loss: 0.60 - ETA: 43s - loss: 0.60 - ETA: 42s - loss: 0.60 - ETA: 42s - loss: 0.60 - ETA: 42s - loss: 0.60 - ETA: 41s - loss: 0.60 - ETA: 41s - loss: 0.60 - ETA: 41s - loss: 0.60 - ETA: 41s - loss: 0.60 - ETA: 40s - loss: 0.60 - ETA: 40s - loss: 0.60 - ETA: 40s - loss: 0.60 - ETA: 40s - loss: 0.60 - ETA: 39s - loss: 0.60 - ETA: 39s - loss: 0.60 - ETA: 39s - loss: 0.60 - ETA: 38s - loss: 0.60 - ETA: 38s - loss: 0.60 - ETA: 38s - loss: 0.60 - ETA: 38s - loss: 0.60 - ETA: 37s - loss: 0.60 - ETA: 37s - loss: 0.60 - ETA: 37s - loss: 0.60 - ETA: 37s - loss: 0.60 - ETA: 36s - loss: 0.60 - ETA: 36s - loss: 0.60 - ETA: 36s - loss: 0.60 - ETA: 36s - loss: 0.60 - ETA: 36s - loss: 0.60 - ETA: 35s - loss: 0.60 - ETA: 35s - loss: 0.60 - ETA: 35s - loss: 0.60 - ETA: 35s - loss: 0.60 - ETA: 34s - loss: 0.60 - ETA: 34s - loss: 0.60 - ETA: 34s - loss: 0.60 - ETA: 34s - loss: 0.60 - ETA: 34s - loss: 0.60 - ETA: 33s - loss: 0.60 - ETA: 33s - loss: 0.60 - ETA: 33s - loss: 0.60 - ETA: 33s - loss: 0.60 - ETA: 32s - loss: 0.60 - ETA: 32s - loss: 0.60 - ETA: 32s - loss: 0.60 - ETA: 32s - loss: 0.60 - ETA: 32s - loss: 0.60 - ETA: 31s - loss: 0.60 - ETA: 31s - loss: 0.60 - ETA: 31s - loss: 0.60 - ETA: 31s - loss: 0.60 - ETA: 30s - loss: 0.60 - ETA: 30s - loss: 0.60 - ETA: 30s - loss: 0.60 - ETA: 30s - loss: 0.60 - ETA: 30s - loss: 0.60 - ETA: 29s - loss: 0.60 - ETA: 29s - loss: 0.60 - ETA: 29s - loss: 0.60 - ETA: 29s - loss: 0.60 - ETA: 28s - loss: 0.60 - ETA: 28s - loss: 0.60 - ETA: 28s - loss: 0.59 - ETA: 28s - loss: 0.59 - ETA: 27s - loss: 0.59 - ETA: 27s - loss: 0.59 - ETA: 27s - loss: 0.59 - ETA: 27s - loss: 0.59 - ETA: 26s - loss: 0.59 - ETA: 26s - loss: 0.59 - ETA: 26s - loss: 0.59 - ETA: 26s - loss: 0.59 - ETA: 25s - loss: 0.59 - ETA: 25s - loss: 0.59 - ETA: 25s - loss: 0.59 - ETA: 25s - loss: 0.59 - ETA: 24s - loss: 0.59 - ETA: 24s - loss: 0.59 - ETA: 24s - loss: 0.59 - ETA: 24s - loss: 0.59 - ETA: 23s - loss: 0.59 - ETA: 23s - loss: 0.59 - ETA: 23s - loss: 0.59 - ETA: 23s - loss: 0.59 - ETA: 22s - loss: 0.59 - ETA: 22s - loss: 0.59 - ETA: 22s - loss: 0.59 - ETA: 22s - loss: 0.59 - ETA: 21s - loss: 0.59 - ETA: 21s - loss: 0.59 - ETA: 21s - loss: 0.59 - ETA: 21s - loss: 0.59 - ETA: 20s - loss: 0.59 - ETA: 20s - loss: 0.59 - ETA: 20s - loss: 0.59 - ETA: 20s - loss: 0.59 - ETA: 19s - loss: 0.59 - ETA: 19s - loss: 0.59 - ETA: 19s - loss: 0.59 - ETA: 19s - loss: 0.59 - ETA: 18s - loss: 0.59 - ETA: 18s - loss: 0.59 - ETA: 18s - loss: 0.59 - ETA: 18s - loss: 0.59 - ETA: 17s - loss: 0.59 - ETA: 17s - loss: 0.59 - ETA: 17s - loss: 0.59 - ETA: 17s - loss: 0.59 - ETA: 17s - loss: 0.59 - ETA: 16s - loss: 0.59 - ETA: 16s - loss: 0.59 - ETA: 16s - loss: 0.59 - ETA: 16s - loss: 0.59 - ETA: 15s - loss: 0.59 - ETA: 15s - loss: 0.59 - ETA: 15s - loss: 0.59 - ETA: 15s - loss: 0.59 - ETA: 14s - loss: 0.59 - ETA: 14s - loss: 0.59 - ETA: 14s - loss: 0.59 - ETA: 14s - loss: 0.59 - ETA: 13s - loss: 0.59 - ETA: 13s - loss: 0.59 - ETA: 13s - loss: 0.59 - ETA: 13s - loss: 0.59 - ETA: 12s - loss: 0.59 - ETA: 12s - loss: 0.59 - ETA: 12s - loss: 0.59 - ETA: 12s - loss: 0.59 - ETA: 12s - loss: 0.59 - ETA: 11s - loss: 0.59 - ETA: 11s - loss: 0.59 - ETA: 11s - loss: 0.59 - ETA: 11s - loss: 0.59 - ETA: 10s - loss: 0.59 - ETA: 10s - loss: 0.59 - ETA: 10s - loss: 0.59 - ETA: 10s - loss: 0.59 - ETA: 9s - loss: 0.5992 - ETA: 9s - loss: 0.599 - ETA: 9s - loss: 0.599 - ETA: 9s - loss: 0.599 - ETA: 8s - loss: 0.599 - ETA: 8s - loss: 0.599 - ETA: 8s - loss: 0.599 - ETA: 8s - loss: 0.599 - ETA: 7s - loss: 0.599 - ETA: 7s - loss: 0.599 - ETA: 7s - loss: 0.599 - ETA: 7s - loss: 0.599 - ETA: 6s - loss: 0.599 - ETA: 6s - loss: 0.599 - ETA: 6s - loss: 0.599 - ETA: 6s - loss: 0.599 - ETA: 5s - loss: 0.599 - ETA: 5s - loss: 0.599 - ETA: 5s - loss: 0.599 - ETA: 5s - loss: 0.599 - ETA: 5s - loss: 0.599 - ETA: 4s - loss: 0.599 - ETA: 4s - loss: 0.599 - ETA: 4s - loss: 0.599 - ETA: 4s - loss: 0.598 - ETA: 3s - loss: 0.598 - ETA: 3s - loss: 0.598 - ETA: 3s - loss: 0.598 - ETA: 3s - loss: 0.598 - ETA: 2s - loss: 0.598 - ETA: 2s - loss: 0.598 - ETA: 2s - loss: 0.598 - ETA: 2s - loss: 0.598 - ETA: 1s - loss: 0.598 - ETA: 1s - loss: 0.598 - ETA: 1s - loss: 0.598 - ETA: 1s - loss: 0.598 - ETA: 0s - loss: 0.598 - ETA: 0s - loss: 0.598 - ETA: 0s - loss: 0.598 - ETA: 0s - loss: 0.598 - ETA: 0s - loss: 0.598 - 79s 4ms/step - loss: 0.5986 - val_loss: 0.6010\n",
      "Epoch 3/10\n"
     ]
    },
    {
     "name": "stdout",
     "output_type": "stream",
     "text": [
      "19906/19906 [==============================] - ETA: 1:18 - loss: 0.602 - ETA: 1:17 - loss: 0.601 - ETA: 1:17 - loss: 0.599 - ETA: 1:17 - loss: 0.597 - ETA: 1:18 - loss: 0.594 - ETA: 1:17 - loss: 0.592 - ETA: 1:18 - loss: 0.591 - ETA: 1:17 - loss: 0.592 - ETA: 1:17 - loss: 0.592 - ETA: 1:17 - loss: 0.592 - ETA: 1:17 - loss: 0.592 - ETA: 1:16 - loss: 0.593 - ETA: 1:15 - loss: 0.593 - ETA: 1:14 - loss: 0.594 - ETA: 1:13 - loss: 0.594 - ETA: 1:12 - loss: 0.595 - ETA: 1:11 - loss: 0.595 - ETA: 1:10 - loss: 0.595 - ETA: 1:10 - loss: 0.594 - ETA: 1:09 - loss: 0.595 - ETA: 1:09 - loss: 0.595 - ETA: 1:08 - loss: 0.595 - ETA: 1:07 - loss: 0.595 - ETA: 1:07 - loss: 0.595 - ETA: 1:07 - loss: 0.595 - ETA: 1:06 - loss: 0.595 - ETA: 1:06 - loss: 0.595 - ETA: 1:05 - loss: 0.596 - ETA: 1:05 - loss: 0.595 - ETA: 1:04 - loss: 0.596 - ETA: 1:04 - loss: 0.596 - ETA: 1:04 - loss: 0.596 - ETA: 1:03 - loss: 0.595 - ETA: 1:03 - loss: 0.595 - ETA: 1:02 - loss: 0.595 - ETA: 1:02 - loss: 0.595 - ETA: 1:02 - loss: 0.595 - ETA: 1:01 - loss: 0.594 - ETA: 1:01 - loss: 0.594 - ETA: 1:01 - loss: 0.595 - ETA: 1:00 - loss: 0.595 - ETA: 1:00 - loss: 0.595 - ETA: 1:00 - loss: 0.595 - ETA: 59s - loss: 0.595 - ETA: 59s - loss: 0.59 - ETA: 59s - loss: 0.59 - ETA: 58s - loss: 0.59 - ETA: 58s - loss: 0.59 - ETA: 58s - loss: 0.59 - ETA: 58s - loss: 0.59 - ETA: 57s - loss: 0.59 - ETA: 57s - loss: 0.59 - ETA: 57s - loss: 0.59 - ETA: 57s - loss: 0.59 - ETA: 56s - loss: 0.59 - ETA: 56s - loss: 0.59 - ETA: 56s - loss: 0.59 - ETA: 56s - loss: 0.59 - ETA: 55s - loss: 0.59 - ETA: 55s - loss: 0.59 - ETA: 55s - loss: 0.59 - ETA: 55s - loss: 0.59 - ETA: 55s - loss: 0.59 - ETA: 55s - loss: 0.59 - ETA: 54s - loss: 0.59 - ETA: 54s - loss: 0.59 - ETA: 54s - loss: 0.59 - ETA: 54s - loss: 0.59 - ETA: 54s - loss: 0.59 - ETA: 54s - loss: 0.59 - ETA: 54s - loss: 0.59 - ETA: 54s - loss: 0.59 - ETA: 53s - loss: 0.59 - ETA: 53s - loss: 0.59 - ETA: 53s - loss: 0.59 - ETA: 53s - loss: 0.59 - ETA: 53s - loss: 0.59 - ETA: 53s - loss: 0.59 - ETA: 53s - loss: 0.59 - ETA: 52s - loss: 0.59 - ETA: 52s - loss: 0.59 - ETA: 52s - loss: 0.59 - ETA: 52s - loss: 0.59 - ETA: 52s - loss: 0.59 - ETA: 52s - loss: 0.59 - ETA: 51s - loss: 0.59 - ETA: 51s - loss: 0.59 - ETA: 51s - loss: 0.59 - ETA: 51s - loss: 0.59 - ETA: 51s - loss: 0.59 - ETA: 51s - loss: 0.59 - ETA: 50s - loss: 0.59 - ETA: 50s - loss: 0.59 - ETA: 50s - loss: 0.59 - ETA: 50s - loss: 0.59 - ETA: 50s - loss: 0.59 - ETA: 49s - loss: 0.59 - ETA: 49s - loss: 0.59 - ETA: 49s - loss: 0.59 - ETA: 49s - loss: 0.59 - ETA: 49s - loss: 0.59 - ETA: 48s - loss: 0.59 - ETA: 48s - loss: 0.59 - ETA: 48s - loss: 0.59 - ETA: 48s - loss: 0.59 - ETA: 47s - loss: 0.59 - ETA: 47s - loss: 0.59 - ETA: 47s - loss: 0.59 - ETA: 47s - loss: 0.59 - ETA: 46s - loss: 0.59 - ETA: 46s - loss: 0.59 - ETA: 46s - loss: 0.59 - ETA: 46s - loss: 0.59 - ETA: 46s - loss: 0.59 - ETA: 45s - loss: 0.59 - ETA: 45s - loss: 0.59 - ETA: 45s - loss: 0.59 - ETA: 45s - loss: 0.59 - ETA: 45s - loss: 0.59 - ETA: 44s - loss: 0.59 - ETA: 44s - loss: 0.59 - ETA: 44s - loss: 0.59 - ETA: 44s - loss: 0.59 - ETA: 44s - loss: 0.59 - ETA: 44s - loss: 0.59 - ETA: 43s - loss: 0.59 - ETA: 43s - loss: 0.59 - ETA: 43s - loss: 0.59 - ETA: 43s - loss: 0.59 - ETA: 42s - loss: 0.59 - ETA: 42s - loss: 0.59 - ETA: 42s - loss: 0.59 - ETA: 42s - loss: 0.59 - ETA: 42s - loss: 0.59 - ETA: 41s - loss: 0.59 - ETA: 41s - loss: 0.59 - ETA: 41s - loss: 0.59 - ETA: 41s - loss: 0.59 - ETA: 41s - loss: 0.59 - ETA: 40s - loss: 0.59 - ETA: 40s - loss: 0.59 - ETA: 40s - loss: 0.59 - ETA: 40s - loss: 0.59 - ETA: 40s - loss: 0.59 - ETA: 39s - loss: 0.59 - ETA: 39s - loss: 0.59 - ETA: 39s - loss: 0.59 - ETA: 39s - loss: 0.59 - ETA: 38s - loss: 0.59 - ETA: 38s - loss: 0.59 - ETA: 38s - loss: 0.59 - ETA: 38s - loss: 0.59 - ETA: 37s - loss: 0.59 - ETA: 37s - loss: 0.59 - ETA: 37s - loss: 0.59 - ETA: 37s - loss: 0.59 - ETA: 36s - loss: 0.59 - ETA: 36s - loss: 0.59 - ETA: 36s - loss: 0.59 - ETA: 36s - loss: 0.59 - ETA: 35s - loss: 0.59 - ETA: 35s - loss: 0.59 - ETA: 35s - loss: 0.59 - ETA: 35s - loss: 0.59 - ETA: 34s - loss: 0.59 - ETA: 34s - loss: 0.59 - ETA: 34s - loss: 0.59 - ETA: 33s - loss: 0.59 - ETA: 33s - loss: 0.59 - ETA: 33s - loss: 0.59 - ETA: 33s - loss: 0.59 - ETA: 32s - loss: 0.59 - ETA: 32s - loss: 0.59 - ETA: 32s - loss: 0.59 - ETA: 32s - loss: 0.59 - ETA: 31s - loss: 0.59 - ETA: 31s - loss: 0.59 - ETA: 31s - loss: 0.59 - ETA: 31s - loss: 0.59 - ETA: 30s - loss: 0.59 - ETA: 30s - loss: 0.59 - ETA: 30s - loss: 0.59 - ETA: 30s - loss: 0.59 - ETA: 29s - loss: 0.59 - ETA: 29s - loss: 0.59 - ETA: 29s - loss: 0.59 - ETA: 29s - loss: 0.59 - ETA: 28s - loss: 0.59 - ETA: 28s - loss: 0.59 - ETA: 28s - loss: 0.59 - ETA: 28s - loss: 0.59 - ETA: 28s - loss: 0.59 - ETA: 27s - loss: 0.59 - ETA: 27s - loss: 0.59 - ETA: 27s - loss: 0.59 - ETA: 27s - loss: 0.59 - ETA: 26s - loss: 0.59 - ETA: 26s - loss: 0.59 - ETA: 26s - loss: 0.59 - ETA: 26s - loss: 0.59 - ETA: 26s - loss: 0.59 - ETA: 25s - loss: 0.59 - ETA: 25s - loss: 0.59 - ETA: 25s - loss: 0.59 - ETA: 25s - loss: 0.59 - ETA: 24s - loss: 0.59 - ETA: 24s - loss: 0.59 - ETA: 24s - loss: 0.59 - ETA: 24s - loss: 0.59 - ETA: 24s - loss: 0.59 - ETA: 23s - loss: 0.59 - ETA: 23s - loss: 0.59 - ETA: 23s - loss: 0.59 - ETA: 23s - loss: 0.59 - ETA: 22s - loss: 0.59 - ETA: 22s - loss: 0.59 - ETA: 22s - loss: 0.59 - ETA: 22s - loss: 0.59 - ETA: 21s - loss: 0.59 - ETA: 21s - loss: 0.59 - ETA: 21s - loss: 0.59 - ETA: 21s - loss: 0.59 - ETA: 21s - loss: 0.59 - ETA: 20s - loss: 0.59 - ETA: 20s - loss: 0.59 - ETA: 20s - loss: 0.59 - ETA: 20s - loss: 0.59 - ETA: 19s - loss: 0.59 - ETA: 19s - loss: 0.59 - ETA: 19s - loss: 0.59 - ETA: 19s - loss: 0.59 - ETA: 18s - loss: 0.59 - ETA: 18s - loss: 0.59 - ETA: 18s - loss: 0.59 - ETA: 18s - loss: 0.59 - ETA: 17s - loss: 0.59 - ETA: 17s - loss: 0.59 - ETA: 17s - loss: 0.59 - ETA: 17s - loss: 0.59 - ETA: 17s - loss: 0.59 - ETA: 16s - loss: 0.59 - ETA: 16s - loss: 0.59 - ETA: 16s - loss: 0.59 - ETA: 16s - loss: 0.59 - ETA: 15s - loss: 0.59 - ETA: 15s - loss: 0.59 - ETA: 15s - loss: 0.59 - ETA: 15s - loss: 0.59 - ETA: 14s - loss: 0.59 - ETA: 14s - loss: 0.59 - ETA: 14s - loss: 0.59 - ETA: 14s - loss: 0.59 - ETA: 13s - loss: 0.59 - ETA: 13s - loss: 0.59 - ETA: 13s - loss: 0.59 - ETA: 13s - loss: 0.59 - ETA: 13s - loss: 0.59 - ETA: 12s - loss: 0.59 - ETA: 12s - loss: 0.59 - ETA: 12s - loss: 0.59 - ETA: 12s - loss: 0.59 - ETA: 11s - loss: 0.59 - ETA: 11s - loss: 0.59 - ETA: 11s - loss: 0.59 - ETA: 11s - loss: 0.59 - ETA: 10s - loss: 0.59 - ETA: 10s - loss: 0.59 - ETA: 10s - loss: 0.59 - ETA: 10s - loss: 0.59 - ETA: 9s - loss: 0.5939 - ETA: 9s - loss: 0.593 - ETA: 9s - loss: 0.593 - ETA: 9s - loss: 0.593 - ETA: 8s - loss: 0.593 - ETA: 8s - loss: 0.593 - ETA: 8s - loss: 0.593 - ETA: 8s - loss: 0.593 - ETA: 8s - loss: 0.593 - ETA: 7s - loss: 0.593 - ETA: 7s - loss: 0.593 - ETA: 7s - loss: 0.593 - ETA: 7s - loss: 0.593 - ETA: 6s - loss: 0.593 - ETA: 6s - loss: 0.593 - ETA: 6s - loss: 0.594 - ETA: 6s - loss: 0.593 - ETA: 5s - loss: 0.593 - ETA: 5s - loss: 0.593 - ETA: 5s - loss: 0.593 - ETA: 5s - loss: 0.593 - ETA: 4s - loss: 0.593 - ETA: 4s - loss: 0.593 - ETA: 4s - loss: 0.593 - ETA: 4s - loss: 0.593 - ETA: 3s - loss: 0.593 - ETA: 3s - loss: 0.593 - ETA: 3s - loss: 0.593 - ETA: 3s - loss: 0.593 - ETA: 2s - loss: 0.593 - ETA: 2s - loss: 0.593 - ETA: 2s - loss: 0.593 - ETA: 2s - loss: 0.593 - ETA: 1s - loss: 0.593 - ETA: 1s - loss: 0.593 - ETA: 1s - loss: 0.593 - ETA: 1s - loss: 0.593 - ETA: 0s - loss: 0.593 - ETA: 0s - loss: 0.593 - ETA: 0s - loss: 0.593 - ETA: 0s - loss: 0.593 - ETA: 0s - loss: 0.593 - 81s 4ms/step - loss: 0.5938 - val_loss: 0.5926\n",
      "Epoch 4/10\n",
      "19906/19906 [==============================] - ETA: 1:25 - loss: 0.600 - ETA: 1:25 - loss: 0.592 - ETA: 1:25 - loss: 0.591 - ETA: 1:24 - loss: 0.585 - ETA: 1:22 - loss: 0.585 - ETA: 1:23 - loss: 0.585 - ETA: 1:22 - loss: 0.586 - ETA: 1:22 - loss: 0.586 - ETA: 1:21 - loss: 0.585 - ETA: 1:21 - loss: 0.586 - ETA: 1:21 - loss: 0.586 - ETA: 1:20 - loss: 0.587 - ETA: 1:20 - loss: 0.587 - ETA: 1:20 - loss: 0.587 - ETA: 1:20 - loss: 0.587 - ETA: 1:19 - loss: 0.587 - ETA: 1:19 - loss: 0.587 - ETA: 1:18 - loss: 0.587 - ETA: 1:18 - loss: 0.587 - ETA: 1:18 - loss: 0.588 - ETA: 1:18 - loss: 0.589 - ETA: 1:18 - loss: 0.589 - ETA: 1:17 - loss: 0.589 - ETA: 1:17 - loss: 0.589 - ETA: 1:17 - loss: 0.589 - ETA: 1:16 - loss: 0.589 - ETA: 1:16 - loss: 0.590 - ETA: 1:16 - loss: 0.590 - ETA: 1:16 - loss: 0.590 - ETA: 1:15 - loss: 0.590 - ETA: 1:15 - loss: 0.590 - ETA: 1:15 - loss: 0.590 - ETA: 1:14 - loss: 0.590 - ETA: 1:14 - loss: 0.590 - ETA: 1:14 - loss: 0.590 - ETA: 1:13 - loss: 0.590 - ETA: 1:13 - loss: 0.590 - ETA: 1:13 - loss: 0.590 - ETA: 1:12 - loss: 0.590 - ETA: 1:12 - loss: 0.590 - ETA: 1:12 - loss: 0.590 - ETA: 1:12 - loss: 0.590 - ETA: 1:11 - loss: 0.590 - ETA: 1:11 - loss: 0.590 - ETA: 1:11 - loss: 0.590 - ETA: 1:10 - loss: 0.590 - ETA: 1:10 - loss: 0.590 - ETA: 1:10 - loss: 0.590 - ETA: 1:09 - loss: 0.591 - ETA: 1:09 - loss: 0.591 - ETA: 1:09 - loss: 0.591 - ETA: 1:09 - loss: 0.590 - ETA: 1:08 - loss: 0.590 - ETA: 1:08 - loss: 0.590 - ETA: 1:08 - loss: 0.590 - ETA: 1:07 - loss: 0.590 - ETA: 1:07 - loss: 0.590 - ETA: 1:07 - loss: 0.590 - ETA: 1:06 - loss: 0.590 - ETA: 1:06 - loss: 0.591 - ETA: 1:05 - loss: 0.590 - ETA: 1:05 - loss: 0.590 - ETA: 1:04 - loss: 0.590 - ETA: 1:04 - loss: 0.590 - ETA: 1:04 - loss: 0.590 - ETA: 1:03 - loss: 0.590 - ETA: 1:03 - loss: 0.590 - ETA: 1:03 - loss: 0.590 - ETA: 1:03 - loss: 0.590 - ETA: 1:02 - loss: 0.590 - ETA: 1:02 - loss: 0.590 - ETA: 1:02 - loss: 0.590 - ETA: 1:02 - loss: 0.590 - ETA: 1:01 - loss: 0.590 - ETA: 1:01 - loss: 0.590 - ETA: 1:01 - loss: 0.590 - ETA: 1:00 - loss: 0.590 - ETA: 1:00 - loss: 0.590 - ETA: 1:00 - loss: 0.590 - ETA: 1:00 - loss: 0.590 - ETA: 59s - loss: 0.590 - ETA: 59s - loss: 0.59 - ETA: 59s - loss: 0.59 - ETA: 59s - loss: 0.59 - ETA: 58s - loss: 0.59 - ETA: 58s - loss: 0.59 - ETA: 58s - loss: 0.59 - ETA: 58s - loss: 0.59 - ETA: 57s - loss: 0.59 - ETA: 57s - loss: 0.59 - ETA: 57s - loss: 0.59 - ETA: 57s - loss: 0.59 - ETA: 56s - loss: 0.59 - ETA: 56s - loss: 0.59 - ETA: 56s - loss: 0.59 - ETA: 56s - loss: 0.59 - ETA: 55s - loss: 0.59 - ETA: 55s - loss: 0.59 - ETA: 55s - loss: 0.59 - ETA: 55s - loss: 0.59 - ETA: 55s - loss: 0.59 - ETA: 54s - loss: 0.59 - ETA: 54s - loss: 0.59 - ETA: 54s - loss: 0.59 - ETA: 54s - loss: 0.59 - ETA: 53s - loss: 0.59 - ETA: 53s - loss: 0.59 - ETA: 53s - loss: 0.59 - ETA: 52s - loss: 0.59 - ETA: 52s - loss: 0.59 - ETA: 52s - loss: 0.59 - ETA: 52s - loss: 0.59 - ETA: 51s - loss: 0.59 - ETA: 51s - loss: 0.59 - ETA: 51s - loss: 0.59 - ETA: 51s - loss: 0.59 - ETA: 51s - loss: 0.59 - ETA: 50s - loss: 0.59 - ETA: 50s - loss: 0.59 - ETA: 50s - loss: 0.59 - ETA: 50s - loss: 0.59 - ETA: 49s - loss: 0.59 - ETA: 49s - loss: 0.59 - ETA: 49s - loss: 0.59 - ETA: 49s - loss: 0.59 - ETA: 48s - loss: 0.59 - ETA: 48s - loss: 0.59 - ETA: 48s - loss: 0.59 - ETA: 48s - loss: 0.59 - ETA: 47s - loss: 0.59 - ETA: 47s - loss: 0.59 - ETA: 47s - loss: 0.59 - ETA: 46s - loss: 0.59 - ETA: 46s - loss: 0.59 - ETA: 46s - loss: 0.59 - ETA: 45s - loss: 0.59 - ETA: 45s - loss: 0.59 - ETA: 45s - loss: 0.59 - ETA: 44s - loss: 0.59 - ETA: 44s - loss: 0.59 - ETA: 44s - loss: 0.59 - ETA: 44s - loss: 0.59 - ETA: 43s - loss: 0.59 - ETA: 43s - loss: 0.59 - ETA: 43s - loss: 0.59 - ETA: 42s - loss: 0.59 - ETA: 42s - loss: 0.59 - ETA: 42s - loss: 0.59 - ETA: 41s - loss: 0.59 - ETA: 41s - loss: 0.59 - ETA: 41s - loss: 0.59 - ETA: 41s - loss: 0.59 - ETA: 40s - loss: 0.59 - ETA: 40s - loss: 0.59 - ETA: 40s - loss: 0.59 - ETA: 40s - loss: 0.59 - ETA: 39s - loss: 0.59 - ETA: 39s - loss: 0.59 - ETA: 39s - loss: 0.59 - ETA: 39s - loss: 0.59 - ETA: 38s - loss: 0.59 - ETA: 38s - loss: 0.59 - ETA: 38s - loss: 0.59 - ETA: 38s - loss: 0.59 - ETA: 38s - loss: 0.59 - ETA: 37s - loss: 0.59 - ETA: 37s - loss: 0.59 - ETA: 37s - loss: 0.59 - ETA: 37s - loss: 0.59 - ETA: 36s - loss: 0.59 - ETA: 36s - loss: 0.59 - ETA: 36s - loss: 0.59 - ETA: 36s - loss: 0.59 - ETA: 35s - loss: 0.59 - ETA: 35s - loss: 0.59 - ETA: 35s - loss: 0.59 - ETA: 34s - loss: 0.59 - ETA: 34s - loss: 0.59 - ETA: 34s - loss: 0.59 - ETA: 34s - loss: 0.59 - ETA: 33s - loss: 0.59 - ETA: 33s - loss: 0.59 - ETA: 33s - loss: 0.59 - ETA: 33s - loss: 0.59 - ETA: 32s - loss: 0.59 - ETA: 32s - loss: 0.59 - ETA: 32s - loss: 0.59 - ETA: 31s - loss: 0.59 - ETA: 31s - loss: 0.59 - ETA: 31s - loss: 0.59 - ETA: 31s - loss: 0.59 - ETA: 30s - loss: 0.59 - ETA: 30s - loss: 0.59 - ETA: 30s - loss: 0.59 - ETA: 29s - loss: 0.59 - ETA: 29s - loss: 0.59 - ETA: 29s - loss: 0.59 - ETA: 29s - loss: 0.59 - ETA: 28s - loss: 0.59 - ETA: 28s - loss: 0.59 - ETA: 28s - loss: 0.59 - ETA: 28s - loss: 0.59 - ETA: 27s - loss: 0.59 - ETA: 27s - loss: 0.59 - ETA: 27s - loss: 0.59 - ETA: 27s - loss: 0.59 - ETA: 26s - loss: 0.59 - ETA: 26s - loss: 0.59 - ETA: 26s - loss: 0.59 - ETA: 26s - loss: 0.58 - ETA: 25s - loss: 0.58 - ETA: 25s - loss: 0.58 - ETA: 25s - loss: 0.59 - ETA: 25s - loss: 0.58 - ETA: 24s - loss: 0.58 - ETA: 24s - loss: 0.58 - ETA: 24s - loss: 0.58 - ETA: 24s - loss: 0.58 - ETA: 23s - loss: 0.59 - ETA: 23s - loss: 0.59 - ETA: 23s - loss: 0.58 - ETA: 23s - loss: 0.58 - ETA: 22s - loss: 0.58 - ETA: 22s - loss: 0.58 - ETA: 22s - loss: 0.58 - ETA: 22s - loss: 0.58 - ETA: 21s - loss: 0.58 - ETA: 21s - loss: 0.58 - ETA: 21s - loss: 0.58 - ETA: 21s - loss: 0.58 - ETA: 20s - loss: 0.58 - ETA: 20s - loss: 0.58 - ETA: 20s - loss: 0.58 - ETA: 20s - loss: 0.58 - ETA: 19s - loss: 0.58 - ETA: 19s - loss: 0.58 - ETA: 19s - loss: 0.58 - ETA: 19s - loss: 0.58 - ETA: 18s - loss: 0.58 - ETA: 18s - loss: 0.58 - ETA: 18s - loss: 0.58 - ETA: 18s - loss: 0.58 - ETA: 17s - loss: 0.58 - ETA: 17s - loss: 0.58 - ETA: 17s - loss: 0.58 - ETA: 17s - loss: 0.58 - ETA: 16s - loss: 0.58 - ETA: 16s - loss: 0.58 - ETA: 16s - loss: 0.58 - ETA: 16s - loss: 0.58 - ETA: 15s - loss: 0.58 - ETA: 15s - loss: 0.58 - ETA: 15s - loss: 0.58 - ETA: 15s - loss: 0.58 - ETA: 14s - loss: 0.58 - ETA: 14s - loss: 0.58 - ETA: 14s - loss: 0.58 - ETA: 13s - loss: 0.58 - ETA: 13s - loss: 0.59 - ETA: 13s - loss: 0.59 - ETA: 13s - loss: 0.58 - ETA: 12s - loss: 0.58 - ETA: 12s - loss: 0.58 - ETA: 12s - loss: 0.58 - ETA: 12s - loss: 0.58 - ETA: 11s - loss: 0.58 - ETA: 11s - loss: 0.58 - ETA: 11s - loss: 0.58 - ETA: 11s - loss: 0.58 - ETA: 10s - loss: 0.58 - ETA: 10s - loss: 0.58 - ETA: 10s - loss: 0.58 - ETA: 9s - loss: 0.5900 - ETA: 9s - loss: 0.590 - ETA: 9s - loss: 0.590 - ETA: 9s - loss: 0.589 - ETA: 8s - loss: 0.589 - ETA: 8s - loss: 0.589 - ETA: 8s - loss: 0.589 - ETA: 8s - loss: 0.589 - ETA: 7s - loss: 0.589 - ETA: 7s - loss: 0.589 - ETA: 7s - loss: 0.589 - ETA: 7s - loss: 0.589 - ETA: 6s - loss: 0.589 - ETA: 6s - loss: 0.589 - ETA: 6s - loss: 0.590 - ETA: 6s - loss: 0.589 - ETA: 5s - loss: 0.589 - ETA: 5s - loss: 0.589 - ETA: 5s - loss: 0.589 - ETA: 4s - loss: 0.589 - ETA: 4s - loss: 0.589 - ETA: 4s - loss: 0.589 - ETA: 4s - loss: 0.589 - ETA: 3s - loss: 0.589 - ETA: 3s - loss: 0.589 - ETA: 3s - loss: 0.589 - ETA: 3s - loss: 0.589 - ETA: 2s - loss: 0.589 - ETA: 2s - loss: 0.589 - ETA: 2s - loss: 0.589 - ETA: 2s - loss: 0.589 - ETA: 1s - loss: 0.589 - ETA: 1s - loss: 0.589 - ETA: 1s - loss: 0.589 - ETA: 1s - loss: 0.589 - ETA: 0s - loss: 0.589 - ETA: 0s - loss: 0.589 - ETA: 0s - loss: 0.589 - ETA: 0s - loss: 0.589 - 85s 4ms/step - loss: 0.5899 - val_loss: 0.5887\n",
      "Epoch 5/10\n"
     ]
    },
    {
     "name": "stdout",
     "output_type": "stream",
     "text": [
      "19906/19906 [==============================] - ETA: 1:11 - loss: 0.587 - ETA: 1:14 - loss: 0.589 - ETA: 1:13 - loss: 0.592 - ETA: 1:14 - loss: 0.590 - ETA: 1:14 - loss: 0.592 - ETA: 1:13 - loss: 0.591 - ETA: 1:13 - loss: 0.590 - ETA: 1:13 - loss: 0.589 - ETA: 1:13 - loss: 0.588 - ETA: 1:13 - loss: 0.588 - ETA: 1:12 - loss: 0.589 - ETA: 1:12 - loss: 0.588 - ETA: 1:11 - loss: 0.588 - ETA: 1:10 - loss: 0.588 - ETA: 1:09 - loss: 0.588 - ETA: 1:08 - loss: 0.589 - ETA: 1:07 - loss: 0.588 - ETA: 1:07 - loss: 0.589 - ETA: 1:06 - loss: 0.588 - ETA: 1:05 - loss: 0.588 - ETA: 1:05 - loss: 0.588 - ETA: 1:04 - loss: 0.588 - ETA: 1:04 - loss: 0.588 - ETA: 1:03 - loss: 0.588 - ETA: 1:03 - loss: 0.587 - ETA: 1:03 - loss: 0.588 - ETA: 1:02 - loss: 0.588 - ETA: 1:02 - loss: 0.587 - ETA: 1:01 - loss: 0.587 - ETA: 1:01 - loss: 0.587 - ETA: 1:01 - loss: 0.587 - ETA: 1:00 - loss: 0.587 - ETA: 1:00 - loss: 0.587 - ETA: 1:00 - loss: 0.588 - ETA: 59s - loss: 0.588 - ETA: 59s - loss: 0.58 - ETA: 59s - loss: 0.58 - ETA: 58s - loss: 0.58 - ETA: 58s - loss: 0.58 - ETA: 58s - loss: 0.58 - ETA: 58s - loss: 0.58 - ETA: 57s - loss: 0.58 - ETA: 57s - loss: 0.58 - ETA: 57s - loss: 0.58 - ETA: 57s - loss: 0.58 - ETA: 56s - loss: 0.58 - ETA: 56s - loss: 0.58 - ETA: 56s - loss: 0.58 - ETA: 56s - loss: 0.58 - ETA: 56s - loss: 0.58 - ETA: 56s - loss: 0.58 - ETA: 56s - loss: 0.58 - ETA: 55s - loss: 0.58 - ETA: 56s - loss: 0.58 - ETA: 55s - loss: 0.58 - ETA: 55s - loss: 0.58 - ETA: 55s - loss: 0.58 - ETA: 55s - loss: 0.58 - ETA: 55s - loss: 0.58 - ETA: 55s - loss: 0.58 - ETA: 55s - loss: 0.58 - ETA: 55s - loss: 0.58 - ETA: 55s - loss: 0.58 - ETA: 54s - loss: 0.58 - ETA: 54s - loss: 0.58 - ETA: 54s - loss: 0.58 - ETA: 54s - loss: 0.58 - ETA: 54s - loss: 0.58 - ETA: 54s - loss: 0.58 - ETA: 54s - loss: 0.58 - ETA: 53s - loss: 0.58 - ETA: 53s - loss: 0.58 - ETA: 53s - loss: 0.58 - ETA: 53s - loss: 0.58 - ETA: 53s - loss: 0.58 - ETA: 53s - loss: 0.58 - ETA: 53s - loss: 0.58 - ETA: 52s - loss: 0.58 - ETA: 52s - loss: 0.58 - ETA: 52s - loss: 0.58 - ETA: 52s - loss: 0.58 - ETA: 52s - loss: 0.58 - ETA: 52s - loss: 0.58 - ETA: 51s - loss: 0.58 - ETA: 51s - loss: 0.58 - ETA: 51s - loss: 0.58 - ETA: 51s - loss: 0.58 - ETA: 51s - loss: 0.58 - ETA: 50s - loss: 0.58 - ETA: 50s - loss: 0.58 - ETA: 50s - loss: 0.58 - ETA: 50s - loss: 0.58 - ETA: 50s - loss: 0.58 - ETA: 49s - loss: 0.58 - ETA: 49s - loss: 0.58 - ETA: 49s - loss: 0.58 - ETA: 49s - loss: 0.58 - ETA: 49s - loss: 0.58 - ETA: 48s - loss: 0.58 - ETA: 48s - loss: 0.58 - ETA: 48s - loss: 0.58 - ETA: 48s - loss: 0.58 - ETA: 48s - loss: 0.58 - ETA: 47s - loss: 0.58 - ETA: 47s - loss: 0.58 - ETA: 47s - loss: 0.58 - ETA: 47s - loss: 0.58 - ETA: 47s - loss: 0.58 - ETA: 46s - loss: 0.58 - ETA: 46s - loss: 0.58 - ETA: 46s - loss: 0.58 - ETA: 46s - loss: 0.58 - ETA: 45s - loss: 0.58 - ETA: 45s - loss: 0.58 - ETA: 45s - loss: 0.58 - ETA: 45s - loss: 0.58 - ETA: 44s - loss: 0.58 - ETA: 44s - loss: 0.58 - ETA: 44s - loss: 0.58 - ETA: 43s - loss: 0.58 - ETA: 43s - loss: 0.58 - ETA: 43s - loss: 0.58 - ETA: 43s - loss: 0.58 - ETA: 42s - loss: 0.58 - ETA: 42s - loss: 0.58 - ETA: 42s - loss: 0.58 - ETA: 42s - loss: 0.58 - ETA: 41s - loss: 0.58 - ETA: 41s - loss: 0.58 - ETA: 41s - loss: 0.58 - ETA: 41s - loss: 0.58 - ETA: 40s - loss: 0.58 - ETA: 40s - loss: 0.58 - ETA: 40s - loss: 0.58 - ETA: 40s - loss: 0.58 - ETA: 39s - loss: 0.58 - ETA: 39s - loss: 0.58 - ETA: 39s - loss: 0.58 - ETA: 39s - loss: 0.58 - ETA: 38s - loss: 0.58 - ETA: 38s - loss: 0.58 - ETA: 38s - loss: 0.58 - ETA: 38s - loss: 0.58 - ETA: 38s - loss: 0.58 - ETA: 37s - loss: 0.58 - ETA: 37s - loss: 0.58 - ETA: 37s - loss: 0.58 - ETA: 37s - loss: 0.58 - ETA: 37s - loss: 0.58 - ETA: 36s - loss: 0.58 - ETA: 36s - loss: 0.58 - ETA: 36s - loss: 0.58 - ETA: 36s - loss: 0.58 - ETA: 35s - loss: 0.58 - ETA: 35s - loss: 0.58 - ETA: 35s - loss: 0.58 - ETA: 35s - loss: 0.58 - ETA: 35s - loss: 0.58 - ETA: 34s - loss: 0.58 - ETA: 34s - loss: 0.58 - ETA: 34s - loss: 0.58 - ETA: 34s - loss: 0.58 - ETA: 34s - loss: 0.58 - ETA: 34s - loss: 0.58 - ETA: 34s - loss: 0.58 - ETA: 33s - loss: 0.58 - ETA: 33s - loss: 0.58 - ETA: 33s - loss: 0.58 - ETA: 33s - loss: 0.58 - ETA: 33s - loss: 0.58 - ETA: 32s - loss: 0.58 - ETA: 32s - loss: 0.58 - ETA: 32s - loss: 0.58 - ETA: 32s - loss: 0.58 - ETA: 31s - loss: 0.58 - ETA: 31s - loss: 0.58 - ETA: 31s - loss: 0.58 - ETA: 31s - loss: 0.58 - ETA: 31s - loss: 0.58 - ETA: 30s - loss: 0.58 - ETA: 30s - loss: 0.58 - ETA: 30s - loss: 0.58 - ETA: 30s - loss: 0.58 - ETA: 29s - loss: 0.58 - ETA: 29s - loss: 0.58 - ETA: 29s - loss: 0.58 - ETA: 29s - loss: 0.58 - ETA: 29s - loss: 0.58 - ETA: 28s - loss: 0.58 - ETA: 28s - loss: 0.58 - ETA: 28s - loss: 0.58 - ETA: 28s - loss: 0.58 - ETA: 27s - loss: 0.58 - ETA: 27s - loss: 0.58 - ETA: 27s - loss: 0.58 - ETA: 27s - loss: 0.58 - ETA: 26s - loss: 0.58 - ETA: 26s - loss: 0.58 - ETA: 26s - loss: 0.58 - ETA: 26s - loss: 0.58 - ETA: 26s - loss: 0.58 - ETA: 25s - loss: 0.58 - ETA: 25s - loss: 0.58 - ETA: 25s - loss: 0.58 - ETA: 25s - loss: 0.58 - ETA: 24s - loss: 0.58 - ETA: 24s - loss: 0.58 - ETA: 24s - loss: 0.58 - ETA: 24s - loss: 0.58 - ETA: 23s - loss: 0.58 - ETA: 23s - loss: 0.58 - ETA: 23s - loss: 0.58 - ETA: 23s - loss: 0.58 - ETA: 23s - loss: 0.58 - ETA: 22s - loss: 0.58 - ETA: 22s - loss: 0.58 - ETA: 22s - loss: 0.58 - ETA: 22s - loss: 0.58 - ETA: 21s - loss: 0.58 - ETA: 21s - loss: 0.58 - ETA: 21s - loss: 0.58 - ETA: 21s - loss: 0.58 - ETA: 20s - loss: 0.58 - ETA: 20s - loss: 0.58 - ETA: 20s - loss: 0.58 - ETA: 20s - loss: 0.58 - ETA: 19s - loss: 0.58 - ETA: 19s - loss: 0.58 - ETA: 19s - loss: 0.58 - ETA: 19s - loss: 0.58 - ETA: 19s - loss: 0.58 - ETA: 18s - loss: 0.58 - ETA: 18s - loss: 0.58 - ETA: 18s - loss: 0.58 - ETA: 18s - loss: 0.58 - ETA: 17s - loss: 0.58 - ETA: 17s - loss: 0.58 - ETA: 17s - loss: 0.58 - ETA: 17s - loss: 0.58 - ETA: 16s - loss: 0.58 - ETA: 16s - loss: 0.58 - ETA: 16s - loss: 0.58 - ETA: 16s - loss: 0.58 - ETA: 15s - loss: 0.58 - ETA: 15s - loss: 0.58 - ETA: 15s - loss: 0.58 - ETA: 15s - loss: 0.58 - ETA: 15s - loss: 0.58 - ETA: 14s - loss: 0.58 - ETA: 14s - loss: 0.58 - ETA: 14s - loss: 0.58 - ETA: 14s - loss: 0.58 - ETA: 13s - loss: 0.58 - ETA: 13s - loss: 0.58 - ETA: 13s - loss: 0.58 - ETA: 13s - loss: 0.58 - ETA: 12s - loss: 0.58 - ETA: 12s - loss: 0.58 - ETA: 12s - loss: 0.58 - ETA: 12s - loss: 0.58 - ETA: 11s - loss: 0.58 - ETA: 11s - loss: 0.58 - ETA: 11s - loss: 0.58 - ETA: 11s - loss: 0.58 - ETA: 10s - loss: 0.58 - ETA: 10s - loss: 0.58 - ETA: 10s - loss: 0.58 - ETA: 10s - loss: 0.58 - ETA: 9s - loss: 0.5875 - ETA: 9s - loss: 0.587 - ETA: 9s - loss: 0.587 - ETA: 9s - loss: 0.587 - ETA: 8s - loss: 0.587 - ETA: 8s - loss: 0.587 - ETA: 8s - loss: 0.587 - ETA: 8s - loss: 0.587 - ETA: 7s - loss: 0.587 - ETA: 7s - loss: 0.587 - ETA: 7s - loss: 0.587 - ETA: 7s - loss: 0.587 - ETA: 7s - loss: 0.587 - ETA: 6s - loss: 0.587 - ETA: 6s - loss: 0.587 - ETA: 6s - loss: 0.587 - ETA: 6s - loss: 0.587 - ETA: 5s - loss: 0.587 - ETA: 5s - loss: 0.587 - ETA: 5s - loss: 0.587 - ETA: 5s - loss: 0.587 - ETA: 4s - loss: 0.587 - ETA: 4s - loss: 0.587 - ETA: 4s - loss: 0.587 - ETA: 4s - loss: 0.587 - ETA: 3s - loss: 0.587 - ETA: 3s - loss: 0.587 - ETA: 3s - loss: 0.587 - ETA: 3s - loss: 0.587 - ETA: 3s - loss: 0.587 - ETA: 2s - loss: 0.587 - ETA: 2s - loss: 0.587 - ETA: 2s - loss: 0.587 - ETA: 2s - loss: 0.587 - ETA: 1s - loss: 0.587 - ETA: 1s - loss: 0.587 - ETA: 1s - loss: 0.587 - ETA: 1s - loss: 0.587 - ETA: 0s - loss: 0.587 - ETA: 0s - loss: 0.587 - ETA: 0s - loss: 0.587 - ETA: 0s - loss: 0.587 - ETA: 0s - loss: 0.587 - 79s 4ms/step - loss: 0.5877 - val_loss: 0.5871\n",
      "Epoch 6/10\n",
      "19906/19906 [==============================] - ETA: 2:03 - loss: 0.588 - ETA: 1:52 - loss: 0.586 - ETA: 1:43 - loss: 0.586 - ETA: 1:40 - loss: 0.588 - ETA: 1:35 - loss: 0.589 - ETA: 1:32 - loss: 0.590 - ETA: 1:32 - loss: 0.589 - ETA: 1:30 - loss: 0.589 - ETA: 1:30 - loss: 0.588 - ETA: 1:29 - loss: 0.590 - ETA: 1:29 - loss: 0.589 - ETA: 1:28 - loss: 0.589 - ETA: 1:28 - loss: 0.587 - ETA: 1:27 - loss: 0.588 - ETA: 1:26 - loss: 0.588 - ETA: 1:26 - loss: 0.588 - ETA: 1:25 - loss: 0.588 - ETA: 1:24 - loss: 0.587 - ETA: 1:23 - loss: 0.586 - ETA: 1:22 - loss: 0.586 - ETA: 1:22 - loss: 0.585 - ETA: 1:23 - loss: 0.586 - ETA: 1:22 - loss: 0.586 - ETA: 1:21 - loss: 0.585 - ETA: 1:21 - loss: 0.586 - ETA: 1:20 - loss: 0.586 - ETA: 1:20 - loss: 0.586 - ETA: 1:19 - loss: 0.587 - ETA: 1:19 - loss: 0.587 - ETA: 1:18 - loss: 0.588 - ETA: 1:19 - loss: 0.588 - ETA: 1:19 - loss: 0.587 - ETA: 1:19 - loss: 0.587 - ETA: 1:19 - loss: 0.587 - ETA: 1:18 - loss: 0.587 - ETA: 1:18 - loss: 0.587 - ETA: 1:17 - loss: 0.587 - ETA: 1:17 - loss: 0.587 - ETA: 1:17 - loss: 0.587 - ETA: 1:16 - loss: 0.587 - ETA: 1:16 - loss: 0.586 - ETA: 1:16 - loss: 0.586 - ETA: 1:16 - loss: 0.586 - ETA: 1:15 - loss: 0.586 - ETA: 1:15 - loss: 0.586 - ETA: 1:14 - loss: 0.586 - ETA: 1:14 - loss: 0.586 - ETA: 1:13 - loss: 0.586 - ETA: 1:13 - loss: 0.586 - ETA: 1:13 - loss: 0.586 - ETA: 1:12 - loss: 0.586 - ETA: 1:12 - loss: 0.586 - ETA: 1:11 - loss: 0.586 - ETA: 1:11 - loss: 0.586 - ETA: 1:10 - loss: 0.586 - ETA: 1:10 - loss: 0.586 - ETA: 1:09 - loss: 0.586 - ETA: 1:09 - loss: 0.586 - ETA: 1:09 - loss: 0.586 - ETA: 1:09 - loss: 0.586 - ETA: 1:09 - loss: 0.586 - ETA: 1:08 - loss: 0.586 - ETA: 1:08 - loss: 0.586 - ETA: 1:08 - loss: 0.586 - ETA: 1:07 - loss: 0.586 - ETA: 1:07 - loss: 0.586 - ETA: 1:07 - loss: 0.586 - ETA: 1:07 - loss: 0.586 - ETA: 1:06 - loss: 0.586 - ETA: 1:06 - loss: 0.586 - ETA: 1:06 - loss: 0.586 - ETA: 1:06 - loss: 0.586 - ETA: 1:06 - loss: 0.586 - ETA: 1:06 - loss: 0.586 - ETA: 1:06 - loss: 0.586 - ETA: 1:05 - loss: 0.586 - ETA: 1:06 - loss: 0.586 - ETA: 1:06 - loss: 0.586 - ETA: 1:06 - loss: 0.586 - ETA: 1:06 - loss: 0.586 - ETA: 1:05 - loss: 0.586 - ETA: 1:05 - loss: 0.586 - ETA: 1:05 - loss: 0.586 - ETA: 1:04 - loss: 0.586 - ETA: 1:04 - loss: 0.586 - ETA: 1:04 - loss: 0.586 - ETA: 1:03 - loss: 0.586 - ETA: 1:03 - loss: 0.587 - ETA: 1:03 - loss: 0.587 - ETA: 1:02 - loss: 0.587 - ETA: 1:02 - loss: 0.587 - ETA: 1:02 - loss: 0.587 - ETA: 1:01 - loss: 0.587 - ETA: 1:01 - loss: 0.587 - ETA: 1:01 - loss: 0.587 - ETA: 1:01 - loss: 0.587 - ETA: 1:01 - loss: 0.587 - ETA: 1:01 - loss: 0.587 - ETA: 1:01 - loss: 0.587 - ETA: 1:01 - loss: 0.587 - ETA: 1:00 - loss: 0.587 - ETA: 1:00 - loss: 0.587 - ETA: 1:00 - loss: 0.587 - ETA: 59s - loss: 0.587 - ETA: 59s - loss: 0.58 - ETA: 59s - loss: 0.58 - ETA: 59s - loss: 0.58 - ETA: 58s - loss: 0.58 - ETA: 58s - loss: 0.58 - ETA: 58s - loss: 0.58 - ETA: 57s - loss: 0.58 - ETA: 57s - loss: 0.58 - ETA: 57s - loss: 0.58 - ETA: 57s - loss: 0.58 - ETA: 56s - loss: 0.58 - ETA: 56s - loss: 0.58 - ETA: 56s - loss: 0.58 - ETA: 56s - loss: 0.58 - ETA: 55s - loss: 0.58 - ETA: 55s - loss: 0.58 - ETA: 55s - loss: 0.58 - ETA: 54s - loss: 0.58 - ETA: 54s - loss: 0.58 - ETA: 54s - loss: 0.58 - ETA: 54s - loss: 0.58 - ETA: 53s - loss: 0.58 - ETA: 53s - loss: 0.58 - ETA: 53s - loss: 0.58 - ETA: 53s - loss: 0.58 - ETA: 52s - loss: 0.58 - ETA: 52s - loss: 0.58 - ETA: 52s - loss: 0.58 - ETA: 52s - loss: 0.58 - ETA: 51s - loss: 0.58 - ETA: 51s - loss: 0.58 - ETA: 51s - loss: 0.58 - ETA: 50s - loss: 0.58 - ETA: 50s - loss: 0.58 - ETA: 50s - loss: 0.58 - ETA: 50s - loss: 0.58 - ETA: 49s - loss: 0.58 - ETA: 49s - loss: 0.58 - ETA: 49s - loss: 0.58 - ETA: 48s - loss: 0.58 - ETA: 48s - loss: 0.58 - ETA: 48s - loss: 0.58 - ETA: 48s - loss: 0.58 - ETA: 47s - loss: 0.58 - ETA: 47s - loss: 0.58 - ETA: 47s - loss: 0.58 - ETA: 46s - loss: 0.58 - ETA: 46s - loss: 0.58 - ETA: 46s - loss: 0.58 - ETA: 45s - loss: 0.58 - ETA: 45s - loss: 0.58 - ETA: 45s - loss: 0.58 - ETA: 44s - loss: 0.58 - ETA: 44s - loss: 0.58 - ETA: 44s - loss: 0.58 - ETA: 44s - loss: 0.58 - ETA: 43s - loss: 0.58 - ETA: 43s - loss: 0.58 - ETA: 43s - loss: 0.58 - ETA: 42s - loss: 0.58 - ETA: 42s - loss: 0.58 - ETA: 42s - loss: 0.58 - ETA: 42s - loss: 0.58 - ETA: 41s - loss: 0.58 - ETA: 41s - loss: 0.58 - ETA: 41s - loss: 0.58 - ETA: 40s - loss: 0.58 - ETA: 40s - loss: 0.58 - ETA: 40s - loss: 0.58 - ETA: 39s - loss: 0.58 - ETA: 39s - loss: 0.58 - ETA: 39s - loss: 0.58 - ETA: 39s - loss: 0.58 - ETA: 38s - loss: 0.58 - ETA: 38s - loss: 0.58 - ETA: 38s - loss: 0.58 - ETA: 37s - loss: 0.58 - ETA: 37s - loss: 0.58 - ETA: 37s - loss: 0.58 - ETA: 37s - loss: 0.58 - ETA: 36s - loss: 0.58 - ETA: 36s - loss: 0.58 - ETA: 36s - loss: 0.58 - ETA: 35s - loss: 0.58 - ETA: 35s - loss: 0.58 - ETA: 35s - loss: 0.58 - ETA: 34s - loss: 0.58 - ETA: 34s - loss: 0.58 - ETA: 34s - loss: 0.58 - ETA: 34s - loss: 0.58 - ETA: 33s - loss: 0.58 - ETA: 33s - loss: 0.58 - ETA: 33s - loss: 0.58 - ETA: 32s - loss: 0.58 - ETA: 32s - loss: 0.58 - ETA: 32s - loss: 0.58 - ETA: 31s - loss: 0.58 - ETA: 31s - loss: 0.58 - ETA: 31s - loss: 0.58 - ETA: 31s - loss: 0.58 - ETA: 30s - loss: 0.58 - ETA: 30s - loss: 0.58 - ETA: 30s - loss: 0.58 - ETA: 29s - loss: 0.58 - ETA: 29s - loss: 0.58 - ETA: 29s - loss: 0.58 - ETA: 28s - loss: 0.58 - ETA: 28s - loss: 0.58 - ETA: 28s - loss: 0.58 - ETA: 28s - loss: 0.58 - ETA: 27s - loss: 0.58 - ETA: 27s - loss: 0.58 - ETA: 27s - loss: 0.58 - ETA: 26s - loss: 0.58 - ETA: 26s - loss: 0.58 - ETA: 26s - loss: 0.58 - ETA: 26s - loss: 0.58 - ETA: 25s - loss: 0.58 - ETA: 25s - loss: 0.58 - ETA: 25s - loss: 0.58 - ETA: 24s - loss: 0.58 - ETA: 24s - loss: 0.58 - ETA: 24s - loss: 0.58 - ETA: 23s - loss: 0.58 - ETA: 23s - loss: 0.58 - ETA: 23s - loss: 0.58 - ETA: 23s - loss: 0.58 - ETA: 22s - loss: 0.58 - ETA: 22s - loss: 0.58 - ETA: 22s - loss: 0.58 - ETA: 21s - loss: 0.58 - ETA: 21s - loss: 0.58 - ETA: 21s - loss: 0.58 - ETA: 20s - loss: 0.58 - ETA: 20s - loss: 0.58 - ETA: 20s - loss: 0.58 - ETA: 20s - loss: 0.58 - ETA: 19s - loss: 0.58 - ETA: 19s - loss: 0.58 - ETA: 19s - loss: 0.58 - ETA: 18s - loss: 0.58 - ETA: 18s - loss: 0.58 - ETA: 18s - loss: 0.58 - ETA: 17s - loss: 0.58 - ETA: 17s - loss: 0.58 - ETA: 17s - loss: 0.58 - ETA: 16s - loss: 0.58 - ETA: 16s - loss: 0.58 - ETA: 16s - loss: 0.58 - ETA: 16s - loss: 0.58 - ETA: 15s - loss: 0.58 - ETA: 15s - loss: 0.58 - ETA: 15s - loss: 0.58 - ETA: 14s - loss: 0.58 - ETA: 14s - loss: 0.58 - ETA: 14s - loss: 0.58 - ETA: 14s - loss: 0.58 - ETA: 13s - loss: 0.58 - ETA: 13s - loss: 0.58 - ETA: 13s - loss: 0.58 - ETA: 12s - loss: 0.58 - ETA: 12s - loss: 0.58 - ETA: 12s - loss: 0.58 - ETA: 12s - loss: 0.58 - ETA: 11s - loss: 0.58 - ETA: 11s - loss: 0.58 - ETA: 11s - loss: 0.58 - ETA: 10s - loss: 0.58 - ETA: 10s - loss: 0.58 - ETA: 10s - loss: 0.58 - ETA: 9s - loss: 0.5861 - ETA: 9s - loss: 0.586 - ETA: 9s - loss: 0.586 - ETA: 9s - loss: 0.586 - ETA: 8s - loss: 0.586 - ETA: 8s - loss: 0.586 - ETA: 8s - loss: 0.586 - ETA: 8s - loss: 0.586 - ETA: 7s - loss: 0.586 - ETA: 7s - loss: 0.586 - ETA: 7s - loss: 0.586 - ETA: 6s - loss: 0.586 - ETA: 6s - loss: 0.586 - ETA: 6s - loss: 0.586 - ETA: 6s - loss: 0.586 - ETA: 5s - loss: 0.586 - ETA: 5s - loss: 0.586 - ETA: 5s - loss: 0.586 - ETA: 4s - loss: 0.586 - ETA: 4s - loss: 0.586 - ETA: 4s - loss: 0.586 - ETA: 4s - loss: 0.586 - ETA: 3s - loss: 0.586 - ETA: 3s - loss: 0.586 - ETA: 3s - loss: 0.586 - ETA: 3s - loss: 0.586 - ETA: 2s - loss: 0.586 - ETA: 2s - loss: 0.586 - ETA: 2s - loss: 0.586 - ETA: 1s - loss: 0.586 - ETA: 1s - loss: 0.586 - ETA: 1s - loss: 0.586 - ETA: 1s - loss: 0.586 - ETA: 0s - loss: 0.586 - ETA: 0s - loss: 0.586 - ETA: 0s - loss: 0.586 - ETA: 0s - loss: 0.586 - 91s 5ms/step - loss: 0.5862 - val_loss: 0.5841\n",
      "Epoch 7/10\n"
     ]
    },
    {
     "name": "stdout",
     "output_type": "stream",
     "text": [
      "19906/19906 [==============================] - ETA: 1:23 - loss: 0.583 - ETA: 1:23 - loss: 0.578 - ETA: 1:23 - loss: 0.579 - ETA: 1:23 - loss: 0.579 - ETA: 1:22 - loss: 0.578 - ETA: 1:23 - loss: 0.578 - ETA: 1:23 - loss: 0.578 - ETA: 1:22 - loss: 0.579 - ETA: 1:22 - loss: 0.578 - ETA: 1:22 - loss: 0.580 - ETA: 1:22 - loss: 0.580 - ETA: 1:22 - loss: 0.582 - ETA: 1:21 - loss: 0.582 - ETA: 1:21 - loss: 0.582 - ETA: 1:21 - loss: 0.581 - ETA: 1:21 - loss: 0.582 - ETA: 1:20 - loss: 0.583 - ETA: 1:20 - loss: 0.584 - ETA: 1:20 - loss: 0.584 - ETA: 1:20 - loss: 0.584 - ETA: 1:19 - loss: 0.584 - ETA: 1:19 - loss: 0.584 - ETA: 1:19 - loss: 0.584 - ETA: 1:18 - loss: 0.584 - ETA: 1:18 - loss: 0.584 - ETA: 1:18 - loss: 0.584 - ETA: 1:18 - loss: 0.584 - ETA: 1:17 - loss: 0.583 - ETA: 1:17 - loss: 0.583 - ETA: 1:17 - loss: 0.583 - ETA: 1:17 - loss: 0.584 - ETA: 1:17 - loss: 0.584 - ETA: 1:16 - loss: 0.584 - ETA: 1:16 - loss: 0.584 - ETA: 1:16 - loss: 0.584 - ETA: 1:15 - loss: 0.584 - ETA: 1:15 - loss: 0.584 - ETA: 1:15 - loss: 0.584 - ETA: 1:14 - loss: 0.584 - ETA: 1:14 - loss: 0.584 - ETA: 1:14 - loss: 0.584 - ETA: 1:14 - loss: 0.585 - ETA: 1:13 - loss: 0.585 - ETA: 1:13 - loss: 0.585 - ETA: 1:13 - loss: 0.585 - ETA: 1:12 - loss: 0.585 - ETA: 1:12 - loss: 0.585 - ETA: 1:12 - loss: 0.585 - ETA: 1:12 - loss: 0.585 - ETA: 1:11 - loss: 0.585 - ETA: 1:11 - loss: 0.585 - ETA: 1:11 - loss: 0.585 - ETA: 1:10 - loss: 0.585 - ETA: 1:10 - loss: 0.585 - ETA: 1:10 - loss: 0.585 - ETA: 1:10 - loss: 0.585 - ETA: 1:09 - loss: 0.585 - ETA: 1:09 - loss: 0.586 - ETA: 1:09 - loss: 0.586 - ETA: 1:08 - loss: 0.585 - ETA: 1:08 - loss: 0.585 - ETA: 1:08 - loss: 0.585 - ETA: 1:08 - loss: 0.585 - ETA: 1:07 - loss: 0.585 - ETA: 1:07 - loss: 0.585 - ETA: 1:07 - loss: 0.585 - ETA: 1:06 - loss: 0.585 - ETA: 1:06 - loss: 0.585 - ETA: 1:06 - loss: 0.585 - ETA: 1:06 - loss: 0.585 - ETA: 1:05 - loss: 0.585 - ETA: 1:05 - loss: 0.585 - ETA: 1:05 - loss: 0.585 - ETA: 1:04 - loss: 0.585 - ETA: 1:04 - loss: 0.585 - ETA: 1:04 - loss: 0.585 - ETA: 1:04 - loss: 0.585 - ETA: 1:03 - loss: 0.585 - ETA: 1:03 - loss: 0.585 - ETA: 1:03 - loss: 0.584 - ETA: 1:03 - loss: 0.585 - ETA: 1:02 - loss: 0.585 - ETA: 1:02 - loss: 0.585 - ETA: 1:02 - loss: 0.585 - ETA: 1:01 - loss: 0.585 - ETA: 1:01 - loss: 0.585 - ETA: 1:01 - loss: 0.585 - ETA: 1:01 - loss: 0.584 - ETA: 1:00 - loss: 0.585 - ETA: 1:00 - loss: 0.585 - ETA: 1:00 - loss: 0.585 - ETA: 59s - loss: 0.585 - ETA: 59s - loss: 0.58 - ETA: 59s - loss: 0.58 - ETA: 59s - loss: 0.58 - ETA: 58s - loss: 0.58 - ETA: 58s - loss: 0.58 - ETA: 58s - loss: 0.58 - ETA: 58s - loss: 0.58 - ETA: 57s - loss: 0.58 - ETA: 57s - loss: 0.58 - ETA: 57s - loss: 0.58 - ETA: 56s - loss: 0.58 - ETA: 56s - loss: 0.58 - ETA: 56s - loss: 0.58 - ETA: 56s - loss: 0.58 - ETA: 55s - loss: 0.58 - ETA: 55s - loss: 0.58 - ETA: 55s - loss: 0.58 - ETA: 54s - loss: 0.58 - ETA: 54s - loss: 0.58 - ETA: 54s - loss: 0.58 - ETA: 54s - loss: 0.58 - ETA: 53s - loss: 0.58 - ETA: 53s - loss: 0.58 - ETA: 53s - loss: 0.58 - ETA: 53s - loss: 0.58 - ETA: 52s - loss: 0.58 - ETA: 52s - loss: 0.58 - ETA: 52s - loss: 0.58 - ETA: 51s - loss: 0.58 - ETA: 51s - loss: 0.58 - ETA: 51s - loss: 0.58 - ETA: 51s - loss: 0.58 - ETA: 50s - loss: 0.58 - ETA: 50s - loss: 0.58 - ETA: 50s - loss: 0.58 - ETA: 49s - loss: 0.58 - ETA: 49s - loss: 0.58 - ETA: 49s - loss: 0.58 - ETA: 49s - loss: 0.58 - ETA: 48s - loss: 0.58 - ETA: 48s - loss: 0.58 - ETA: 48s - loss: 0.58 - ETA: 48s - loss: 0.58 - ETA: 47s - loss: 0.58 - ETA: 47s - loss: 0.58 - ETA: 47s - loss: 0.58 - ETA: 46s - loss: 0.58 - ETA: 46s - loss: 0.58 - ETA: 46s - loss: 0.58 - ETA: 46s - loss: 0.58 - ETA: 45s - loss: 0.58 - ETA: 45s - loss: 0.58 - ETA: 45s - loss: 0.58 - ETA: 45s - loss: 0.58 - ETA: 44s - loss: 0.58 - ETA: 44s - loss: 0.58 - ETA: 44s - loss: 0.58 - ETA: 43s - loss: 0.58 - ETA: 43s - loss: 0.58 - ETA: 43s - loss: 0.58 - ETA: 43s - loss: 0.58 - ETA: 42s - loss: 0.58 - ETA: 42s - loss: 0.58 - ETA: 42s - loss: 0.58 - ETA: 42s - loss: 0.58 - ETA: 41s - loss: 0.58 - ETA: 41s - loss: 0.58 - ETA: 41s - loss: 0.58 - ETA: 41s - loss: 0.58 - ETA: 40s - loss: 0.58 - ETA: 40s - loss: 0.58 - ETA: 40s - loss: 0.58 - ETA: 40s - loss: 0.58 - ETA: 39s - loss: 0.58 - ETA: 39s - loss: 0.58 - ETA: 39s - loss: 0.58 - ETA: 38s - loss: 0.58 - ETA: 38s - loss: 0.58 - ETA: 38s - loss: 0.58 - ETA: 38s - loss: 0.58 - ETA: 37s - loss: 0.58 - ETA: 37s - loss: 0.58 - ETA: 37s - loss: 0.58 - ETA: 36s - loss: 0.58 - ETA: 36s - loss: 0.58 - ETA: 36s - loss: 0.58 - ETA: 36s - loss: 0.58 - ETA: 35s - loss: 0.58 - ETA: 35s - loss: 0.58 - ETA: 35s - loss: 0.58 - ETA: 35s - loss: 0.58 - ETA: 34s - loss: 0.58 - ETA: 34s - loss: 0.58 - ETA: 34s - loss: 0.58 - ETA: 33s - loss: 0.58 - ETA: 33s - loss: 0.58 - ETA: 33s - loss: 0.58 - ETA: 33s - loss: 0.58 - ETA: 32s - loss: 0.58 - ETA: 32s - loss: 0.58 - ETA: 32s - loss: 0.58 - ETA: 31s - loss: 0.58 - ETA: 31s - loss: 0.58 - ETA: 31s - loss: 0.58 - ETA: 31s - loss: 0.58 - ETA: 30s - loss: 0.58 - ETA: 30s - loss: 0.58 - ETA: 30s - loss: 0.58 - ETA: 30s - loss: 0.58 - ETA: 29s - loss: 0.58 - ETA: 29s - loss: 0.58 - ETA: 29s - loss: 0.58 - ETA: 28s - loss: 0.58 - ETA: 28s - loss: 0.58 - ETA: 28s - loss: 0.58 - ETA: 28s - loss: 0.58 - ETA: 27s - loss: 0.58 - ETA: 27s - loss: 0.58 - ETA: 27s - loss: 0.58 - ETA: 27s - loss: 0.58 - ETA: 26s - loss: 0.58 - ETA: 26s - loss: 0.58 - ETA: 26s - loss: 0.58 - ETA: 25s - loss: 0.58 - ETA: 25s - loss: 0.58 - ETA: 25s - loss: 0.58 - ETA: 25s - loss: 0.58 - ETA: 24s - loss: 0.58 - ETA: 24s - loss: 0.58 - ETA: 24s - loss: 0.58 - ETA: 23s - loss: 0.58 - ETA: 23s - loss: 0.58 - ETA: 23s - loss: 0.58 - ETA: 23s - loss: 0.58 - ETA: 22s - loss: 0.58 - ETA: 22s - loss: 0.58 - ETA: 22s - loss: 0.58 - ETA: 22s - loss: 0.58 - ETA: 21s - loss: 0.58 - ETA: 21s - loss: 0.58 - ETA: 21s - loss: 0.58 - ETA: 20s - loss: 0.58 - ETA: 20s - loss: 0.58 - ETA: 20s - loss: 0.58 - ETA: 20s - loss: 0.58 - ETA: 19s - loss: 0.58 - ETA: 19s - loss: 0.58 - ETA: 19s - loss: 0.58 - ETA: 19s - loss: 0.58 - ETA: 18s - loss: 0.58 - ETA: 18s - loss: 0.58 - ETA: 18s - loss: 0.58 - ETA: 17s - loss: 0.58 - ETA: 17s - loss: 0.58 - ETA: 17s - loss: 0.58 - ETA: 17s - loss: 0.58 - ETA: 16s - loss: 0.58 - ETA: 16s - loss: 0.58 - ETA: 16s - loss: 0.58 - ETA: 16s - loss: 0.58 - ETA: 15s - loss: 0.58 - ETA: 15s - loss: 0.58 - ETA: 15s - loss: 0.58 - ETA: 14s - loss: 0.58 - ETA: 14s - loss: 0.58 - ETA: 14s - loss: 0.58 - ETA: 14s - loss: 0.58 - ETA: 13s - loss: 0.58 - ETA: 13s - loss: 0.58 - ETA: 13s - loss: 0.58 - ETA: 13s - loss: 0.58 - ETA: 12s - loss: 0.58 - ETA: 12s - loss: 0.58 - ETA: 12s - loss: 0.58 - ETA: 11s - loss: 0.58 - ETA: 11s - loss: 0.58 - ETA: 11s - loss: 0.58 - ETA: 11s - loss: 0.58 - ETA: 10s - loss: 0.58 - ETA: 10s - loss: 0.58 - ETA: 10s - loss: 0.58 - ETA: 10s - loss: 0.58 - ETA: 9s - loss: 0.5851 - ETA: 9s - loss: 0.585 - ETA: 9s - loss: 0.585 - ETA: 8s - loss: 0.585 - ETA: 8s - loss: 0.585 - ETA: 8s - loss: 0.585 - ETA: 8s - loss: 0.585 - ETA: 7s - loss: 0.585 - ETA: 7s - loss: 0.585 - ETA: 7s - loss: 0.585 - ETA: 7s - loss: 0.585 - ETA: 6s - loss: 0.585 - ETA: 6s - loss: 0.585 - ETA: 6s - loss: 0.585 - ETA: 5s - loss: 0.585 - ETA: 5s - loss: 0.584 - ETA: 5s - loss: 0.585 - ETA: 5s - loss: 0.584 - ETA: 4s - loss: 0.584 - ETA: 4s - loss: 0.584 - ETA: 4s - loss: 0.585 - ETA: 4s - loss: 0.585 - ETA: 3s - loss: 0.585 - ETA: 3s - loss: 0.585 - ETA: 3s - loss: 0.585 - ETA: 2s - loss: 0.585 - ETA: 2s - loss: 0.585 - ETA: 2s - loss: 0.585 - ETA: 2s - loss: 0.585 - ETA: 1s - loss: 0.585 - ETA: 1s - loss: 0.585 - ETA: 1s - loss: 0.585 - ETA: 1s - loss: 0.585 - ETA: 0s - loss: 0.584 - ETA: 0s - loss: 0.585 - ETA: 0s - loss: 0.585 - ETA: 0s - loss: 0.585 - 89s 4ms/step - loss: 0.5850 - val_loss: 0.6174\n",
      "Epoch 8/10\n",
      "19906/19906 [==============================] - ETA: 1:21 - loss: 0.625 - ETA: 1:19 - loss: 0.611 - ETA: 1:19 - loss: 0.604 - ETA: 1:19 - loss: 0.604 - ETA: 1:19 - loss: 0.597 - ETA: 1:19 - loss: 0.592 - ETA: 1:18 - loss: 0.591 - ETA: 1:16 - loss: 0.590 - ETA: 1:15 - loss: 0.588 - ETA: 1:14 - loss: 0.586 - ETA: 1:13 - loss: 0.584 - ETA: 1:12 - loss: 0.583 - ETA: 1:11 - loss: 0.583 - ETA: 1:11 - loss: 0.583 - ETA: 1:10 - loss: 0.582 - ETA: 1:09 - loss: 0.582 - ETA: 1:09 - loss: 0.583 - ETA: 1:08 - loss: 0.583 - ETA: 1:08 - loss: 0.583 - ETA: 1:07 - loss: 0.583 - ETA: 1:07 - loss: 0.583 - ETA: 1:07 - loss: 0.583 - ETA: 1:06 - loss: 0.583 - ETA: 1:06 - loss: 0.582 - ETA: 1:05 - loss: 0.582 - ETA: 1:05 - loss: 0.582 - ETA: 1:05 - loss: 0.582 - ETA: 1:04 - loss: 0.582 - ETA: 1:04 - loss: 0.582 - ETA: 1:04 - loss: 0.582 - ETA: 1:03 - loss: 0.582 - ETA: 1:03 - loss: 0.583 - ETA: 1:03 - loss: 0.583 - ETA: 1:03 - loss: 0.583 - ETA: 1:03 - loss: 0.583 - ETA: 1:03 - loss: 0.582 - ETA: 1:03 - loss: 0.583 - ETA: 1:03 - loss: 0.583 - ETA: 1:03 - loss: 0.583 - ETA: 1:03 - loss: 0.583 - ETA: 1:03 - loss: 0.583 - ETA: 1:03 - loss: 0.583 - ETA: 1:03 - loss: 0.582 - ETA: 1:03 - loss: 0.583 - ETA: 1:03 - loss: 0.582 - ETA: 1:03 - loss: 0.582 - ETA: 1:03 - loss: 0.582 - ETA: 1:02 - loss: 0.582 - ETA: 1:02 - loss: 0.582 - ETA: 1:02 - loss: 0.582 - ETA: 1:02 - loss: 0.582 - ETA: 1:02 - loss: 0.582 - ETA: 1:02 - loss: 0.582 - ETA: 1:02 - loss: 0.582 - ETA: 1:01 - loss: 0.582 - ETA: 1:01 - loss: 0.582 - ETA: 1:01 - loss: 0.582 - ETA: 1:01 - loss: 0.582 - ETA: 1:01 - loss: 0.582 - ETA: 1:01 - loss: 0.582 - ETA: 1:00 - loss: 0.582 - ETA: 1:00 - loss: 0.582 - ETA: 1:00 - loss: 0.582 - ETA: 1:00 - loss: 0.582 - ETA: 1:00 - loss: 0.582 - ETA: 1:00 - loss: 0.582 - ETA: 1:00 - loss: 0.582 - ETA: 59s - loss: 0.582 - ETA: 59s - loss: 0.58 - ETA: 59s - loss: 0.58 - ETA: 59s - loss: 0.58 - ETA: 59s - loss: 0.58 - ETA: 58s - loss: 0.58 - ETA: 58s - loss: 0.58 - ETA: 58s - loss: 0.58 - ETA: 58s - loss: 0.58 - ETA: 58s - loss: 0.58 - ETA: 57s - loss: 0.58 - ETA: 57s - loss: 0.58 - ETA: 57s - loss: 0.58 - ETA: 57s - loss: 0.58 - ETA: 57s - loss: 0.58 - ETA: 56s - loss: 0.58 - ETA: 56s - loss: 0.58 - ETA: 56s - loss: 0.58 - ETA: 56s - loss: 0.58 - ETA: 56s - loss: 0.58 - ETA: 55s - loss: 0.58 - ETA: 55s - loss: 0.58 - ETA: 55s - loss: 0.58 - ETA: 55s - loss: 0.58 - ETA: 54s - loss: 0.58 - ETA: 54s - loss: 0.58 - ETA: 54s - loss: 0.58 - ETA: 54s - loss: 0.58 - ETA: 54s - loss: 0.58 - ETA: 53s - loss: 0.58 - ETA: 53s - loss: 0.58 - ETA: 53s - loss: 0.58 - ETA: 53s - loss: 0.58 - ETA: 52s - loss: 0.58 - ETA: 52s - loss: 0.58 - ETA: 52s - loss: 0.58 - ETA: 52s - loss: 0.58 - ETA: 51s - loss: 0.58 - ETA: 51s - loss: 0.58 - ETA: 51s - loss: 0.58 - ETA: 51s - loss: 0.58 - ETA: 51s - loss: 0.58 - ETA: 50s - loss: 0.58 - ETA: 50s - loss: 0.58 - ETA: 50s - loss: 0.58 - ETA: 50s - loss: 0.58 - ETA: 49s - loss: 0.58 - ETA: 49s - loss: 0.58 - ETA: 49s - loss: 0.58 - ETA: 49s - loss: 0.58 - ETA: 48s - loss: 0.58 - ETA: 48s - loss: 0.58 - ETA: 48s - loss: 0.58 - ETA: 48s - loss: 0.58 - ETA: 47s - loss: 0.58 - ETA: 47s - loss: 0.58 - ETA: 47s - loss: 0.58 - ETA: 47s - loss: 0.58 - ETA: 46s - loss: 0.58 - ETA: 46s - loss: 0.58 - ETA: 46s - loss: 0.58 - ETA: 46s - loss: 0.58 - ETA: 46s - loss: 0.58 - ETA: 45s - loss: 0.58 - ETA: 45s - loss: 0.58 - ETA: 45s - loss: 0.58 - ETA: 45s - loss: 0.58 - ETA: 44s - loss: 0.58 - ETA: 44s - loss: 0.58 - ETA: 44s - loss: 0.58 - ETA: 44s - loss: 0.58 - ETA: 43s - loss: 0.58 - ETA: 43s - loss: 0.58 - ETA: 43s - loss: 0.58 - ETA: 43s - loss: 0.58 - ETA: 42s - loss: 0.58 - ETA: 42s - loss: 0.58 - ETA: 42s - loss: 0.58 - ETA: 42s - loss: 0.58 - ETA: 41s - loss: 0.58 - ETA: 41s - loss: 0.58 - ETA: 41s - loss: 0.58 - ETA: 41s - loss: 0.58 - ETA: 40s - loss: 0.58 - ETA: 40s - loss: 0.58 - ETA: 40s - loss: 0.58 - ETA: 40s - loss: 0.58 - ETA: 39s - loss: 0.58 - ETA: 39s - loss: 0.58 - ETA: 39s - loss: 0.58 - ETA: 39s - loss: 0.58 - ETA: 38s - loss: 0.58 - ETA: 38s - loss: 0.58 - ETA: 38s - loss: 0.58 - ETA: 38s - loss: 0.58 - ETA: 37s - loss: 0.58 - ETA: 37s - loss: 0.58 - ETA: 37s - loss: 0.58 - ETA: 37s - loss: 0.58 - ETA: 36s - loss: 0.58 - ETA: 36s - loss: 0.58 - ETA: 36s - loss: 0.58 - ETA: 36s - loss: 0.58 - ETA: 35s - loss: 0.58 - ETA: 35s - loss: 0.58 - ETA: 35s - loss: 0.58 - ETA: 35s - loss: 0.58 - ETA: 34s - loss: 0.58 - ETA: 34s - loss: 0.58 - ETA: 34s - loss: 0.58 - ETA: 34s - loss: 0.58 - ETA: 33s - loss: 0.58 - ETA: 33s - loss: 0.58 - ETA: 33s - loss: 0.58 - ETA: 33s - loss: 0.58 - ETA: 32s - loss: 0.58 - ETA: 32s - loss: 0.58 - ETA: 32s - loss: 0.58 - ETA: 31s - loss: 0.58 - ETA: 31s - loss: 0.58 - ETA: 31s - loss: 0.58 - ETA: 31s - loss: 0.58 - ETA: 31s - loss: 0.58 - ETA: 30s - loss: 0.58 - ETA: 30s - loss: 0.58 - ETA: 30s - loss: 0.58 - ETA: 30s - loss: 0.58 - ETA: 29s - loss: 0.58 - ETA: 29s - loss: 0.58 - ETA: 29s - loss: 0.58 - ETA: 29s - loss: 0.58 - ETA: 28s - loss: 0.58 - ETA: 28s - loss: 0.58 - ETA: 28s - loss: 0.58 - ETA: 28s - loss: 0.58 - ETA: 28s - loss: 0.58 - ETA: 27s - loss: 0.58 - ETA: 27s - loss: 0.58 - ETA: 27s - loss: 0.58 - ETA: 27s - loss: 0.58 - ETA: 26s - loss: 0.58 - ETA: 26s - loss: 0.58 - ETA: 26s - loss: 0.58 - ETA: 26s - loss: 0.58 - ETA: 25s - loss: 0.58 - ETA: 25s - loss: 0.58 - ETA: 25s - loss: 0.58 - ETA: 25s - loss: 0.58 - ETA: 24s - loss: 0.58 - ETA: 24s - loss: 0.58 - ETA: 24s - loss: 0.58 - ETA: 24s - loss: 0.58 - ETA: 23s - loss: 0.58 - ETA: 23s - loss: 0.58 - ETA: 23s - loss: 0.58 - ETA: 23s - loss: 0.58 - ETA: 22s - loss: 0.58 - ETA: 22s - loss: 0.58 - ETA: 22s - loss: 0.58 - ETA: 21s - loss: 0.58 - ETA: 21s - loss: 0.58 - ETA: 21s - loss: 0.58 - ETA: 21s - loss: 0.58 - ETA: 20s - loss: 0.58 - ETA: 20s - loss: 0.58 - ETA: 20s - loss: 0.58 - ETA: 20s - loss: 0.58 - ETA: 19s - loss: 0.58 - ETA: 19s - loss: 0.58 - ETA: 19s - loss: 0.58 - ETA: 19s - loss: 0.58 - ETA: 18s - loss: 0.58 - ETA: 18s - loss: 0.58 - ETA: 18s - loss: 0.58 - ETA: 18s - loss: 0.58 - ETA: 17s - loss: 0.58 - ETA: 17s - loss: 0.58 - ETA: 17s - loss: 0.58 - ETA: 17s - loss: 0.58 - ETA: 16s - loss: 0.58 - ETA: 16s - loss: 0.58 - ETA: 16s - loss: 0.58 - ETA: 15s - loss: 0.58 - ETA: 15s - loss: 0.58 - ETA: 15s - loss: 0.58 - ETA: 15s - loss: 0.58 - ETA: 14s - loss: 0.58 - ETA: 14s - loss: 0.58 - ETA: 14s - loss: 0.58 - ETA: 14s - loss: 0.58 - ETA: 13s - loss: 0.58 - ETA: 13s - loss: 0.58 - ETA: 13s - loss: 0.58 - ETA: 13s - loss: 0.58 - ETA: 12s - loss: 0.58 - ETA: 12s - loss: 0.58 - ETA: 12s - loss: 0.58 - ETA: 12s - loss: 0.58 - ETA: 11s - loss: 0.58 - ETA: 11s - loss: 0.58 - ETA: 11s - loss: 0.58 - ETA: 11s - loss: 0.58 - ETA: 10s - loss: 0.58 - ETA: 10s - loss: 0.58 - ETA: 10s - loss: 0.58 - ETA: 9s - loss: 0.5835 - ETA: 9s - loss: 0.583 - ETA: 9s - loss: 0.583 - ETA: 9s - loss: 0.583 - ETA: 8s - loss: 0.583 - ETA: 8s - loss: 0.583 - ETA: 8s - loss: 0.583 - ETA: 8s - loss: 0.583 - ETA: 7s - loss: 0.583 - ETA: 7s - loss: 0.583 - ETA: 7s - loss: 0.583 - ETA: 7s - loss: 0.583 - ETA: 6s - loss: 0.583 - ETA: 6s - loss: 0.583 - ETA: 6s - loss: 0.583 - ETA: 6s - loss: 0.583 - ETA: 5s - loss: 0.583 - ETA: 5s - loss: 0.583 - ETA: 5s - loss: 0.583 - ETA: 5s - loss: 0.583 - ETA: 4s - loss: 0.583 - ETA: 4s - loss: 0.583 - ETA: 4s - loss: 0.583 - ETA: 3s - loss: 0.583 - ETA: 3s - loss: 0.583 - ETA: 3s - loss: 0.583 - ETA: 3s - loss: 0.583 - ETA: 2s - loss: 0.583 - ETA: 2s - loss: 0.583 - ETA: 2s - loss: 0.583 - ETA: 2s - loss: 0.583 - ETA: 1s - loss: 0.583 - ETA: 1s - loss: 0.583 - ETA: 1s - loss: 0.583 - ETA: 1s - loss: 0.583 - ETA: 0s - loss: 0.583 - ETA: 0s - loss: 0.583 - ETA: 0s - loss: 0.583 - ETA: 0s - loss: 0.583 - 88s 4ms/step - loss: 0.5833 - val_loss: 0.5822\n",
      "Epoch 9/10\n"
     ]
    },
    {
     "name": "stdout",
     "output_type": "stream",
     "text": [
      "19906/19906 [==============================] - ETA: 1:27 - loss: 0.581 - ETA: 1:33 - loss: 0.581 - ETA: 1:30 - loss: 0.583 - ETA: 1:35 - loss: 0.580 - ETA: 1:31 - loss: 0.582 - ETA: 1:29 - loss: 0.582 - ETA: 1:29 - loss: 0.582 - ETA: 1:27 - loss: 0.582 - ETA: 1:26 - loss: 0.581 - ETA: 1:25 - loss: 0.582 - ETA: 1:24 - loss: 0.584 - ETA: 1:23 - loss: 0.584 - ETA: 1:22 - loss: 0.584 - ETA: 1:22 - loss: 0.583 - ETA: 1:21 - loss: 0.583 - ETA: 1:20 - loss: 0.583 - ETA: 1:20 - loss: 0.583 - ETA: 1:20 - loss: 0.582 - ETA: 1:19 - loss: 0.582 - ETA: 1:19 - loss: 0.582 - ETA: 1:18 - loss: 0.582 - ETA: 1:18 - loss: 0.582 - ETA: 1:17 - loss: 0.582 - ETA: 1:17 - loss: 0.582 - ETA: 1:16 - loss: 0.581 - ETA: 1:16 - loss: 0.581 - ETA: 1:16 - loss: 0.582 - ETA: 1:15 - loss: 0.581 - ETA: 1:15 - loss: 0.582 - ETA: 1:15 - loss: 0.582 - ETA: 1:14 - loss: 0.583 - ETA: 1:14 - loss: 0.583 - ETA: 1:13 - loss: 0.583 - ETA: 1:13 - loss: 0.583 - ETA: 1:13 - loss: 0.583 - ETA: 1:12 - loss: 0.583 - ETA: 1:12 - loss: 0.583 - ETA: 1:12 - loss: 0.583 - ETA: 1:11 - loss: 0.583 - ETA: 1:11 - loss: 0.583 - ETA: 1:11 - loss: 0.583 - ETA: 1:11 - loss: 0.583 - ETA: 1:11 - loss: 0.583 - ETA: 1:10 - loss: 0.583 - ETA: 1:10 - loss: 0.583 - ETA: 1:10 - loss: 0.583 - ETA: 1:10 - loss: 0.583 - ETA: 1:10 - loss: 0.583 - ETA: 1:10 - loss: 0.583 - ETA: 1:10 - loss: 0.583 - ETA: 1:10 - loss: 0.583 - ETA: 1:10 - loss: 0.583 - ETA: 1:10 - loss: 0.583 - ETA: 1:10 - loss: 0.583 - ETA: 1:10 - loss: 0.584 - ETA: 1:10 - loss: 0.584 - ETA: 1:09 - loss: 0.584 - ETA: 1:09 - loss: 0.584 - ETA: 1:09 - loss: 0.584 - ETA: 1:09 - loss: 0.584 - ETA: 1:09 - loss: 0.584 - ETA: 1:08 - loss: 0.584 - ETA: 1:08 - loss: 0.584 - ETA: 1:08 - loss: 0.584 - ETA: 1:07 - loss: 0.584 - ETA: 1:07 - loss: 0.584 - ETA: 1:07 - loss: 0.584 - ETA: 1:06 - loss: 0.584 - ETA: 1:06 - loss: 0.584 - ETA: 1:06 - loss: 0.584 - ETA: 1:05 - loss: 0.584 - ETA: 1:05 - loss: 0.584 - ETA: 1:05 - loss: 0.584 - ETA: 1:04 - loss: 0.584 - ETA: 1:04 - loss: 0.584 - ETA: 1:04 - loss: 0.584 - ETA: 1:03 - loss: 0.584 - ETA: 1:03 - loss: 0.584 - ETA: 1:03 - loss: 0.584 - ETA: 1:02 - loss: 0.584 - ETA: 1:02 - loss: 0.584 - ETA: 1:02 - loss: 0.584 - ETA: 1:01 - loss: 0.584 - ETA: 1:01 - loss: 0.584 - ETA: 1:01 - loss: 0.584 - ETA: 1:00 - loss: 0.583 - ETA: 1:00 - loss: 0.583 - ETA: 1:00 - loss: 0.583 - ETA: 1:00 - loss: 0.583 - ETA: 59s - loss: 0.583 - ETA: 59s - loss: 0.58 - ETA: 59s - loss: 0.58 - ETA: 58s - loss: 0.58 - ETA: 58s - loss: 0.58 - ETA: 58s - loss: 0.58 - ETA: 57s - loss: 0.58 - ETA: 57s - loss: 0.58 - ETA: 57s - loss: 0.58 - ETA: 56s - loss: 0.58 - ETA: 56s - loss: 0.58 - ETA: 56s - loss: 0.58 - ETA: 56s - loss: 0.58 - ETA: 55s - loss: 0.58 - ETA: 55s - loss: 0.58 - ETA: 55s - loss: 0.58 - ETA: 54s - loss: 0.58 - ETA: 54s - loss: 0.58 - ETA: 54s - loss: 0.58 - ETA: 53s - loss: 0.58 - ETA: 53s - loss: 0.58 - ETA: 53s - loss: 0.58 - ETA: 53s - loss: 0.58 - ETA: 52s - loss: 0.58 - ETA: 52s - loss: 0.58 - ETA: 52s - loss: 0.58 - ETA: 52s - loss: 0.58 - ETA: 51s - loss: 0.58 - ETA: 51s - loss: 0.58 - ETA: 51s - loss: 0.58 - ETA: 50s - loss: 0.58 - ETA: 50s - loss: 0.58 - ETA: 50s - loss: 0.58 - ETA: 49s - loss: 0.58 - ETA: 49s - loss: 0.58 - ETA: 49s - loss: 0.58 - ETA: 49s - loss: 0.58 - ETA: 48s - loss: 0.58 - ETA: 48s - loss: 0.58 - ETA: 48s - loss: 0.58 - ETA: 47s - loss: 0.58 - ETA: 47s - loss: 0.58 - ETA: 47s - loss: 0.58 - ETA: 47s - loss: 0.58 - ETA: 46s - loss: 0.58 - ETA: 46s - loss: 0.58 - ETA: 46s - loss: 0.58 - ETA: 46s - loss: 0.58 - ETA: 45s - loss: 0.58 - ETA: 45s - loss: 0.58 - ETA: 45s - loss: 0.58 - ETA: 44s - loss: 0.58 - ETA: 44s - loss: 0.58 - ETA: 44s - loss: 0.58 - ETA: 44s - loss: 0.58 - ETA: 43s - loss: 0.58 - ETA: 43s - loss: 0.58 - ETA: 43s - loss: 0.58 - ETA: 42s - loss: 0.58 - ETA: 42s - loss: 0.58 - ETA: 42s - loss: 0.58 - ETA: 42s - loss: 0.58 - ETA: 41s - loss: 0.58 - ETA: 41s - loss: 0.58 - ETA: 41s - loss: 0.58 - ETA: 41s - loss: 0.58 - ETA: 40s - loss: 0.58 - ETA: 40s - loss: 0.58 - ETA: 40s - loss: 0.58 - ETA: 39s - loss: 0.58 - ETA: 39s - loss: 0.58 - ETA: 39s - loss: 0.58 - ETA: 39s - loss: 0.58 - ETA: 38s - loss: 0.58 - ETA: 38s - loss: 0.58 - ETA: 38s - loss: 0.58 - ETA: 38s - loss: 0.58 - ETA: 37s - loss: 0.58 - ETA: 37s - loss: 0.58 - ETA: 37s - loss: 0.58 - ETA: 36s - loss: 0.58 - ETA: 36s - loss: 0.58 - ETA: 36s - loss: 0.58 - ETA: 36s - loss: 0.58 - ETA: 35s - loss: 0.58 - ETA: 35s - loss: 0.58 - ETA: 35s - loss: 0.58 - ETA: 35s - loss: 0.58 - ETA: 34s - loss: 0.58 - ETA: 34s - loss: 0.58 - ETA: 34s - loss: 0.58 - ETA: 34s - loss: 0.58 - ETA: 33s - loss: 0.58 - ETA: 33s - loss: 0.58 - ETA: 33s - loss: 0.58 - ETA: 32s - loss: 0.58 - ETA: 32s - loss: 0.58 - ETA: 32s - loss: 0.58 - ETA: 32s - loss: 0.58 - ETA: 31s - loss: 0.58 - ETA: 31s - loss: 0.58 - ETA: 31s - loss: 0.58 - ETA: 31s - loss: 0.58 - ETA: 30s - loss: 0.58 - ETA: 30s - loss: 0.58 - ETA: 30s - loss: 0.58 - ETA: 30s - loss: 0.58 - ETA: 29s - loss: 0.58 - ETA: 29s - loss: 0.58 - ETA: 29s - loss: 0.58 - ETA: 28s - loss: 0.58 - ETA: 28s - loss: 0.58 - ETA: 28s - loss: 0.58 - ETA: 28s - loss: 0.58 - ETA: 27s - loss: 0.58 - ETA: 27s - loss: 0.58 - ETA: 27s - loss: 0.58 - ETA: 27s - loss: 0.58 - ETA: 26s - loss: 0.58 - ETA: 26s - loss: 0.58 - ETA: 26s - loss: 0.58 - ETA: 26s - loss: 0.58 - ETA: 25s - loss: 0.58 - ETA: 25s - loss: 0.58 - ETA: 25s - loss: 0.58 - ETA: 25s - loss: 0.58 - ETA: 24s - loss: 0.58 - ETA: 24s - loss: 0.58 - ETA: 24s - loss: 0.58 - ETA: 23s - loss: 0.58 - ETA: 23s - loss: 0.58 - ETA: 23s - loss: 0.58 - ETA: 23s - loss: 0.58 - ETA: 22s - loss: 0.58 - ETA: 22s - loss: 0.58 - ETA: 22s - loss: 0.58 - ETA: 22s - loss: 0.58 - ETA: 21s - loss: 0.58 - ETA: 21s - loss: 0.58 - ETA: 21s - loss: 0.58 - ETA: 21s - loss: 0.58 - ETA: 20s - loss: 0.58 - ETA: 20s - loss: 0.58 - ETA: 20s - loss: 0.58 - ETA: 20s - loss: 0.58 - ETA: 19s - loss: 0.58 - ETA: 19s - loss: 0.58 - ETA: 19s - loss: 0.58 - ETA: 18s - loss: 0.58 - ETA: 18s - loss: 0.58 - ETA: 18s - loss: 0.58 - ETA: 18s - loss: 0.58 - ETA: 17s - loss: 0.58 - ETA: 17s - loss: 0.58 - ETA: 17s - loss: 0.58 - ETA: 17s - loss: 0.58 - ETA: 16s - loss: 0.58 - ETA: 16s - loss: 0.58 - ETA: 16s - loss: 0.58 - ETA: 16s - loss: 0.58 - ETA: 15s - loss: 0.58 - ETA: 15s - loss: 0.58 - ETA: 15s - loss: 0.58 - ETA: 15s - loss: 0.58 - ETA: 14s - loss: 0.58 - ETA: 14s - loss: 0.58 - ETA: 14s - loss: 0.58 - ETA: 14s - loss: 0.58 - ETA: 13s - loss: 0.58 - ETA: 13s - loss: 0.58 - ETA: 13s - loss: 0.58 - ETA: 12s - loss: 0.58 - ETA: 12s - loss: 0.58 - ETA: 12s - loss: 0.58 - ETA: 12s - loss: 0.58 - ETA: 11s - loss: 0.58 - ETA: 11s - loss: 0.58 - ETA: 11s - loss: 0.58 - ETA: 11s - loss: 0.58 - ETA: 10s - loss: 0.58 - ETA: 10s - loss: 0.58 - ETA: 10s - loss: 0.58 - ETA: 10s - loss: 0.58 - ETA: 9s - loss: 0.5834 - ETA: 9s - loss: 0.583 - ETA: 9s - loss: 0.583 - ETA: 9s - loss: 0.583 - ETA: 8s - loss: 0.583 - ETA: 8s - loss: 0.583 - ETA: 8s - loss: 0.583 - ETA: 8s - loss: 0.583 - ETA: 7s - loss: 0.583 - ETA: 7s - loss: 0.583 - ETA: 7s - loss: 0.583 - ETA: 6s - loss: 0.583 - ETA: 6s - loss: 0.583 - ETA: 6s - loss: 0.583 - ETA: 6s - loss: 0.583 - ETA: 5s - loss: 0.583 - ETA: 5s - loss: 0.583 - ETA: 5s - loss: 0.583 - ETA: 5s - loss: 0.583 - ETA: 4s - loss: 0.583 - ETA: 4s - loss: 0.583 - ETA: 4s - loss: 0.583 - ETA: 4s - loss: 0.583 - ETA: 3s - loss: 0.583 - ETA: 3s - loss: 0.583 - ETA: 3s - loss: 0.583 - ETA: 3s - loss: 0.583 - ETA: 2s - loss: 0.583 - ETA: 2s - loss: 0.583 - ETA: 2s - loss: 0.583 - ETA: 2s - loss: 0.583 - ETA: 1s - loss: 0.583 - ETA: 1s - loss: 0.583 - ETA: 1s - loss: 0.583 - ETA: 1s - loss: 0.583 - ETA: 0s - loss: 0.583 - ETA: 0s - loss: 0.583 - ETA: 0s - loss: 0.583 - ETA: 0s - loss: 0.583 - 85s 4ms/step - loss: 0.5833 - val_loss: 0.5840\n",
      "Epoch 10/10\n",
      "19906/19906 [==============================] - ETA: 1:24 - loss: 0.589 - ETA: 1:20 - loss: 0.583 - ETA: 1:20 - loss: 0.582 - ETA: 1:19 - loss: 0.582 - ETA: 1:18 - loss: 0.583 - ETA: 1:18 - loss: 0.583 - ETA: 1:18 - loss: 0.581 - ETA: 1:17 - loss: 0.582 - ETA: 1:17 - loss: 0.581 - ETA: 1:17 - loss: 0.580 - ETA: 1:16 - loss: 0.580 - ETA: 1:16 - loss: 0.581 - ETA: 1:16 - loss: 0.581 - ETA: 1:15 - loss: 0.580 - ETA: 1:15 - loss: 0.581 - ETA: 1:15 - loss: 0.580 - ETA: 1:14 - loss: 0.581 - ETA: 1:14 - loss: 0.581 - ETA: 1:14 - loss: 0.581 - ETA: 1:14 - loss: 0.581 - ETA: 1:13 - loss: 0.581 - ETA: 1:13 - loss: 0.580 - ETA: 1:13 - loss: 0.580 - ETA: 1:12 - loss: 0.580 - ETA: 1:12 - loss: 0.581 - ETA: 1:12 - loss: 0.581 - ETA: 1:11 - loss: 0.581 - ETA: 1:11 - loss: 0.581 - ETA: 1:11 - loss: 0.581 - ETA: 1:10 - loss: 0.580 - ETA: 1:10 - loss: 0.580 - ETA: 1:10 - loss: 0.580 - ETA: 1:10 - loss: 0.580 - ETA: 1:09 - loss: 0.581 - ETA: 1:09 - loss: 0.580 - ETA: 1:09 - loss: 0.580 - ETA: 1:09 - loss: 0.580 - ETA: 1:08 - loss: 0.580 - ETA: 1:08 - loss: 0.580 - ETA: 1:08 - loss: 0.580 - ETA: 1:07 - loss: 0.580 - ETA: 1:07 - loss: 0.581 - ETA: 1:07 - loss: 0.581 - ETA: 1:07 - loss: 0.581 - ETA: 1:06 - loss: 0.581 - ETA: 1:06 - loss: 0.581 - ETA: 1:06 - loss: 0.581 - ETA: 1:05 - loss: 0.581 - ETA: 1:05 - loss: 0.581 - ETA: 1:05 - loss: 0.581 - ETA: 1:05 - loss: 0.581 - ETA: 1:04 - loss: 0.581 - ETA: 1:04 - loss: 0.581 - ETA: 1:04 - loss: 0.581 - ETA: 1:04 - loss: 0.581 - ETA: 1:03 - loss: 0.581 - ETA: 1:03 - loss: 0.581 - ETA: 1:03 - loss: 0.581 - ETA: 1:03 - loss: 0.581 - ETA: 1:02 - loss: 0.581 - ETA: 1:02 - loss: 0.582 - ETA: 1:02 - loss: 0.582 - ETA: 1:02 - loss: 0.582 - ETA: 1:01 - loss: 0.582 - ETA: 1:01 - loss: 0.582 - ETA: 1:01 - loss: 0.582 - ETA: 1:01 - loss: 0.582 - ETA: 1:00 - loss: 0.581 - ETA: 1:00 - loss: 0.581 - ETA: 59s - loss: 0.581 - ETA: 59s - loss: 0.58 - ETA: 59s - loss: 0.58 - ETA: 58s - loss: 0.58 - ETA: 58s - loss: 0.58 - ETA: 58s - loss: 0.58 - ETA: 57s - loss: 0.58 - ETA: 57s - loss: 0.58 - ETA: 57s - loss: 0.58 - ETA: 56s - loss: 0.58 - ETA: 56s - loss: 0.58 - ETA: 55s - loss: 0.58 - ETA: 55s - loss: 0.58 - ETA: 55s - loss: 0.58 - ETA: 54s - loss: 0.58 - ETA: 54s - loss: 0.58 - ETA: 54s - loss: 0.58 - ETA: 53s - loss: 0.58 - ETA: 53s - loss: 0.58 - ETA: 53s - loss: 0.58 - ETA: 52s - loss: 0.58 - ETA: 52s - loss: 0.58 - ETA: 52s - loss: 0.58 - ETA: 52s - loss: 0.58 - ETA: 51s - loss: 0.58 - ETA: 51s - loss: 0.58 - ETA: 51s - loss: 0.58 - ETA: 50s - loss: 0.58 - ETA: 50s - loss: 0.58 - ETA: 50s - loss: 0.58 - ETA: 49s - loss: 0.58 - ETA: 49s - loss: 0.58 - ETA: 49s - loss: 0.58 - ETA: 49s - loss: 0.58 - ETA: 48s - loss: 0.58 - ETA: 48s - loss: 0.58 - ETA: 48s - loss: 0.58 - ETA: 47s - loss: 0.58 - ETA: 47s - loss: 0.58 - ETA: 47s - loss: 0.58 - ETA: 47s - loss: 0.58 - ETA: 46s - loss: 0.58 - ETA: 46s - loss: 0.58 - ETA: 46s - loss: 0.58 - ETA: 45s - loss: 0.58 - ETA: 45s - loss: 0.58 - ETA: 45s - loss: 0.58 - ETA: 45s - loss: 0.58 - ETA: 44s - loss: 0.58 - ETA: 44s - loss: 0.58 - ETA: 44s - loss: 0.58 - ETA: 44s - loss: 0.58 - ETA: 44s - loss: 0.58 - ETA: 43s - loss: 0.58 - ETA: 43s - loss: 0.58 - ETA: 43s - loss: 0.58 - ETA: 43s - loss: 0.58 - ETA: 43s - loss: 0.58 - ETA: 42s - loss: 0.58 - ETA: 42s - loss: 0.58 - ETA: 42s - loss: 0.58 - ETA: 42s - loss: 0.58 - ETA: 41s - loss: 0.58 - ETA: 41s - loss: 0.58 - ETA: 41s - loss: 0.58 - ETA: 41s - loss: 0.58 - ETA: 41s - loss: 0.58 - ETA: 40s - loss: 0.58 - ETA: 40s - loss: 0.58 - ETA: 40s - loss: 0.58 - ETA: 40s - loss: 0.58 - ETA: 39s - loss: 0.58 - ETA: 39s - loss: 0.58 - ETA: 39s - loss: 0.58 - ETA: 39s - loss: 0.58 - ETA: 39s - loss: 0.58 - ETA: 38s - loss: 0.58 - ETA: 38s - loss: 0.58 - ETA: 38s - loss: 0.58 - ETA: 38s - loss: 0.58 - ETA: 38s - loss: 0.58 - ETA: 37s - loss: 0.58 - ETA: 37s - loss: 0.58 - ETA: 37s - loss: 0.58 - ETA: 37s - loss: 0.58 - ETA: 36s - loss: 0.58 - ETA: 36s - loss: 0.58 - ETA: 36s - loss: 0.58 - ETA: 36s - loss: 0.58 - ETA: 36s - loss: 0.58 - ETA: 35s - loss: 0.58 - ETA: 35s - loss: 0.58 - ETA: 35s - loss: 0.58 - ETA: 35s - loss: 0.58 - ETA: 34s - loss: 0.58 - ETA: 34s - loss: 0.58 - ETA: 34s - loss: 0.58 - ETA: 34s - loss: 0.58 - ETA: 34s - loss: 0.58 - ETA: 33s - loss: 0.58 - ETA: 33s - loss: 0.58 - ETA: 33s - loss: 0.58 - ETA: 33s - loss: 0.58 - ETA: 32s - loss: 0.58 - ETA: 32s - loss: 0.58 - ETA: 32s - loss: 0.58 - ETA: 32s - loss: 0.58 - ETA: 31s - loss: 0.58 - ETA: 31s - loss: 0.58 - ETA: 31s - loss: 0.58 - ETA: 31s - loss: 0.58 - ETA: 31s - loss: 0.58 - ETA: 30s - loss: 0.58 - ETA: 30s - loss: 0.58 - ETA: 30s - loss: 0.58 - ETA: 30s - loss: 0.58 - ETA: 29s - loss: 0.58 - ETA: 29s - loss: 0.58 - ETA: 29s - loss: 0.58 - ETA: 29s - loss: 0.58 - ETA: 28s - loss: 0.58 - ETA: 28s - loss: 0.58 - ETA: 28s - loss: 0.58 - ETA: 28s - loss: 0.58 - ETA: 28s - loss: 0.58 - ETA: 27s - loss: 0.58 - ETA: 27s - loss: 0.58 - ETA: 27s - loss: 0.58 - ETA: 27s - loss: 0.58 - ETA: 26s - loss: 0.58 - ETA: 26s - loss: 0.58 - ETA: 26s - loss: 0.58 - ETA: 26s - loss: 0.58 - ETA: 25s - loss: 0.58 - ETA: 25s - loss: 0.58 - ETA: 25s - loss: 0.58 - ETA: 25s - loss: 0.58 - ETA: 24s - loss: 0.58 - ETA: 24s - loss: 0.58 - ETA: 24s - loss: 0.58 - ETA: 24s - loss: 0.58 - ETA: 24s - loss: 0.58 - ETA: 23s - loss: 0.58 - ETA: 23s - loss: 0.58 - ETA: 23s - loss: 0.58 - ETA: 23s - loss: 0.58 - ETA: 22s - loss: 0.58 - ETA: 22s - loss: 0.58 - ETA: 22s - loss: 0.58 - ETA: 22s - loss: 0.58 - ETA: 21s - loss: 0.58 - ETA: 21s - loss: 0.58 - ETA: 21s - loss: 0.58 - ETA: 21s - loss: 0.58 - ETA: 20s - loss: 0.58 - ETA: 20s - loss: 0.58 - ETA: 20s - loss: 0.58 - ETA: 20s - loss: 0.58 - ETA: 19s - loss: 0.58 - ETA: 19s - loss: 0.58 - ETA: 19s - loss: 0.58 - ETA: 19s - loss: 0.58 - ETA: 18s - loss: 0.58 - ETA: 18s - loss: 0.58 - ETA: 18s - loss: 0.58 - ETA: 18s - loss: 0.58 - ETA: 17s - loss: 0.58 - ETA: 17s - loss: 0.58 - ETA: 17s - loss: 0.58 - ETA: 17s - loss: 0.58 - ETA: 16s - loss: 0.58 - ETA: 16s - loss: 0.58 - ETA: 16s - loss: 0.58 - ETA: 16s - loss: 0.58 - ETA: 15s - loss: 0.58 - ETA: 15s - loss: 0.58 - ETA: 15s - loss: 0.58 - ETA: 15s - loss: 0.58 - ETA: 15s - loss: 0.58 - ETA: 14s - loss: 0.58 - ETA: 14s - loss: 0.58 - ETA: 14s - loss: 0.58 - ETA: 14s - loss: 0.58 - ETA: 13s - loss: 0.58 - ETA: 13s - loss: 0.58 - ETA: 13s - loss: 0.58 - ETA: 13s - loss: 0.58 - ETA: 12s - loss: 0.58 - ETA: 12s - loss: 0.58 - ETA: 12s - loss: 0.58 - ETA: 12s - loss: 0.58 - ETA: 11s - loss: 0.58 - ETA: 11s - loss: 0.58 - ETA: 11s - loss: 0.58 - ETA: 11s - loss: 0.58 - ETA: 10s - loss: 0.58 - ETA: 10s - loss: 0.58 - ETA: 10s - loss: 0.58 - ETA: 10s - loss: 0.58 - ETA: 10s - loss: 0.58 - ETA: 9s - loss: 0.5831 - ETA: 9s - loss: 0.583 - ETA: 9s - loss: 0.583 - ETA: 9s - loss: 0.583 - ETA: 8s - loss: 0.583 - ETA: 8s - loss: 0.583 - ETA: 8s - loss: 0.583 - ETA: 8s - loss: 0.583 - ETA: 7s - loss: 0.583 - ETA: 7s - loss: 0.583 - ETA: 7s - loss: 0.583 - ETA: 7s - loss: 0.583 - ETA: 6s - loss: 0.583 - ETA: 6s - loss: 0.583 - ETA: 6s - loss: 0.583 - ETA: 6s - loss: 0.583 - ETA: 5s - loss: 0.583 - ETA: 5s - loss: 0.583 - ETA: 5s - loss: 0.583 - ETA: 5s - loss: 0.583 - ETA: 5s - loss: 0.583 - ETA: 4s - loss: 0.583 - ETA: 4s - loss: 0.583 - ETA: 4s - loss: 0.583 - ETA: 4s - loss: 0.583 - ETA: 3s - loss: 0.583 - ETA: 3s - loss: 0.583 - ETA: 3s - loss: 0.582 - ETA: 3s - loss: 0.583 - ETA: 2s - loss: 0.582 - ETA: 2s - loss: 0.582 - ETA: 2s - loss: 0.582 - ETA: 2s - loss: 0.582 - ETA: 1s - loss: 0.582 - ETA: 1s - loss: 0.582 - ETA: 1s - loss: 0.582 - ETA: 1s - loss: 0.582 - ETA: 0s - loss: 0.582 - ETA: 0s - loss: 0.582 - ETA: 0s - loss: 0.582 - ETA: 0s - loss: 0.582 - ETA: 0s - loss: 0.582 - 80s 4ms/step - loss: 0.5827 - val_loss: 0.5837\n"
     ]
    },
    {
     "data": {
      "text/plain": [
       "<keras.callbacks.callbacks.History at 0x23731410ac8>"
      ]
     },
     "execution_count": 137,
     "metadata": {},
     "output_type": "execute_result"
    }
   ],
   "source": [
    "#auto encoder with 64 as batch size\n",
    "autoencoder.fit(X_train, X_train,\n",
    "                epochs= 10,\n",
    "                batch_size= 64,\n",
    "                shuffle= True,\n",
    "                validation_data= (X_test, X_test))\n",
    "                #callbacks=[TensorBoard(log_dir='/tmp/autoencoder')])"
   ]
  },
  {
   "cell_type": "code",
   "execution_count": 138,
   "metadata": {},
   "outputs": [
    {
     "name": "stdout",
     "output_type": "stream",
     "text": [
      "Train on 19906 samples, validate on 6636 samples\n",
      "Epoch 1/3\n",
      "19906/19906 [==============================] - ETA: 1:11 - loss: 0.588 - ETA: 1:09 - loss: 0.589 - ETA: 1:08 - loss: 0.588 - ETA: 1:07 - loss: 0.588 - ETA: 1:09 - loss: 0.585 - ETA: 1:07 - loss: 0.586 - ETA: 1:06 - loss: 0.585 - ETA: 1:04 - loss: 0.585 - ETA: 1:04 - loss: 0.582 - ETA: 1:02 - loss: 0.583 - ETA: 1:02 - loss: 0.583 - ETA: 1:01 - loss: 0.583 - ETA: 1:00 - loss: 0.582 - ETA: 59s - loss: 0.582 - ETA: 59s - loss: 0.58 - ETA: 58s - loss: 0.58 - ETA: 58s - loss: 0.58 - ETA: 57s - loss: 0.58 - ETA: 57s - loss: 0.58 - ETA: 56s - loss: 0.58 - ETA: 56s - loss: 0.58 - ETA: 55s - loss: 0.58 - ETA: 55s - loss: 0.58 - ETA: 54s - loss: 0.58 - ETA: 54s - loss: 0.58 - ETA: 53s - loss: 0.58 - ETA: 53s - loss: 0.58 - ETA: 52s - loss: 0.58 - ETA: 52s - loss: 0.58 - ETA: 51s - loss: 0.58 - ETA: 51s - loss: 0.58 - ETA: 50s - loss: 0.58 - ETA: 50s - loss: 0.58 - ETA: 50s - loss: 0.58 - ETA: 49s - loss: 0.58 - ETA: 49s - loss: 0.58 - ETA: 48s - loss: 0.58 - ETA: 48s - loss: 0.58 - ETA: 47s - loss: 0.58 - ETA: 47s - loss: 0.58 - ETA: 47s - loss: 0.58 - ETA: 46s - loss: 0.58 - ETA: 46s - loss: 0.58 - ETA: 45s - loss: 0.58 - ETA: 45s - loss: 0.58 - ETA: 44s - loss: 0.58 - ETA: 44s - loss: 0.58 - ETA: 44s - loss: 0.58 - ETA: 43s - loss: 0.58 - ETA: 43s - loss: 0.58 - ETA: 42s - loss: 0.58 - ETA: 42s - loss: 0.58 - ETA: 42s - loss: 0.58 - ETA: 41s - loss: 0.58 - ETA: 41s - loss: 0.58 - ETA: 40s - loss: 0.58 - ETA: 40s - loss: 0.58 - ETA: 39s - loss: 0.58 - ETA: 39s - loss: 0.58 - ETA: 39s - loss: 0.58 - ETA: 38s - loss: 0.58 - ETA: 38s - loss: 0.58 - ETA: 37s - loss: 0.58 - ETA: 37s - loss: 0.58 - ETA: 37s - loss: 0.58 - ETA: 36s - loss: 0.58 - ETA: 36s - loss: 0.58 - ETA: 35s - loss: 0.58 - ETA: 35s - loss: 0.58 - ETA: 34s - loss: 0.58 - ETA: 34s - loss: 0.58 - ETA: 34s - loss: 0.58 - ETA: 33s - loss: 0.58 - ETA: 33s - loss: 0.58 - ETA: 32s - loss: 0.58 - ETA: 32s - loss: 0.58 - ETA: 32s - loss: 0.58 - ETA: 31s - loss: 0.58 - ETA: 31s - loss: 0.58 - ETA: 30s - loss: 0.58 - ETA: 30s - loss: 0.58 - ETA: 30s - loss: 0.58 - ETA: 29s - loss: 0.58 - ETA: 29s - loss: 0.58 - ETA: 28s - loss: 0.58 - ETA: 28s - loss: 0.58 - ETA: 28s - loss: 0.58 - ETA: 27s - loss: 0.58 - ETA: 27s - loss: 0.58 - ETA: 26s - loss: 0.58 - ETA: 26s - loss: 0.58 - ETA: 25s - loss: 0.58 - ETA: 25s - loss: 0.58 - ETA: 25s - loss: 0.58 - ETA: 24s - loss: 0.58 - ETA: 24s - loss: 0.58 - ETA: 23s - loss: 0.58 - ETA: 23s - loss: 0.58 - ETA: 23s - loss: 0.58 - ETA: 22s - loss: 0.58 - ETA: 22s - loss: 0.58 - ETA: 21s - loss: 0.58 - ETA: 21s - loss: 0.58 - ETA: 21s - loss: 0.58 - ETA: 20s - loss: 0.58 - ETA: 20s - loss: 0.58 - ETA: 19s - loss: 0.58 - ETA: 19s - loss: 0.58 - ETA: 18s - loss: 0.58 - ETA: 18s - loss: 0.58 - ETA: 18s - loss: 0.58 - ETA: 17s - loss: 0.58 - ETA: 17s - loss: 0.58 - ETA: 16s - loss: 0.58 - ETA: 16s - loss: 0.58 - ETA: 16s - loss: 0.58 - ETA: 15s - loss: 0.58 - ETA: 15s - loss: 0.58 - ETA: 14s - loss: 0.58 - ETA: 14s - loss: 0.58 - ETA: 14s - loss: 0.58 - ETA: 13s - loss: 0.58 - ETA: 13s - loss: 0.58 - ETA: 12s - loss: 0.58 - ETA: 12s - loss: 0.58 - ETA: 12s - loss: 0.58 - ETA: 11s - loss: 0.58 - ETA: 11s - loss: 0.58 - ETA: 10s - loss: 0.58 - ETA: 10s - loss: 0.58 - ETA: 9s - loss: 0.5822 - ETA: 9s - loss: 0.582 - ETA: 9s - loss: 0.582 - ETA: 8s - loss: 0.582 - ETA: 8s - loss: 0.582 - ETA: 7s - loss: 0.582 - ETA: 7s - loss: 0.582 - ETA: 7s - loss: 0.582 - ETA: 6s - loss: 0.582 - ETA: 6s - loss: 0.582 - ETA: 5s - loss: 0.582 - ETA: 5s - loss: 0.582 - ETA: 5s - loss: 0.582 - ETA: 4s - loss: 0.582 - ETA: 4s - loss: 0.582 - ETA: 3s - loss: 0.582 - ETA: 3s - loss: 0.582 - ETA: 3s - loss: 0.582 - ETA: 2s - loss: 0.582 - ETA: 2s - loss: 0.582 - ETA: 1s - loss: 0.582 - ETA: 1s - loss: 0.582 - ETA: 1s - loss: 0.582 - ETA: 0s - loss: 0.582 - ETA: 0s - loss: 0.582 - 68s 3ms/step - loss: 0.5823 - val_loss: 0.5809\n",
      "Epoch 2/3\n",
      "19906/19906 [==============================] - ETA: 1:12 - loss: 0.581 - ETA: 1:13 - loss: 0.584 - ETA: 1:12 - loss: 0.583 - ETA: 1:11 - loss: 0.583 - ETA: 1:09 - loss: 0.583 - ETA: 1:07 - loss: 0.582 - ETA: 1:05 - loss: 0.582 - ETA: 1:04 - loss: 0.581 - ETA: 1:03 - loss: 0.583 - ETA: 1:02 - loss: 0.583 - ETA: 1:02 - loss: 0.583 - ETA: 1:01 - loss: 0.583 - ETA: 1:00 - loss: 0.583 - ETA: 59s - loss: 0.583 - ETA: 59s - loss: 0.58 - ETA: 58s - loss: 0.58 - ETA: 58s - loss: 0.58 - ETA: 57s - loss: 0.58 - ETA: 56s - loss: 0.58 - ETA: 56s - loss: 0.58 - ETA: 56s - loss: 0.58 - ETA: 55s - loss: 0.58 - ETA: 54s - loss: 0.58 - ETA: 54s - loss: 0.58 - ETA: 54s - loss: 0.58 - ETA: 53s - loss: 0.58 - ETA: 53s - loss: 0.58 - ETA: 52s - loss: 0.58 - ETA: 52s - loss: 0.58 - ETA: 51s - loss: 0.58 - ETA: 51s - loss: 0.58 - ETA: 50s - loss: 0.58 - ETA: 50s - loss: 0.58 - ETA: 49s - loss: 0.58 - ETA: 49s - loss: 0.58 - ETA: 49s - loss: 0.58 - ETA: 48s - loss: 0.58 - ETA: 48s - loss: 0.58 - ETA: 48s - loss: 0.58 - ETA: 47s - loss: 0.58 - ETA: 47s - loss: 0.58 - ETA: 47s - loss: 0.58 - ETA: 47s - loss: 0.58 - ETA: 46s - loss: 0.58 - ETA: 46s - loss: 0.58 - ETA: 46s - loss: 0.58 - ETA: 45s - loss: 0.58 - ETA: 45s - loss: 0.58 - ETA: 45s - loss: 0.58 - ETA: 45s - loss: 0.58 - ETA: 44s - loss: 0.58 - ETA: 44s - loss: 0.58 - ETA: 44s - loss: 0.58 - ETA: 43s - loss: 0.58 - ETA: 43s - loss: 0.58 - ETA: 42s - loss: 0.58 - ETA: 42s - loss: 0.58 - ETA: 42s - loss: 0.58 - ETA: 41s - loss: 0.58 - ETA: 41s - loss: 0.58 - ETA: 41s - loss: 0.58 - ETA: 40s - loss: 0.58 - ETA: 40s - loss: 0.58 - ETA: 39s - loss: 0.58 - ETA: 39s - loss: 0.58 - ETA: 38s - loss: 0.58 - ETA: 38s - loss: 0.58 - ETA: 38s - loss: 0.58 - ETA: 37s - loss: 0.58 - ETA: 37s - loss: 0.58 - ETA: 36s - loss: 0.58 - ETA: 36s - loss: 0.58 - ETA: 35s - loss: 0.58 - ETA: 35s - loss: 0.58 - ETA: 34s - loss: 0.58 - ETA: 34s - loss: 0.58 - ETA: 33s - loss: 0.58 - ETA: 33s - loss: 0.58 - ETA: 32s - loss: 0.58 - ETA: 32s - loss: 0.58 - ETA: 32s - loss: 0.58 - ETA: 31s - loss: 0.58 - ETA: 31s - loss: 0.58 - ETA: 30s - loss: 0.58 - ETA: 30s - loss: 0.58 - ETA: 29s - loss: 0.58 - ETA: 29s - loss: 0.58 - ETA: 28s - loss: 0.58 - ETA: 28s - loss: 0.58 - ETA: 28s - loss: 0.58 - ETA: 27s - loss: 0.58 - ETA: 27s - loss: 0.58 - ETA: 26s - loss: 0.58 - ETA: 26s - loss: 0.58 - ETA: 26s - loss: 0.58 - ETA: 25s - loss: 0.58 - ETA: 25s - loss: 0.58 - ETA: 24s - loss: 0.58 - ETA: 24s - loss: 0.58 - ETA: 23s - loss: 0.58 - ETA: 23s - loss: 0.58 - ETA: 23s - loss: 0.58 - ETA: 22s - loss: 0.58 - ETA: 22s - loss: 0.58 - ETA: 21s - loss: 0.58 - ETA: 21s - loss: 0.58 - ETA: 20s - loss: 0.58 - ETA: 20s - loss: 0.58 - ETA: 19s - loss: 0.58 - ETA: 19s - loss: 0.58 - ETA: 19s - loss: 0.58 - ETA: 18s - loss: 0.58 - ETA: 18s - loss: 0.58 - ETA: 17s - loss: 0.58 - ETA: 17s - loss: 0.58 - ETA: 16s - loss: 0.58 - ETA: 16s - loss: 0.58 - ETA: 16s - loss: 0.58 - ETA: 15s - loss: 0.58 - ETA: 15s - loss: 0.58 - ETA: 14s - loss: 0.58 - ETA: 14s - loss: 0.58 - ETA: 14s - loss: 0.58 - ETA: 13s - loss: 0.58 - ETA: 13s - loss: 0.58 - ETA: 12s - loss: 0.58 - ETA: 12s - loss: 0.58 - ETA: 11s - loss: 0.58 - ETA: 11s - loss: 0.58 - ETA: 11s - loss: 0.58 - ETA: 10s - loss: 0.58 - ETA: 10s - loss: 0.58 - ETA: 9s - loss: 0.5819 - ETA: 9s - loss: 0.581 - ETA: 8s - loss: 0.582 - ETA: 8s - loss: 0.582 - ETA: 8s - loss: 0.582 - ETA: 7s - loss: 0.582 - ETA: 7s - loss: 0.582 - ETA: 6s - loss: 0.582 - ETA: 6s - loss: 0.582 - ETA: 5s - loss: 0.582 - ETA: 5s - loss: 0.582 - ETA: 5s - loss: 0.582 - ETA: 4s - loss: 0.582 - ETA: 4s - loss: 0.582 - ETA: 3s - loss: 0.582 - ETA: 3s - loss: 0.582 - ETA: 2s - loss: 0.582 - ETA: 2s - loss: 0.582 - ETA: 2s - loss: 0.582 - ETA: 1s - loss: 0.582 - ETA: 1s - loss: 0.582 - ETA: 0s - loss: 0.582 - ETA: 0s - loss: 0.582 - 74s 4ms/step - loss: 0.5822 - val_loss: 0.5799\n",
      "Epoch 3/3\n",
      "19906/19906 [==============================] - ETA: 1:15 - loss: 0.579 - ETA: 1:13 - loss: 0.575 - ETA: 1:13 - loss: 0.578 - ETA: 1:13 - loss: 0.577 - ETA: 1:11 - loss: 0.579 - ETA: 1:10 - loss: 0.580 - ETA: 1:10 - loss: 0.581 - ETA: 1:11 - loss: 0.581 - ETA: 1:10 - loss: 0.582 - ETA: 1:09 - loss: 0.582 - ETA: 1:09 - loss: 0.583 - ETA: 1:08 - loss: 0.583 - ETA: 1:07 - loss: 0.583 - ETA: 1:06 - loss: 0.583 - ETA: 1:05 - loss: 0.583 - ETA: 1:04 - loss: 0.583 - ETA: 1:03 - loss: 0.583 - ETA: 1:02 - loss: 0.583 - ETA: 1:02 - loss: 0.583 - ETA: 1:01 - loss: 0.583 - ETA: 1:01 - loss: 0.583 - ETA: 1:01 - loss: 0.583 - ETA: 1:00 - loss: 0.583 - ETA: 1:00 - loss: 0.583 - ETA: 59s - loss: 0.582 - ETA: 59s - loss: 0.58 - ETA: 58s - loss: 0.58 - ETA: 57s - loss: 0.58 - ETA: 56s - loss: 0.58 - ETA: 56s - loss: 0.58 - ETA: 55s - loss: 0.58 - ETA: 55s - loss: 0.58 - ETA: 54s - loss: 0.58 - ETA: 54s - loss: 0.58 - ETA: 54s - loss: 0.58 - ETA: 53s - loss: 0.58 - ETA: 53s - loss: 0.58 - ETA: 52s - loss: 0.58 - ETA: 52s - loss: 0.58 - ETA: 51s - loss: 0.58 - ETA: 51s - loss: 0.58 - ETA: 50s - loss: 0.58 - ETA: 50s - loss: 0.58 - ETA: 49s - loss: 0.58 - ETA: 48s - loss: 0.58 - ETA: 48s - loss: 0.58 - ETA: 48s - loss: 0.58 - ETA: 47s - loss: 0.58 - ETA: 47s - loss: 0.58 - ETA: 47s - loss: 0.58 - ETA: 46s - loss: 0.58 - ETA: 46s - loss: 0.58 - ETA: 45s - loss: 0.58 - ETA: 45s - loss: 0.58 - ETA: 45s - loss: 0.58 - ETA: 44s - loss: 0.58 - ETA: 44s - loss: 0.58 - ETA: 43s - loss: 0.58 - ETA: 43s - loss: 0.58 - ETA: 42s - loss: 0.58 - ETA: 42s - loss: 0.58 - ETA: 42s - loss: 0.58 - ETA: 41s - loss: 0.58 - ETA: 41s - loss: 0.58 - ETA: 40s - loss: 0.58 - ETA: 40s - loss: 0.58 - ETA: 40s - loss: 0.58 - ETA: 39s - loss: 0.58 - ETA: 39s - loss: 0.58 - ETA: 38s - loss: 0.58 - ETA: 38s - loss: 0.58 - ETA: 37s - loss: 0.58 - ETA: 37s - loss: 0.58 - ETA: 36s - loss: 0.58 - ETA: 36s - loss: 0.58 - ETA: 35s - loss: 0.58 - ETA: 35s - loss: 0.58 - ETA: 34s - loss: 0.58 - ETA: 34s - loss: 0.58 - ETA: 33s - loss: 0.58 - ETA: 33s - loss: 0.58 - ETA: 32s - loss: 0.58 - ETA: 32s - loss: 0.58 - ETA: 31s - loss: 0.58 - ETA: 31s - loss: 0.58 - ETA: 30s - loss: 0.58 - ETA: 30s - loss: 0.58 - ETA: 29s - loss: 0.58 - ETA: 29s - loss: 0.58 - ETA: 29s - loss: 0.58 - ETA: 28s - loss: 0.58 - ETA: 28s - loss: 0.58 - ETA: 27s - loss: 0.58 - ETA: 27s - loss: 0.58 - ETA: 26s - loss: 0.58 - ETA: 26s - loss: 0.58 - ETA: 26s - loss: 0.58 - ETA: 25s - loss: 0.58 - ETA: 25s - loss: 0.58 - ETA: 24s - loss: 0.58 - ETA: 24s - loss: 0.58 - ETA: 23s - loss: 0.58 - ETA: 23s - loss: 0.58 - ETA: 22s - loss: 0.58 - ETA: 22s - loss: 0.58 - ETA: 21s - loss: 0.58 - ETA: 21s - loss: 0.58 - ETA: 20s - loss: 0.58 - ETA: 20s - loss: 0.58 - ETA: 20s - loss: 0.58 - ETA: 19s - loss: 0.58 - ETA: 19s - loss: 0.58 - ETA: 18s - loss: 0.58 - ETA: 18s - loss: 0.58 - ETA: 17s - loss: 0.58 - ETA: 17s - loss: 0.58 - ETA: 16s - loss: 0.58 - ETA: 16s - loss: 0.58 - ETA: 15s - loss: 0.58 - ETA: 15s - loss: 0.58 - ETA: 15s - loss: 0.58 - ETA: 14s - loss: 0.58 - ETA: 14s - loss: 0.58 - ETA: 13s - loss: 0.58 - ETA: 13s - loss: 0.58 - ETA: 12s - loss: 0.58 - ETA: 12s - loss: 0.58 - ETA: 11s - loss: 0.58 - ETA: 11s - loss: 0.58 - ETA: 11s - loss: 0.58 - ETA: 10s - loss: 0.58 - ETA: 10s - loss: 0.58 - ETA: 9s - loss: 0.5820 - ETA: 9s - loss: 0.582 - ETA: 8s - loss: 0.582 - ETA: 8s - loss: 0.582 - ETA: 8s - loss: 0.582 - ETA: 7s - loss: 0.582 - ETA: 7s - loss: 0.582 - ETA: 6s - loss: 0.581 - ETA: 6s - loss: 0.581 - ETA: 5s - loss: 0.582 - ETA: 5s - loss: 0.582 - ETA: 5s - loss: 0.581 - ETA: 4s - loss: 0.581 - ETA: 4s - loss: 0.581 - ETA: 3s - loss: 0.581 - ETA: 3s - loss: 0.581 - ETA: 2s - loss: 0.581 - ETA: 2s - loss: 0.581 - ETA: 1s - loss: 0.581 - ETA: 1s - loss: 0.581 - ETA: 1s - loss: 0.581 - ETA: 0s - loss: 0.581 - ETA: 0s - loss: 0.581 - 72s 4ms/step - loss: 0.5819 - val_loss: 0.5809\n"
     ]
    },
    {
     "data": {
      "text/plain": [
       "<keras.callbacks.callbacks.History at 0x23732547438>"
      ]
     },
     "execution_count": 138,
     "metadata": {},
     "output_type": "execute_result"
    }
   ],
   "source": [
    "#auto encoder with batch size 128\n",
    "autoencoder.fit(X_train, X_train,\n",
    "                epochs= 3,\n",
    "                batch_size= 128,\n",
    "                shuffle= True,\n",
    "                validation_data= (X_test, X_test))"
   ]
  },
  {
   "cell_type": "code",
   "execution_count": 139,
   "metadata": {},
   "outputs": [
    {
     "data": {
      "text/plain": [
       "(6636, 32, 32, 3)"
      ]
     },
     "execution_count": 139,
     "metadata": {},
     "output_type": "execute_result"
    }
   ],
   "source": [
    "#new shape\n",
    "X_test.shape"
   ]
  },
  {
   "cell_type": "code",
   "execution_count": 140,
   "metadata": {},
   "outputs": [],
   "source": [
    "#prediction\n",
    "decoded_imgs = autoencoder.predict(X_test)"
   ]
  },
  {
   "cell_type": "code",
   "execution_count": 141,
   "metadata": {},
   "outputs": [],
   "source": [
    "predictions = model.predict(X_test)\n",
    "predictions = np.argmax(predictions, axis= 1)"
   ]
  },
  {
   "cell_type": "code",
   "execution_count": 142,
   "metadata": {},
   "outputs": [],
   "source": [
    "# Converting predicted category numbers to predicted labels\n",
    "unique_labels = np.unique(train['Class'].tolist())\n",
    "pred_labels = unique_labels[predictions]"
   ]
  },
  {
   "cell_type": "code",
   "execution_count": 146,
   "metadata": {},
   "outputs": [
    {
     "data": {
      "text/plain": [
       "<matplotlib.image.AxesImage at 0x23734e11320>"
      ]
     },
     "execution_count": 146,
     "metadata": {},
     "output_type": "execute_result"
    },
    {
     "data": {
      "image/png": "[encoded data removed]",
      "text/plain": [
       "<Figure size 432x288 with 1 Axes>"
      ]
     },
     "metadata": {
      "needs_background": "light"
     },
     "output_type": "display_data"
    }
   ],
   "source": [
    "#testing model\n",
    "i = np.random.choice(np.arange(len(test_data)))\n",
    "plt.title('{} - Predicted class : {}'.format(test['ID'].values[i], pred_labels[i]))\n",
    "plt.imshow(test_data[i])"
   ]
  },
  {
   "cell_type": "code",
   "execution_count": 147,
   "metadata": {},
   "outputs": [],
   "source": [
    "#save model\n",
    "subm = pd.DataFrame({'Class':pred_labels, 'ID':test.ID})\n",
    "subm.to_csv('predictions.csv', index=False)"
   ]
  },
  {
   "cell_type": "code",
   "execution_count": null,
   "metadata": {},
   "outputs": [],
   "source": []
  }
 ],
 "metadata": {
  "kernelspec": {
   "display_name": "Python 3",
   "language": "python",
   "name": "python3"
  },
  "language_info": {
   "codemirror_mode": {
    "name": "ipython",
    "version": 3
   },
   "file_extension": ".py",
   "mimetype": "text/x-python",
   "name": "python",
   "nbconvert_exporter": "python",
   "pygments_lexer": "ipython3",
   "version": "3.7.3"
  }
 },
 "nbformat": 4,
 "nbformat_minor": 2
}
